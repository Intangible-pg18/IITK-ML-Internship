{
  "nbformat": 4,
  "nbformat_minor": 0,
  "metadata": {
    "colab": {
      "name": "Copy of programmingdrill_4.ipynb",
      "provenance": [],
      "collapsed_sections": []
    },
    "kernelspec": {
      "name": "python3",
      "display_name": "Python 3"
    }
  },
  "cells": [
    {
      "cell_type": "markdown",
      "metadata": {
        "id": "BhucSdmiEH3C"
      },
      "source": [
        "# Drill #15\n",
        "<img src=\"https://drive.google.com/uc?id=1Vwskl6-_ETS_WPuvCn7fegQ-Hpv1SD5B\" width=\"500\">\n",
        "\n",
        "#### Expected Output\n",
        "<img src=\"https://drive.google.com/uc?id=1bmGzGlbhhrZdA9D23EPls9KcOjXXp1uG\" width=\"250\">"
      ]
    },
    {
      "cell_type": "code",
      "metadata": {
        "id": "L0LavgHPDyn6",
        "colab": {
          "base_uri": "https://localhost:8080/",
          "height": 50
        },
        "outputId": "ea17ed60-19e6-4334-8eb9-d0291909a72f"
      },
      "source": [
        "import math\n",
        "def print_sum_two(x,y):\n",
        "  sum_=x+y ##sum is also an inbuilt function in python. Therefore we are using the name sum_\n",
        "  print(f'Sum of {x} and {y} is {sum_}')\n",
        "def print_product_two(x,y):\n",
        "  product_=x*y\n",
        "  print(f'Product of {x} and {y} is {product_}')\n",
        "print_sum_two(2,4)\n",
        "print_product_two(2,4)"
      ],
      "execution_count": null,
      "outputs": [
        {
          "output_type": "stream",
          "text": [
            "Sum of 2 and 4 is 6\n",
            "Product of 2 and 4 is 8\n"
          ],
          "name": "stdout"
        }
      ]
    },
    {
      "cell_type": "markdown",
      "metadata": {
        "id": "u3hl7sRKPVKQ"
      },
      "source": [
        "# Drill #16\n",
        "<img src=\"https://drive.google.com/uc?id=1mSC8jIGJbuIxwNteHxtvPR4mYSWUOSN7\" width=\"500\">\n",
        "\n",
        "# Expected Output\n",
        "<img src=\"https://drive.google.com/uc?id=1y4_327qCXAinHKl4DoJGbycg4qD2Gyr5\" width=\"350\">"
      ]
    },
    {
      "cell_type": "code",
      "metadata": {
        "id": "VIxRMdz5Nvc-",
        "colab": {
          "base_uri": "https://localhost:8080/",
          "height": 101
        },
        "outputId": "8a9ab099-2e50-41cf-965d-510308de899f"
      },
      "source": [
        "print('Two numbers can be added to get ', 2 + 3)\n",
        "print('Two strings can be concatenated to get', '20' + '30')\n",
        "# print('But you can\\'t add a string and a number', '200' + 300 )\n",
        "## UnComment the above line to see what error it throws\n",
        "print('You can convert a string to a number and add it to another number like this', int('2000') + 3000)\n",
        "print('You can convert a number to a string and concatenate it to another string like this', '$' + str(20000))\n",
        "print(f'When I convert an int such as {20} to a float, it becomes {float(20)}') \n"
      ],
      "execution_count": null,
      "outputs": [
        {
          "output_type": "stream",
          "text": [
            "Two numbers can be added to get  5\n",
            "Two strings can be concatenated to get 2030\n",
            "You can convert a string to a number and add it to another number like this 5000\n",
            "You can convert a number to a string and concatenate it to another string like this $20000\n",
            "When I convert an int such as 20 to a float, it becomes 20.0\n"
          ],
          "name": "stdout"
        }
      ]
    },
    {
      "cell_type": "markdown",
      "metadata": {
        "id": "ewNxbmOYFlXV"
      },
      "source": [
        "#Drill #17\n",
        "<img src=\"https://drive.google.com/uc?id=1t6dJQmKlm4df5NQ5fnsuZgoVRH1HLcC9\" width=\"500\">\n",
        "\n",
        "### Expected Output\n",
        "<img src=\"https://drive.google.com/uc?id=1riilusrqyYw5H7hw4E8cydt79n3voNQ9\" width=\"300\">"
      ]
    },
    {
      "cell_type": "code",
      "metadata": {
        "id": "niQOYJQyE0pS",
        "colab": {
          "base_uri": "https://localhost:8080/",
          "height": 67
        },
        "outputId": "60330484-63db-4995-d798-435c764b7b38"
      },
      "source": [
        "import math\n",
        "def print_length_hypotenuse_1(a, b):\n",
        "  '''\n",
        "  Prints the length of the hypotenuse of a right triangle, given the other two sides\n",
        "  '''\n",
        "  print(f'Length of hypotenuse is {math.sqrt(a**2 + b**2)}')\n",
        "\n",
        "def print_length_hypotenuse_2(a, b):\n",
        "  print(f'Length of hypotenuse is {math.pow(math.pow(a, 2) + math.pow(b, 2), 0.5)}')\n",
        "\n",
        "def print_length_hypotenuse_3(a, b):\n",
        "  '''\n",
        "  Computes length of hypotenuse by finding the angle opposite to side a and then computing a / sin(angle_a)\n",
        "  '''\n",
        "  tan_a = a/b ## tan of angle opposite to side a\n",
        "  angle_a = math.atan(tan_a) ##angle opposite to side a\n",
        "  hypotenuse = a/math.sin(angle_a) \n",
        "  print(f'Length of hypotenuse is {hypotenuse}')\n",
        "\n",
        "print_length_hypotenuse_1(3, 4)\n",
        "print_length_hypotenuse_2(6, 8)\n",
        "print_length_hypotenuse_3(24, 7)\n"
      ],
      "execution_count": null,
      "outputs": [
        {
          "output_type": "stream",
          "text": [
            "Length of hypotenuse is 5.0\n",
            "Length of hypotenuse is 10.0\n",
            "Length of hypotenuse is 25.0\n"
          ],
          "name": "stdout"
        }
      ]
    },
    {
      "cell_type": "markdown",
      "metadata": {
        "id": "4j9pe1BJV9DE"
      },
      "source": [
        "# Drill #18\n",
        "<img src=\"https://drive.google.com/uc?id=1X_-RceCPkuhOhSqmGbIZy2ZPRUMNyB_C\" width=\"500\">\n",
        "\n",
        "### Expected Output\n",
        "<img src=\"https://drive.google.com/uc?id=1cVEefhJen7DtHq7UUcYoM2QJaI45lWZB\"\n",
        "width=\"300\">\n"
      ]
    },
    {
      "cell_type": "code",
      "metadata": {
        "id": "i-uYdDhARuvF",
        "colab": {
          "base_uri": "https://localhost:8080/",
          "height": 67
        },
        "outputId": "2ecbb3c4-9fa7-41f9-b5cc-7a90ba9cc8cf"
      },
      "source": [
        "from math import pi\n",
        "from math import pow\n",
        "\n",
        "def print_circle_area(radius): \n",
        "  area = pi * pow(radius, 2) ## pow raises radius to the power 2\n",
        "  print(f'Area of circle is {area}')\n",
        "\n",
        "area = print_circle_area(5)\n",
        "## This variable area is different from the parameter area inside function print_circle area\n",
        "## because function variables are local\n",
        "\n",
        "print('This is the value returned by function -', area) ## Because the function is a void function\n",
        "print('Type of value returned by funtion -', type(area)) "
      ],
      "execution_count": null,
      "outputs": [
        {
          "output_type": "stream",
          "text": [
            "Area of circle is 78.53981633974483\n",
            "This is the value returned by function - None\n",
            "Type of value returned by funtion - <class 'NoneType'>\n"
          ],
          "name": "stdout"
        }
      ]
    },
    {
      "cell_type": "markdown",
      "metadata": {
        "id": "8YaaOk-0eedA"
      },
      "source": [
        "#Drill #19\n",
        "A function object is a value you can assign to a variable or pass as an argument. <br>\n",
        "<img src=\"https://drive.google.com/uc?id=1lxzwS1zLfv_ZRWLlnZhWxhfsPSutLHMi\" width=\"400\">\n",
        "\n",
        "\n",
        "### Expected Output:\n",
        "<img src=\"https://drive.google.com/uc?id=1Z_Jl4HnMxR_jCmA7-j8Q2wSugYdfxL3e\" width=\"100\">"
      ]
    },
    {
      "cell_type": "code",
      "metadata": {
        "id": "o5Gy_oITYZuu",
        "colab": {
          "base_uri": "https://localhost:8080/",
          "height": 50
        },
        "outputId": "54c0e9dc-99bf-476a-b6a4-91289bff3ab1"
      },
      "source": [
        "def do_twice(f):\n",
        "  \"\"\"\n",
        "  This function calls any function object that is passed to it twice\n",
        "  \"\"\"\n",
        "  f()\n",
        "  f()\n",
        "\n",
        "def print_spam():\n",
        "  print('spam')\n",
        "\n",
        "do_twice(print_spam) "
      ],
      "execution_count": null,
      "outputs": [
        {
          "output_type": "stream",
          "text": [
            "spam\n",
            "spam\n"
          ],
          "name": "stdout"
        }
      ]
    }
  ]
}