{
  "nbformat": 4,
  "nbformat_minor": 0,
  "metadata": {
    "colab": {
      "name": "programming_ ___drill_7.ipynb",
      "provenance": [],
      "collapsed_sections": []
    },
    "kernelspec": {
      "name": "python3",
      "display_name": "Python 3"
    }
  },
  "cells": [
    {
      "cell_type": "markdown",
      "metadata": {
        "id": "LwRm_X6wpq5L"
      },
      "source": [
        "#Drill #26\n",
        "<img src=\"https://drive.google.com/uc?id=15hDyhOUDhlurykvBy4vj57IYDAkqIMBP\" width=\"700\">\n",
        "\n",
        "#Expected Output\n",
        "<img src=\"https://drive.google.com/uc?id=19Kh35vzRS1yULYEAloMwA1yI6ajfPEI7\" width=\"100\">"
      ]
    },
    {
      "cell_type": "code",
      "metadata": {
        "id": "bGaA_J_Bpapm",
        "colab": {
          "base_uri": "https://localhost:8080/",
          "height": 84
        },
        "outputId": "48e75384-028c-4da4-8fca-d64b05306a9a"
      },
      "source": [
        "stuff = {'name': 'Hari','age': '16', 'height': 6*12. + 2} \n",
        "print(stuff['name']) \n",
        "print(stuff['age'])\n",
        "print(stuff['height']) \n",
        "## add one more field \n",
        "stuff['city'] = 'Kanpur' \n",
        "print(stuff['city'])"
      ],
      "execution_count": null,
      "outputs": [
        {
          "output_type": "stream",
          "text": [
            "Hari\n",
            "16\n",
            "74.0\n",
            "Kanpur\n"
          ],
          "name": "stdout"
        }
      ]
    },
    {
      "cell_type": "markdown",
      "metadata": {
        "id": "nk5zDtNMtJSI"
      },
      "source": [
        "# Drill #27\n",
        "<img src=\"https://drive.google.com/uc?id=1eH9ep0AX9B7t6841wqWzgF5Z_3yXfolK\" width=\"700\">\n",
        "\n",
        "# Expected Output\n",
        "<img src=\"https://drive.google.com/uc?id=1s9igAQj39y7jp4u4kWQEYKy_Rh0bStH-\" width=\"400\">"
      ]
    },
    {
      "cell_type": "code",
      "metadata": {
        "id": "SfYRKcY-tCOE",
        "colab": {
          "base_uri": "https://localhost:8080/",
          "height": 84
        },
        "outputId": "239f3b2d-946f-458e-a72e-79b8ef805498"
      },
      "source": [
        "uc = 'PYTHON ROCKS'\n",
        "print(f'This is all uppercase - {uc}')\n",
        "print(f'Now this is lowercase - {uc.lower()}')\n",
        "uc_split = uc.split(' ')\n",
        "print(f'I have split the string in two - {uc_split[0]} and {uc_split[1]}')\n",
        "print(f'I am joining the split string again to get - {uc_split[0] + \" really \" + uc_split[1]}')"
      ],
      "execution_count": null,
      "outputs": [
        {
          "output_type": "stream",
          "text": [
            "This is all uppercase - PYTHON ROCKS\n",
            "Now this is lowercase - python rocks\n",
            "I have split the string in two - PYTHON and ROCKS\n",
            "I am joining the split string again to get - PYTHON really ROCKS\n"
          ],
          "name": "stdout"
        }
      ]
    },
    {
      "cell_type": "markdown",
      "metadata": {
        "id": "IYxSb5vAuoQs"
      },
      "source": [
        "# Drill #28\n",
        "<img src=\"https://drive.google.com/uc?id=1uchcSeNEcXeL-a5uRNAte-tQduVcds-X\" width=\"700\"> //\n",
        "<img src=\"https://drive.google.com/uc?id=16hZqIZ4GYCy-OWRVG4h1-M-_x__thrKt\" width=\"700\"> //\n",
        "<img src=\"https://drive.google.com/uc?id=1Ktb4Wf0A82_aD_L0otp74o3lyIjQuXCn\" width=\"700\"> //\n",
        "\n",
        "# Expected Output\n",
        "<img src=\"https://drive.google.com/uc?id=1_GcsstP7aMtm1vAUh4k6AaK5kaWDqO7V\" width=\"400\">"
      ]
    },
    {
      "cell_type": "code",
      "metadata": {
        "id": "6NfW4brctG9D",
        "colab": {
          "base_uri": "https://localhost:8080/",
          "height": 622
        },
        "outputId": "92b986c1-daea-4b53-a925-4dbb67a24833"
      },
      "source": [
        "1 # create a mapping of state to abbreviation\n",
        "states = {\n",
        "    'Uttar Pradesh' : 'UP',\n",
        "    'Andhra Pradesh' : 'AP',\n",
        "    'Telangana' : 'TL',\n",
        "    'West Bengal': 'WB',\n",
        "    'Tamil Nadu': 'TN'\n",
        "}    \n",
        "# create a basic set of states and some cities in them \n",
        "cities = {\n",
        "    'UP' : 'Kanpur',\n",
        "    'TN': 'Chennai',\n",
        "    'WB': 'Kolkata' \n",
        "}\n",
        "# add some more cities\n",
        "cities['AP'] = 'Visakhapatnam'\n",
        "cities['TL'] = 'Hyderabad' \n",
        "\n",
        "# print out some cities\n",
        "print('-' * 10)\n",
        "print('UP state has: ', cities['UP'])\n",
        "print('AP state has: ', cities['AP'])\n",
        "# print some states\n",
        "print('-' * 20)\n",
        "print('West Bengal\\'s abbreviation is: ', states['West Bengal'])\n",
        "print('Tamil Nadu\\'s abbreviation is: ', states['Tamil Nadu'])\n",
        "# do it by using the states then cities dict\n",
        "print('-' * 30)\n",
        "print(\"Tamil Nadu has: \", cities[states['Tamil Nadu']])\n",
        "print(\"West Bengal has: \", cities[states['West Bengal']])\n",
        "# print every state abbreviation\n",
        "print('-' * 40)\n",
        "for state, abbrev in list(states.items()):\n",
        "  print(f\"{state} is abbreviated {abbrev}\")\n",
        "#print every city in state\n",
        "print('-'*50)\n",
        "for abbrev,city in list(cities.items()):\n",
        "  print(f\"{abbrev} has the city {city}\")\n",
        "#now do both at the same time\n",
        "print('-'*60)\n",
        "for state,abbrev in list(states.items()):\n",
        "  print(f\"{state} is abbreviated {abbrev}\")\n",
        "  print(f\"and has city{cities[abbrev]}\")\n",
        "print('-' * 70)\n",
        "# Safely get a abbreviation by state that might not be there\n",
        "state = states.get('Jharkhand')\n",
        "if not state:\n",
        "  print(\"Sorry, no Jharkhand\")\n",
        "# get city with default value\n",
        "city = cities.get('HN','Does not exist')\n",
        "print(f\"The city for the state HN is : {city}\")"
      ],
      "execution_count": null,
      "outputs": [
        {
          "output_type": "stream",
          "text": [
            "----------\n",
            "UP state has:  Kanpur\n",
            "AP state has:  Visakhapatnam\n",
            "--------------------\n",
            "West Bengal's abbreviation is:  WB\n",
            "Tamil Nadu's abbreviation is:  TN\n",
            "------------------------------\n",
            "Tamil Nadu has:  Chennai\n",
            "West Bengal has:  Kolkata\n",
            "----------------------------------------\n",
            "Uttar Pradesh is abbreviated UP\n",
            "Andhra Pradesh is abbreviated AP\n",
            "Telangana is abbreviated TL\n",
            "West Bengal is abbreviated WB\n",
            "Tamil Nadu is abbreviated TN\n",
            "--------------------------------------------------\n",
            "UP has the city Kanpur\n",
            "TN has the city Chennai\n",
            "WB has the city Kolkata\n",
            "AP has the city Visakhapatnam\n",
            "TL has the city Hyderabad\n",
            "------------------------------------------------------------\n",
            "Uttar Pradesh is abbreviated UP\n",
            "ERROR! Session/line number was not unique inand has cityKanpur database. History logging moved to new session 66\n",
            "\n",
            "Andhra Pradesh is abbreviated AP\n",
            "and has cityVisakhapatnam\n",
            "Telangana is abbreviated TL\n",
            "and has cityHyderabad\n",
            "West Bengal is abbreviated WB\n",
            "and has cityKolkata\n",
            "Tamil Nadu is abbreviated TN\n",
            "and has cityChennai\n",
            "----------------------------------------------------------------------\n",
            "Sorry, no Jharkhand\n",
            "The city for the state HN is : Does not exist\n"
          ],
          "name": "stdout"
        }
      ]
    }
  ]
}