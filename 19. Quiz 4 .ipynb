{
  "nbformat": 4,
  "nbformat_minor": 0,
  "metadata": {
    "colab": {
      "name": "C of Quiz 4.ipynb",
      "provenance": [],
      "collapsed_sections": []
    },
    "kernelspec": {
      "name": "python3",
      "display_name": "Python 3"
    }
  },
  "cells": [
    {
      "cell_type": "markdown",
      "metadata": {
        "id": "bSbDfGN3jicM"
      },
      "source": [
        "##1"
      ]
    },
    {
      "cell_type": "markdown",
      "metadata": {
        "id": "R5Lhc-jAjoQ8"
      },
      "source": [
        "###Q. Confusion Matrix\n",
        "Write a function that takes two 1-d numpy arrays $y$ and $yd$ as inputs and returns two outputs - confusion matrix as a 2-d numpy array and order of classes in the confusion matrix as a 1-d numpy array. \n",
        "\n",
        "<img src=\"https://drive.google.com/uc?id=1TfOYFOGMH91b_tewl6RzEgYYxaxThYLb\" width = \"400\">\n",
        "\n",
        " <br>\n",
        "For eg., <br>\n",
        "$y$ = ['cat', 'cat', 'dog', 'human', 'human', 'human'] <br>\n",
        "$yd$ = ['cat', 'dog', 'dog', 'dog', 'cat', 'human']\n",
        "\n",
        "\n",
        "```confusion_matrix($y$, $yd$)``` -> ```([[1, 0, 1], [1, 1, 1], [0, 0, 1]], ['cat', 'dog', 'human'])``` <br>\n",
        "\n",
        "In the above example, the order of classes in the confusion matrix is cat, dog, human. (Consider list of unique classes in $yd$ as list of all classes)"
      ]
    },
    {
      "cell_type": "code",
      "metadata": {
        "id": "BVHaw2mpjn_b"
      },
      "source": [
        "import sklearn.metrics as ssc\n",
        "import numpy as np\n",
        "def confusion_matrix(y, yd):\n",
        "  \"\"\"\n",
        "  Inputs:\n",
        "    y : 1-d numpy array, model outputs\n",
        "    yd: 1-d numpy array, desired outputs or ground truth\n",
        "  Outputs:\n",
        "    cm: 2-d numpy array of shape (N, N) where N is number of unique classes in yd\n",
        "    classes: 1-d numpy array, unique classes in the order in which they occur in cm\n",
        "  \"\"\"\n",
        "  n=ssc.confusion_matrix(yd,y)\n",
        "  m=np.unique(yd)\n",
        "  t=(n,m)\n",
        "  return t"
      ],
      "execution_count": null,
      "outputs": []
    },
    {
      "cell_type": "markdown",
      "metadata": {
        "id": "X9RgacqNk1ma"
      },
      "source": [
        "##2"
      ]
    },
    {
      "cell_type": "markdown",
      "metadata": {
        "id": "8vkKyIfuk4DY"
      },
      "source": [
        "###Q. Max F1 score\n",
        "Write a function that takes a confusion matrix as input and returns index of the class with the maximum f1 score."
      ]
    },
    {
      "cell_type": "code",
      "metadata": {
        "id": "_kvRy5-Ljh_N"
      },
      "source": [
        "from sklearn.metrics import f1_score\n",
        "def max_f1_score(cm):\n",
        "  \"\"\"\n",
        "  Inputs:\n",
        "    cm : confusion matrix, 2-d numpy array\n",
        "  Outputs:\n",
        "    integer, index of class with max f1 score\n",
        "  \"\"\"\n",
        "  t=np.shape(cm)\n",
        "  l=[]\n",
        "  for i in range(0,t[0]):\n",
        "    p=cm[i][i]/np.sum(cm[:,i])\n",
        "    r=cm[i][i]/np.sum(cm[i,:])\n",
        "    l.append(2*((p*r)/(p+r)))\n",
        "    print(l)\n",
        "  return l.index(max(l))"
      ],
      "execution_count": null,
      "outputs": []
    },
    {
      "cell_type": "markdown",
      "metadata": {
        "id": "wKl_xV0nk8s8"
      },
      "source": [
        "##3"
      ]
    },
    {
      "cell_type": "markdown",
      "metadata": {
        "id": "XtUKzpmon4P9"
      },
      "source": [
        "###Q. Most confused class\n",
        "Write a function that takes a confusion matrix as input and returns index of the class that occurs most frequently as the result of a misclassification. <br>\n",
        "For eg., if $a$ is the correct class of a sample but model misclassifies it as $c$ in two cases. <br>\n",
        "And in another case, $b$ is the correct class of a sample but the model misclassifies it as $c$. <br>\n",
        "So in this way $c$ has occurred 3 times as the result of misclassification. <br>\n"
      ]
    },
    {
      "cell_type": "code",
      "metadata": {
        "id": "6MMW0Q8Swhl2"
      },
      "source": [
        "def most_confused_class(cm):\n",
        "  \"\"\"\n",
        "  Inputs:\n",
        "    cm : confusion matrix, 2-d numpy array\n",
        "  Outputs:\n",
        "    integer, index of class which is most confused\n",
        "  \"\"\"\n",
        "  t=np.shape(cm)\n",
        "  l=[]\n",
        "  for i in range(0,t[0]):\n",
        "    s=0\n",
        "    for j in range(0,t[0]):\n",
        "      if(i!=j):\n",
        "        s+=cm[j][i]\n",
        "    l.append(s)\n",
        "    print(l)\n",
        "  return(l.index(max(l)))"
      ],
      "execution_count": null,
      "outputs": []
    },
    {
      "cell_type": "markdown",
      "metadata": {
        "id": "z4Ymvthkmfpq"
      },
      "source": [
        "## 4"
      ]
    },
    {
      "cell_type": "markdown",
      "metadata": {
        "id": "JAQGwMjkk-fp"
      },
      "source": [
        "###Q. MSE\n",
        "Write a function that takes two 1-d numpy arrays ($y$ and $yd$) and returns the mean squared error, defined as \n",
        "$$\n",
        "mse = \\frac{1}{N}\\sum_{i=1}^{N}{(yd_i - y_i)^2}\n",
        "$$ "
      ]
    },
    {
      "cell_type": "code",
      "metadata": {
        "id": "hvu_53FBmgvA"
      },
      "source": [
        "def mse(y, yd):\n",
        "  \"\"\"\n",
        "  Inputs:\n",
        "    y: 1-d Numpy array of floats\n",
        "    yd: 1-d Numpy array of floats\n",
        "  Outputs:\n",
        "    mse: float, mean squared error\n",
        "  \"\"\"\n",
        "  s=y.shape\n",
        "  print(s)\n",
        "  return (np.sum(pow((yd-y),2)))/s[0]"
      ],
      "execution_count": null,
      "outputs": []
    },
    {
      "cell_type": "markdown",
      "metadata": {
        "id": "aFPcPG0anFdj"
      },
      "source": [
        "##5"
      ]
    },
    {
      "cell_type": "markdown",
      "metadata": {
        "id": "HgSaxXjwmuYn"
      },
      "source": [
        "###Q. Fraction of MSE\n",
        "Write a function that takes two 1-d numpy arrays ($y$ and $yd$) and does the following - \n",
        "- It computes the  $\\text{total squared error}$ first. ($\\text{total squared error } = mse*N$) \n",
        "- It computes total squared error of the 20% of samples contributing most toward the $\\text{total squared error}$ which is $\\text{tot_20}$\n",
        "- It returns the fraction $\\frac{\\text{tot_20}}{\\text{total squared error}}$"
      ]
    },
    {
      "cell_type": "code",
      "metadata": {
        "id": "BpMpqBa9m4RM"
      },
      "source": [
        "def fraction_mse_20(y, yd):\n",
        "  \"\"\"\n",
        "  Inputs:\n",
        "    y: 1-d Numpy array of floats\n",
        "    yd: 1-d Numpy array of floats\n",
        "  Outputs:\n",
        "    float, tot_20/total_squared_error\n",
        "  \"\"\"\n",
        "  l=[]\n",
        "  for i in range(len(y)):\n",
        "    l.append(pow((yd[i]-y[i]),2))\n",
        "  l.sort(reverse=True)\n",
        "  p=np.array(l)\n",
        "  total_squared_error=np.sum(p)\n",
        "  if(float(0.2*len(p))-int(0.2*len(p))>=0.5):\n",
        "    k=int(0.2*len(p))+1\n",
        "  else:\n",
        "    k=int(0.2*len(p))\n",
        "  tot_20=np.sum(p[0:k])\n",
        "  return(tot_20/total_squared_error)"
      ],
      "execution_count": null,
      "outputs": []
    },
    {
      "cell_type": "code",
      "metadata": {
        "id": "JYl4HoZbmC19"
      },
      "source": [
        ""
      ],
      "execution_count": null,
      "outputs": []
    }
  ]
}