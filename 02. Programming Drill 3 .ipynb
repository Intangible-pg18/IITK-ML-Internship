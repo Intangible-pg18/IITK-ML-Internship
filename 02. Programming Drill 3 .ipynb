{
  "nbformat": 4,
  "nbformat_minor": 0,
  "metadata": {
    "colab": {
      "name": "Copy of programming==drill_3.ipynb",
      "provenance": [],
      "collapsed_sections": []
    },
    "kernelspec": {
      "name": "python3",
      "display_name": "Python 3"
    }
  },
  "cells": [
    {
      "cell_type": "markdown",
      "metadata": {
        "id": "8GceV11ItfCq"
      },
      "source": [
        "# Drill #11\n",
        "<img src=\"https://drive.google.com/uc?id=1KziD8gWKHs8aPI0OgJGYkbWisjUdHn6t\" width=\"400\">\n",
        "\n",
        "#### Expected Output\n",
        "<img src=\"https://drive.google.com/uc?id=1O0y1sqSsXI61CeW9ppaHgX4-YuBPGtWR\" width=\"250\">\n"
      ]
    },
    {
      "cell_type": "code",
      "metadata": {
        "id": "AysXk24zCfvQ",
        "colab": {
          "base_uri": "https://localhost:8080/",
          "height": 67
        },
        "outputId": "c328f91a-5ca9-4263-87e3-2e4f2bd12ea9"
      },
      "source": [
        "def print_two(arg1, arg2):\n",
        "  print(f\"arg1: {arg1}, arg2:{arg2}\")\n",
        "\n",
        "# This takes only one argument\n",
        "def print_one(argl):\n",
        "  print(f\"arg1: {argl}\")\n",
        "# This takes no arguments\n",
        "def print_none():\n",
        "  print(\"I got nothing to print\")\n",
        "  \n",
        "print_two(\"Machine Learning\", \"Data Science\")\n",
        "print_one(\"First!\")\n",
        "print_none()"
      ],
      "execution_count": null,
      "outputs": [
        {
          "output_type": "stream",
          "text": [
            "arg1: Machine Learning, arg2:Data Science\n",
            "arg1: First!\n",
            "I got nothing to print\n"
          ],
          "name": "stdout"
        }
      ]
    },
    {
      "cell_type": "markdown",
      "metadata": {
        "id": "Q43TbTUaugqt"
      },
      "source": [
        "If you encounter errors, ask yourself the following questions:\n",
        " - Did you start your function definition with ```def```?\n",
        " - Does your function name have only characters and ```_``` (underscore) characters?\n",
        " - Did you put an open parenthesis just after the function name?\n",
        " - Did you put your arguments after the parenthesis ( separated by commas?\n",
        " - Did you put a close parenthesis and a colon ```):``` after the arguments?\n",
        " - Did you indent all lines of code you want in the function four spaces? No more, no less\n",
        " - Did you end your function by going back to writing with no indent (also called _dedenting_)\n",
        "\n",
        " When you run (_call_ or _use_) a function, check these things:\n",
        " - Did you call/use/run the function by typing its name correctly?\n",
        " - Did you put the ```(``` character after the name to run it?\n",
        " - Did you put the values you want into the parenthesis separated by commas?\n",
        " - Did you end the function call with a ```)``` character?\n",
        " <br>\n",
        " \n",
        "**Remember** that we mean the same thing when we say _run_, _use_ or _call_ a function \n"
      ]
    },
    {
      "cell_type": "markdown",
      "metadata": {
        "id": "WvVKv43d8g4V"
      },
      "source": [
        "#Drill #12\n",
        "<img src=\"https://drive.google.com/uc?id=1owL5UeOunHSqQ41G8PS-YLb12st1xHaw\" width=\"400\">\n",
        "\n",
        "#### Expected Output\n",
        "<img src=\"https://drive.google.com/uc?id=1ZMI0WbXvMpz2l2NHl2Jqt6ww9ErUJvDE\" width=\"300\">\n",
        "\n"
      ]
    },
    {
      "cell_type": "code",
      "metadata": {
        "id": "o5crIxDPwKL-",
        "colab": {
          "base_uri": "https://localhost:8080/",
          "height": 286
        },
        "outputId": "1e60e945-35f2-4d09-a24f-17241e3f1554"
      },
      "source": [
        "def apples_and_oranges(apple_count, orange_count):\n",
        "  print(f\"You have {apple_count} apples\")\n",
        "  print(f\"You have {orange_count} oranges\")\n",
        "  print(\"Lets have a fruit party!\")\n",
        "\n",
        "print(\"We can give the function numbers directly:\")\n",
        "apples_and_oranges(20, 30)\n",
        "\n",
        "print(\"OR, we can use variables from our script:\")\n",
        "apples = 10\n",
        "oranges = 20 \n",
        "\n",
        "apples_and_oranges(apples, oranges)\n",
        "\n",
        "print(\"We can pass any other expression that has a value too:\")\n",
        "apples_and_oranges(10 + 20, 3 + 7)\n",
        "\n",
        "print(\"Or, expressions with variables:\")\n",
        "apples_and_oranges(apples + 20, oranges + 2)"
      ],
      "execution_count": null,
      "outputs": [
        {
          "output_type": "stream",
          "text": [
            "We can give the function numbers directly:\n",
            "You have 20 apples\n",
            "You have 30 oranges\n",
            "Lets have a fruit party!\n",
            "OR, we can use variables from our script:\n",
            "You have 10 apples\n",
            "You have 20 oranges\n",
            "Lets have a fruit party!\n",
            "We can pass any other expression that has a value too:\n",
            "You have 30 apples\n",
            "You have 10 oranges\n",
            "Lets have a fruit party!\n",
            "Or, expressions with variables:\n",
            "You have 30 apples\n",
            "You have 22 oranges\n",
            "Lets have a fruit party!\n"
          ],
          "name": "stdout"
        }
      ]
    },
    {
      "cell_type": "markdown",
      "metadata": {
        "id": "am6nY_mJ3yBp"
      },
      "source": [
        "#Drill #13 - Functions within functions\n",
        "<img src=\"https://drive.google.com/uc?id=1amAbIEgZAp-iTYMUxHVo-oT5Z9btjy8P\" width=\"400\">\n",
        "\n",
        "#### Expected Output\n",
        "<img src=\"https://drive.google.com/uc?id=1iNZC4hgLlBJI0jYJHCbEmlVzOFN7iq4m\" width=\"300\">"
      ]
    },
    {
      "cell_type": "code",
      "metadata": {
        "id": "VhpRTLCX11G1",
        "colab": {
          "base_uri": "https://localhost:8080/",
          "height": 101
        },
        "outputId": "69095d70-89dc-42a9-8e79-483a465c3047"
      },
      "source": [
        "def print_id(name, age, gender):\n",
        "  def print_border():\n",
        "    print('*'*15 + 'Identity Proof' + '*'*15)\n",
        "    \n",
        "  print_border()\n",
        "  print(f'Name: {name}')\n",
        "  print(f'Age: {age}')\n",
        "  print(f'Gender: {gender}')\n",
        "  print_border()\n",
        "  \n",
        "print_id('Hari', 16, 'Male')"
      ],
      "execution_count": null,
      "outputs": [
        {
          "output_type": "stream",
          "text": [
            "***************Identity Proof***************\n",
            "Name: Hari\n",
            "Age: 16\n",
            "Gender: Male\n",
            "***************Identity Proof***************\n"
          ],
          "name": "stdout"
        }
      ]
    },
    {
      "cell_type": "markdown",
      "metadata": {
        "id": "XFN8Tb1gtNRQ"
      },
      "source": [
        "#Drill #14 - Functions using other functions\n",
        "<img src=\"https://drive.google.com/uc?id=1UC2CAhaFVNtkJDttmFto4QYfMUNABij8\" width=\"400\">\n",
        "\n",
        "<img src=\"https://drive.google.com/uc?id=1ENvVBzjTSZgePRdj6Zs9JPrYFq-kogky\" width=\"250\">"
      ]
    },
    {
      "cell_type": "code",
      "metadata": {
        "id": "nVgUHzIvtqUi",
        "colab": {
          "base_uri": "https://localhost:8080/",
          "height": 118
        },
        "outputId": "b144a5da-619b-45ee-cbde-4b903579582e"
      },
      "source": [
        "def print_twice(string):\n",
        "  print(string + '\\n' + string)\n",
        "  \n",
        "def print_twice_with_star_border(string):\n",
        "  print('*'*20)\n",
        "  print_twice(string)\n",
        "  print('*'*20)\n",
        "    \n",
        "print_twice('Hello Hari!')\n",
        "print_twice_with_star_border('Hello Madhav!')"
      ],
      "execution_count": null,
      "outputs": [
        {
          "output_type": "stream",
          "text": [
            "Hello Hari!\n",
            "Hello Hari!\n",
            "********************\n",
            "Hello Madhav!\n",
            "Hello Madhav!\n",
            "********************\n"
          ],
          "name": "stdout"
        }
      ]
    }
  ]
}