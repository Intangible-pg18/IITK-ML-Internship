{
  "nbformat": 4,
  "nbformat_minor": 0,
  "metadata": {
    "colab": {
      "name": "Copy of Assignment_2.ipynb",
      "provenance": [],
      "collapsed_sections": []
    },
    "kernelspec": {
      "name": "python3",
      "display_name": "Python 3"
    }
  },
  "cells": [
    {
      "cell_type": "markdown",
      "metadata": {
        "id": "85Po9342eFZZ"
      },
      "source": [
        "##Q. Min Min Min\n",
        "Write a program that does the following\n",
        "- Takes 3 numbers as input from the user\n",
        "- Finds minimum of the 3 numbers and prints it"
      ]
    },
    {
      "cell_type": "code",
      "metadata": {
        "id": "wPjz3AvIeYPG",
        "colab": {
          "base_uri": "https://localhost:8080/",
          "height": 177
        },
        "outputId": "2130ae21-dc38-499f-e4f8-dd367a5fa826"
      },
      "source": [
        "def input_():\n",
        "  a=int(input(\"Enter first number: \"))\n",
        "  b=int(input(\"Enter second number: \"))\n",
        "  c=int(input(\"Enter third number: \"))\n",
        "  if(a==b and b==c):\n",
        "    print(\"All three numbers can't be the same\")\n",
        "    input_()\n",
        "  elif(a<=b and a<=c):\n",
        "    print(f\"{a} is the smallest number\")\n",
        "  elif(b<=a and b<=c):\n",
        "    print(f\"{b} is the smallest number\")\n",
        "  else:\n",
        "    print(f\"{c} is the smallest number\")\n",
        "\n",
        "input_()"
      ],
      "execution_count": null,
      "outputs": [
        {
          "output_type": "stream",
          "text": [
            "ERROR! Session/line number was not unique in database. History logging moved to new session 60\n",
            "Enter first number: 8\n",
            "Enter second number: 8\n",
            "Enter third number: 8\n",
            "All three numbers can't be the same\n",
            "Enter first number: 5\n",
            "Enter second number: 6\n",
            "Enter third number: 9\n",
            "5 is the smallest number\n"
          ],
          "name": "stdout"
        }
      ]
    },
    {
      "cell_type": "markdown",
      "metadata": {
        "id": "7GZnA2DVZnfg"
      },
      "source": [
        "#Q. Proving Fermat\n",
        "Fermat's last theorem says that there are no positive integers $a, b, c$ such that \n",
        "$$\n",
        "a^n + b^n = c^n\n",
        "$$\n",
        "for any values of $n > 2$\n",
        "- Write a function named ```check_fermat``` that takes four parameters - ```a, b, c``` and ```n``` and checks to see if fermat's theorem holds. If ```n > 2``` and it turns out to be true that \n",
        "$$\n",
        "a^n + b^n = c^n\n",
        "$$ the function should print, \"Oh No! Fermat was wrong!\". Otherwise the function should print, \"No that doesn't work\"\n",
        "- Write a program that takes four inputs from the users - ```a, b, c``` and ```n``` and converts them to integers and uses check_fermat to check whether they violate Fermat's theorem."
      ]
    },
    {
      "cell_type": "code",
      "metadata": {
        "id": "5ca0eTDbZZG4",
        "colab": {
          "base_uri": "https://localhost:8080/",
          "height": 141
        },
        "outputId": "273604e0-f148-48c7-9784-efd7f0da00aa"
      },
      "source": [
        "def check_fermat(a,b,c,n):\n",
        "  if(n<=2):\n",
        "    print(\"value of n should be greater than 2\")\n",
        "    n=int(input(\"Enter value of n: \"))\n",
        "    check_fermat(a,b,c,n)\n",
        "  else:\n",
        "    if(((a**n)+(b**n))==(c**n)):\n",
        "      print(\"Oh No! Fermat was wrong!\")\n",
        "    else:\n",
        "      print(\"No that doesn't work\")\n",
        "\n",
        "a=int(input(\"Enter first positive number: \"))\n",
        "b=int(input(\"Enter second positive number: \"))\n",
        "c=int(input(\"Enter third positive number: \"))\n",
        "n=int(input(\"Enter value of n: \"))\n",
        "\n",
        "check_fermat(a,b,c,n)"
      ],
      "execution_count": null,
      "outputs": [
        {
          "output_type": "stream",
          "text": [
            "Enter first positive number: 1\n",
            "Enter second positive number: 2\n",
            "Enter third positive number: 3\n",
            "Enter value of n: 1\n",
            "value of n should be greater than 2\n",
            "Enter value of n: 4\n",
            "No that doesn't work\n"
          ],
          "name": "stdout"
        }
      ]
    },
    {
      "cell_type": "markdown",
      "metadata": {
        "id": "htwKREd7bD_g"
      },
      "source": [
        "#Q. Potential triangularity\n",
        "If you are given three sticks, you may or may not be able to arrange them in a triangle. For example,if one of the sticks is 12inches long and the other two are  1inch long, it is clear that you will not be able to get the short sticks to meet in the middle. For any three lengths, there is a simple test to see if it is possible to form a triangle. \n",
        "\n",
        "_If any of the three lengths is greater than the sum of the other two, then you cannot form a triangle. Otherwise, you can. (If the sum of two lengths equals the third, they form what is called a “degenerate” triangle or a straight line segment.)_\n",
        "\n",
        "- Write a function named ```is_triangle``` that takes three integers as arguments, and that prints either \"Yes\" or \"No\", depending on whether you can or cannot form a triangle using sticks of given lengths.\n",
        "- Write a function that prompts the user to input three stick lengths, converts them to integers, and uses is_triangle to check whether sitcks with the given lengths can form a triangle. "
      ]
    },
    {
      "cell_type": "code",
      "metadata": {
        "id": "QI1ZvUzLcWSS",
        "colab": {
          "base_uri": "https://localhost:8080/",
          "height": 88
        },
        "outputId": "88b9b885-94c1-4acf-e594-8f063230d904"
      },
      "source": [
        "def is_triangle(a,b,c):\n",
        "  if(a>(b+c) or b>(a+c) or c>(a+b)):\n",
        "    print(\"No\")\n",
        "  else:\n",
        "    print(\"Yes\")\n",
        "def input_():\n",
        "  a=int(input(\"Enter length of first stick: \"))\n",
        "  b=int(input(\"Enter length of second stick: \"))\n",
        "  c=int(input(\"Enter length of third stick: \"))\n",
        "  is_triangle(a,b,c)\n",
        "input_()\n"
      ],
      "execution_count": null,
      "outputs": [
        {
          "output_type": "stream",
          "text": [
            "Enter length of first stick: 5\n",
            "Enter length of second stick: 6\n",
            "Enter length of third stick: 4\n",
            "Yes\n"
          ],
          "name": "stdout"
        }
      ]
    },
    {
      "cell_type": "markdown",
      "metadata": {
        "id": "KOR45AN7hL4e"
      },
      "source": [
        "#Q. Basic Calculator\n",
        "- Write a function that takes three arguments - ```op1, op2``` and ```operator``` and prints the result ```op1 operator op2```. <br>\n",
        "Eg., for ```op1 = 1```, ```op2 = 2``` and ```operator = '+' ```, the function prints ```3``` as the result (```1 + 2```). <br>\n",
        "Assume that the operator can be one of the following : ```+, -, *, /, %``` <br>\n",
        "- Write a program that takes 3 inputs from the user - two numbers and an operator and uses the calculator function to print the result."
      ]
    },
    {
      "cell_type": "code",
      "metadata": {
        "id": "65ifLibhhM3c",
        "colab": {
          "base_uri": "https://localhost:8080/",
          "height": 88
        },
        "outputId": "2be21756-46f3-418c-eab7-e56d854c6bb1"
      },
      "source": [
        "def result(op1,op2,operator):\n",
        "  if(operator==\"+\"):\n",
        "    print(op1+op2)\n",
        "  elif(operator==\"-\"):\n",
        "    print(op1-op2)\n",
        "  elif(operator==\"*\"):\n",
        "    print(op1*op2)\n",
        "  elif(operator==\"/\"):\n",
        "    print(op1/op2)\n",
        "  elif(operator==\"%\"):\n",
        "    print(op1%op2)\n",
        "a=int(input(\"Enter first operand: \"))\n",
        "b=int(input(\"Enter second operand: \"))\n",
        "op=input(\"Enter operator for the operation to be performed on the two operand: \")\n",
        "result(a,b,op)"
      ],
      "execution_count": null,
      "outputs": [
        {
          "output_type": "stream",
          "text": [
            "Enter first operand: 10\n",
            "Enter second operand: 5\n",
            "Enter operator for the operation to be performed on the two operand: %\n",
            "0\n"
          ],
          "name": "stdout"
        }
      ]
    }
  ]
}