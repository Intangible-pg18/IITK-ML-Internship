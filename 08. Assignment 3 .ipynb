{
  "nbformat": 4,
  "nbformat_minor": 0,
  "metadata": {
    "colab": {
      "name": "Copy of Assignment ___3.ipynb",
      "provenance": [],
      "collapsed_sections": []
    },
    "kernelspec": {
      "name": "python3",
      "display_name": "Python 3"
    }
  },
  "cells": [
    {
      "cell_type": "markdown",
      "metadata": {
        "id": "YCKRJLaYcrOU"
      },
      "source": [
        "#Q. Even Sum\n",
        "Write a function that takes an argument ```n``` and returns sum of all even numbers $2, 4, \\ldots$ upto $n$"
      ]
    },
    {
      "cell_type": "code",
      "metadata": {
        "id": "GbbyVwn_k1YW",
        "colab": {
          "base_uri": "https://localhost:8080/",
          "height": 51
        },
        "outputId": "da1e1473-e032-4c1c-82c0-3f3214fd7cc1"
      },
      "source": [
        "n=int(input(\"Enter valiue of n: \"))\n",
        "sum=0\n",
        "for i in range(2,n+1,2):\n",
        "  sum=sum+i\n",
        "print(sum)"
      ],
      "execution_count": null,
      "outputs": [
        {
          "output_type": "stream",
          "text": [
            "Enter valiue of n: 10\n",
            "30\n"
          ],
          "name": "stdout"
        }
      ]
    },
    {
      "cell_type": "markdown",
      "metadata": {
        "id": "OmWQSgEbc9Tj"
      },
      "source": [
        "#Q. Intersection\n",
        "Write a function that takes two lists ```l1``` and ```l2``` as arguments and returns a list containing elements that are common to both lists without containing any duplicates."
      ]
    },
    {
      "cell_type": "code",
      "metadata": {
        "id": "jw6MAM8hdTzI",
        "colab": {
          "base_uri": "https://localhost:8080/",
          "height": 319
        },
        "outputId": "53312f21-483e-4bd2-f28b-68d47d18f1e2"
      },
      "source": [
        "def inp():\n",
        "  list1=[]\n",
        "  list2=[]\n",
        "  n1=int(input(\"Enter number of elements for list1:\"))\n",
        "  n2=int(input(\"Enter number of elements for list2:\"))\n",
        "  print(\"For list1:\")\n",
        "  for x in range(0,n1):\n",
        "    list1.append(int(input(\"Enter element: \")))\n",
        "  print(\"For list2:\")\n",
        "  for x in range(0,n2):\n",
        "    list2.append(int(input(\"Enter element: \")))\n",
        "  inter(list1,list2)\n",
        "def inter(l1,l2):\n",
        "  l3=[]\n",
        "  for i in range(0,len(l1)):\n",
        "    if(l1[i] in l2 and l1[i] not in l3):\n",
        "      l3.append(l1[i])\n",
        "      print(l1[i])\n",
        "inp()"
      ],
      "execution_count": null,
      "outputs": [
        {
          "output_type": "stream",
          "text": [
            "Enter number of elements for list1:5\n",
            "Enter number of elements for list2:7\n",
            "For list1:\n",
            "Enter element: 1\n",
            "Enter element: 2\n",
            "Enter element: 3\n",
            "Enter element: 3\n",
            "Enter element: 4\n",
            "For list2:\n",
            "Enter element: 9\n",
            "Enter element: 2\n",
            "Enter element: 2\n",
            "Enter element: 3\n",
            "Enter element: 7\n",
            "Enter element: 8\n",
            "Enter element: 0\n",
            "2\n",
            "3\n"
          ],
          "name": "stdout"
        }
      ]
    },
    {
      "cell_type": "markdown",
      "metadata": {
        "id": "yWcvFuaNdSs-"
      },
      "source": [
        "#Q. Primality\n",
        "Write a function that takes a number ```n``` as argument and returns ```True``` if the number is prime and ```False``` otherwise."
      ]
    },
    {
      "cell_type": "code",
      "metadata": {
        "id": "FqZmuu-FdtnR",
        "colab": {
          "base_uri": "https://localhost:8080/",
          "height": 51
        },
        "outputId": "9c9a7ffc-2311-4135-9a42-afaab2a769f2"
      },
      "source": [
        "n=int(input(\"Enter a number: \"))\n",
        "def prime(n):\n",
        "  if(n==0 or n==1):\n",
        "    return False\n",
        "  else:\n",
        "    c=0\n",
        "    for i in range(2,n):\n",
        "      if n%i==0:\n",
        "        c+=1\n",
        "    if c==0:\n",
        "      return True\n",
        "    else:\n",
        "      return False\n",
        "print(prime(n))"
      ],
      "execution_count": null,
      "outputs": [
        {
          "output_type": "stream",
          "text": [
            "Enter a number: 5\n",
            "True\n"
          ],
          "name": "stdout"
        }
      ]
    },
    {
      "cell_type": "markdown",
      "metadata": {
        "id": "5oNKdGnQdvwb"
      },
      "source": [
        "#Q. Digit Count and Sum\n",
        "Write a function that takes a number ```n``` as input and returns a tuple of two values - the number of digits in that number and sum of digits in that number."
      ]
    },
    {
      "cell_type": "code",
      "metadata": {
        "id": "qXYtFx4ueOpq",
        "colab": {
          "base_uri": "https://localhost:8080/",
          "height": 50
        },
        "outputId": "ae77504f-e7f7-4931-c8a0-37ada16ef856"
      },
      "source": [
        "n=int(input(\"Enter a number: \"))\n",
        "def dig(n):\n",
        "  l=[]\n",
        "  sum=0\n",
        "  c=0\n",
        "  while(n!=0):\n",
        "    d=n%10\n",
        "    sum=sum+d\n",
        "    c+=1\n",
        "    n=n//10\n",
        "  l.extend([c,sum])\n",
        "  return(tuple(l))\n",
        "print(dig(n))"
      ],
      "execution_count": null,
      "outputs": [
        {
          "output_type": "stream",
          "text": [
            "Enter a number: 125\n",
            "(3, 8)\n"
          ],
          "name": "stdout"
        }
      ]
    },
    {
      "cell_type": "markdown",
      "metadata": {
        "id": "3gjiztaOeSNg"
      },
      "source": [
        "#Q. Reverse Word Order\n",
        "Write a function that takes as argument a string containing multiple words and returns a string containing the same words in reverse order. \\\\\n",
        "Eg., ```input = 'India is a democracy'; output = 'democracy a is India' ```"
      ]
    },
    {
      "cell_type": "code",
      "metadata": {
        "id": "-R6gbrxceePP",
        "colab": {
          "base_uri": "https://localhost:8080/",
          "height": 50
        },
        "outputId": "07e50985-b9d6-4f51-9337-6f1f049cb307"
      },
      "source": [
        "s=input(\"Enter a string: \")\n",
        "def rev(s):\n",
        "  s=' '+s+' '\n",
        "  l=s.split(' ')\n",
        "  for i in range(len(l)-1,0,-1):\n",
        "    print(l[i],end=' ')\n",
        "rev(s)"
      ],
      "execution_count": null,
      "outputs": [
        {
          "output_type": "stream",
          "text": [
            "Enter a string: India is a democracy\n",
            " democracy a is India "
          ],
          "name": "stdout"
        }
      ]
    },
    {
      "cell_type": "markdown",
      "metadata": {
        "id": "MIUKUUWxe-i_"
      },
      "source": [
        "#Q. Palindromes\n",
        "Write a function that takes as argument a string and returns ```True``` if the string is a palindrome and ```False``` otherwise. \\\\\n",
        "A palindrome is a string that reads the same backwards and forwards. \\\\\n",
        "Eg., ```'aabbaa'``` and ```'aacbbcaa'``` are palindromes. ```'aacca'``` and ```'acab'``` are not. \\\\\n",
        "(Ignore whitespace inside strings. For eg., ```'Was It A Rat I Saw'``` is a palindrome)"
      ]
    },
    {
      "cell_type": "code",
      "metadata": {
        "id": "auXCyggugIFp",
        "colab": {
          "base_uri": "https://localhost:8080/",
          "height": 50
        },
        "outputId": "5fc8c5db-b773-4413-8421-ba87581aa205"
      },
      "source": [
        "s=input(\"Enter a string: \")\n",
        "def pal(s):\n",
        "  l=''\n",
        "  s=s.lower()\n",
        "  for i in range(0,len(s)):\n",
        "    if(s[i]!=' '):\n",
        "      l=l+s[i]\n",
        "  d=len(l)//2\n",
        "  v=0\n",
        "  for i in range(0,d):\n",
        "    if(l[i]==l[len(l)-(i+1)]):\n",
        "      v+=1\n",
        "  if(v==d):\n",
        "    return(True)\n",
        "  else:\n",
        "    return(False)\n",
        "pal(s)"
      ],
      "execution_count": null,
      "outputs": [
        {
          "output_type": "stream",
          "text": [
            "Enter a string: Was It A Rat I Saw\n"
          ],
          "name": "stdout"
        },
        {
          "output_type": "execute_result",
          "data": {
            "text/plain": [
              "True"
            ]
          },
          "metadata": {
            "tags": []
          },
          "execution_count": 46
        }
      ]
    },
    {
      "cell_type": "markdown",
      "metadata": {
        "id": "F7faqFS4gob3"
      },
      "source": [
        "#Q. Pascal Triangle\n",
        "Write a function that takes an argument n as input and returns a string containing a pascal triangle of n rows. (https://en.wikipedia.org/wiki/Pascal%27s_triangle)"
      ]
    },
    {
      "cell_type": "code",
      "metadata": {
        "id": "tVTmDoF-howj",
        "colab": {
          "base_uri": "https://localhost:8080/",
          "height": 134
        },
        "outputId": "4b46065c-c04a-4e4b-c073-5b550c2848dc"
      },
      "source": [
        "def pas(n):\n",
        "  m=1\n",
        "  k=n-1\n",
        "  print(' '*k,end='')\n",
        "  print(m,end='')\n",
        "  print(' '*k)\n",
        "  for i in range(1,k):\n",
        "    m=m*11\n",
        "    k-=1\n",
        "    print(' '*(k),end='')\n",
        "    print(' '.join(str(m)),end='')\n",
        "    print(' '*(k))\n",
        "\n",
        "pas(int(input(\"Enter no. of rows: \")))"
      ],
      "execution_count": null,
      "outputs": [
        {
          "output_type": "stream",
          "text": [
            "Enter no. of rows: 7\n",
            "      1      \n",
            "     1 1     \n",
            "    1 2 1    \n",
            "   1 3 3 1   \n",
            "  1 4 6 4 1  \n",
            " 1 6 1 0 5 1 \n"
          ],
          "name": "stdout"
        }
      ]
    },
    {
      "cell_type": "markdown",
      "metadata": {
        "id": "in3pF1jeiOyV"
      },
      "source": [
        ""
      ]
    }
  ]
}