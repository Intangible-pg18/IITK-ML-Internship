{
  "nbformat": 4,
  "nbformat_minor": 0,
  "metadata": {
    "colab": {
      "name": "Cccc of Quiz 6.ipynb",
      "provenance": [],
      "collapsed_sections": []
    },
    "kernelspec": {
      "name": "python3",
      "display_name": "Python 3"
    }
  },
  "cells": [
    {
      "cell_type": "markdown",
      "metadata": {
        "id": "K9j4zEnj7YMX"
      },
      "source": [
        "### IMPORTANT INSTRUCTIONS\n",
        "- The test cases only check type and structure of values returned by functions. So their correctness does not imply the correctness of your solutions.\n"
      ]
    },
    {
      "cell_type": "markdown",
      "metadata": {
        "id": "RtaUy7XwIrPV"
      },
      "source": [
        "## Modelling $e^x$\n",
        "$y = f(x) = e^x$  \n",
        "\n",
        "Approximate this function with a linear function of the form\n",
        "$y = w_0 + w_1sin(\\frac{x*\\pi}{2}) + w_2sin(\\frac{2*x*\\pi}{2}) + w_3cos(\\frac{x*\\pi}{2}) + w_4cos(\\frac{2*x*\\pi}{2}) + \\ldots$\n",
        "\n",
        "in the range $x \\in (1, 3)$"
      ]
    },
    {
      "cell_type": "code",
      "metadata": {
        "id": "k0Sb-f1PKlua"
      },
      "source": [
        "import numpy as np\n",
        "import matplotlib.pyplot as plt"
      ],
      "execution_count": null,
      "outputs": []
    },
    {
      "cell_type": "markdown",
      "metadata": {
        "id": "gBPneTJNKgIL"
      },
      "source": [
        "##1. Generate Data\n"
      ]
    },
    {
      "cell_type": "markdown",
      "metadata": {
        "id": "P1W-atrtM-fU"
      },
      "source": [
        "###1.1 \n",
        "Write a function that takes a parameter $x$ (float or array of floats) and computes $y = f(x) = e^x$ (float if $x$ is a float, array of floats if $x$ is array of floats)  "
      ]
    },
    {
      "cell_type": "code",
      "metadata": {
        "id": "iti0uCKfKamh"
      },
      "source": [
        "def fx(x):\n",
        "  '''\n",
        "  Input:\n",
        "    x : float (scalar) or np array\n",
        "  Ouptut:\n",
        "    y : float (scalar) or np array\n",
        "\n",
        "  '''\n",
        "  return np.exp(x,dtype='float')"
      ],
      "execution_count": null,
      "outputs": []
    },
    {
      "cell_type": "code",
      "metadata": {
        "id": "dFE1rEcB70fU",
        "colab": {
          "base_uri": "https://localhost:8080/",
          "height": 34
        },
        "outputId": "30be4b64-938e-47cd-d7e6-0f417e7d8f50"
      },
      "source": [
        "\"\"\"Testing code\"\"\"\n",
        "if __name__ == \"__main__\":\n",
        "  y = fx(1.2)\n",
        "  assert y/y == 1.0\n",
        "  print(\"Test passed\")"
      ],
      "execution_count": null,
      "outputs": [
        {
          "output_type": "stream",
          "text": [
            "Test passed\n"
          ],
          "name": "stdout"
        }
      ]
    },
    {
      "cell_type": "markdown",
      "metadata": {
        "id": "sAcLccUhMmFU"
      },
      "source": [
        "###1.2\n",
        "Write a function that takes a parameter $n$ and generates $n$ random points in the range $(1, 3)$ $\\rightarrow$ $x$ <br>\n",
        "Using ```fx``` defined earlier, it also generates $yd$ corresponding to these n points and returns both $x$ and $yd$"
      ]
    },
    {
      "cell_type": "code",
      "metadata": {
        "id": "YjIjtN2sNvSv"
      },
      "source": [
        "def generate_points(n):\n",
        "  '''\n",
        "  Inputs:\n",
        "    n : int, Number of random points\n",
        "  \n",
        "  Outputs:\n",
        "    x : array of floats, random points in the range (1, 3)\n",
        "    yd : array of floats, e^x for values in x\n",
        "  '''\n",
        "  x=np.empty((n))\n",
        "  for i in range(0,n):\n",
        "    x[i] = np.random.uniform(1,3)\n",
        "  yd = fx(x)\n",
        "  return x, yd"
      ],
      "execution_count": null,
      "outputs": []
    },
    {
      "cell_type": "code",
      "metadata": {
        "id": "7otzDFJY8Bz4",
        "colab": {
          "base_uri": "https://localhost:8080/",
          "height": 34
        },
        "outputId": "ed9ec5ad-1c45-436e-df92-fd8e292df239"
      },
      "source": [
        "\"\"\"Testing code\"\"\"\n",
        "if __name__ == \"__main__\":\n",
        "  x, yd = generate_points(10)\n",
        "  assert x.shape == (10, )\n",
        "  assert yd.shape == (10, )\n",
        "  print(\"Test passed\")"
      ],
      "execution_count": null,
      "outputs": [
        {
          "output_type": "stream",
          "text": [
            "Test passed\n"
          ],
          "name": "stdout"
        }
      ]
    },
    {
      "cell_type": "markdown",
      "metadata": {
        "id": "OArMS_O4Rlcu"
      },
      "source": [
        "##2. Training\n",
        "We will now define a linear model to estimate the above function, and it will train with all the data."
      ]
    },
    {
      "cell_type": "markdown",
      "metadata": {
        "id": "XWRLIaDRR1Fm"
      },
      "source": [
        "### 2.1 \n",
        "Define model\n",
        "$y = w_0 + \\sum_{d=1}^D w_d sin(\\frac{d\\pi x}{2}) + \\sum_{d=D+1}^{2D} w_d cos(\\frac{(d - D)\\pi x}{2})$, here, $D$ is the degree of the model, say D=2 <br />\n",
        "\n",
        "In matrix representation: y = Aw <br/>"
      ]
    },
    {
      "cell_type": "code",
      "metadata": {
        "id": "oNZ8y0UTN2zs"
      },
      "source": [
        "def createA(x, D):\n",
        "    '''\n",
        "    Create the matrix A with degree D\n",
        "    Input:\n",
        "        x: np array of shape (N,)\n",
        "        D: degree of the model\n",
        "    Output:\n",
        "        A: np matrix of shape (N,2D+1)\n",
        "    '''\n",
        "    n=len(x)\n",
        "    d=0\n",
        "    c=0\n",
        "    V=(2*D)+1\n",
        "    A = np.ones((n,V))\n",
        "    for i in range(1,V):\n",
        "      if(i%2!=0):\n",
        "        d+=1\n",
        "        A[:,i] = np.sin((x*d)/(2*np.pi))\n",
        "      else:\n",
        "        A[:,i] = np.cos((x*d)/(2*np.pi))\n",
        "    return A"
      ],
      "execution_count": null,
      "outputs": []
    },
    {
      "cell_type": "code",
      "metadata": {
        "id": "0NWK4lRg8OKU",
        "colab": {
          "base_uri": "https://localhost:8080/",
          "height": 34
        },
        "outputId": "f66189ba-2802-4a2f-d124-df6eb28c366e"
      },
      "source": [
        "\"\"\"Testing code\"\"\"\n",
        "if __name__ == \"__main__\":\n",
        "  x = np.arange(10)\n",
        "  A = createA(x, 2)\n",
        "  assert A.shape == (x.shape[0], 5)\n",
        "  print(\"Test passed\")"
      ],
      "execution_count": null,
      "outputs": [
        {
          "output_type": "stream",
          "text": [
            "Test passed\n"
          ],
          "name": "stdout"
        }
      ]
    },
    {
      "cell_type": "markdown",
      "metadata": {
        "id": "dOt69npU4xSG"
      },
      "source": [
        "###2.2 Estimate weights\n",
        "Train using least-square solution (pseudo-inverse) and min-norm solution that are used to train linear models."
      ]
    },
    {
      "cell_type": "code",
      "metadata": {
        "id": "FzUi6s6G4-6A"
      },
      "source": [
        "def train_w(A, yd):\n",
        "    '''\n",
        "    Inputs:\n",
        "        A: np array of shape (N,2D+1)\n",
        "        yd: np array of shape (N,)\n",
        "    Output:\n",
        "        w: np array of shape (2D+1,)\n",
        "    '''\n",
        "    n=yd.shape[0]\n",
        "    D=A.shape[1]-1\n",
        "    if n>D+1:\n",
        "      w = np.linalg.inv(A.T.dot(A)).dot(A.T).dot(yd)\n",
        "    elif n<=D+1:\n",
        "      w = A.T.dot(np.linalg.inv(A.dot(A.T))).dot(yd)\n",
        "    return w"
      ],
      "execution_count": null,
      "outputs": []
    },
    {
      "cell_type": "code",
      "metadata": {
        "id": "Ehdh_wGu8wY0",
        "colab": {
          "base_uri": "https://localhost:8080/",
          "height": 34
        },
        "outputId": "9f09bb10-68f9-42c7-ba13-c545f1bfdd3d"
      },
      "source": [
        "\"\"\"Testing code\"\"\"\n",
        "if __name__ == \"__main__\":\n",
        "  yd = np.arange(10)\n",
        "  A = np.random.random(50).reshape(10, 5)  \n",
        "  w = train_w(A, yd)\n",
        "  assert w.shape == (5, )\n",
        "  print(\"Test passed\")"
      ],
      "execution_count": null,
      "outputs": [
        {
          "output_type": "stream",
          "text": [
            "Test passed\n"
          ],
          "name": "stdout"
        }
      ]
    },
    {
      "cell_type": "markdown",
      "metadata": {
        "id": "l9_Z8L3RKBPn"
      },
      "source": [
        "###3 Estimate y from the model, given x and w"
      ]
    },
    {
      "cell_type": "code",
      "metadata": {
        "nbgrader": {
          "grade": false,
          "grade_id": "cell-18a403e9e2d75c54",
          "locked": false,
          "schema_version": 1,
          "solution": true
        },
        "id": "AIFYMCMlKBPo"
      },
      "source": [
        "def predict_y(w, x):\n",
        "    '''\n",
        "    Inputs:\n",
        "        w: np array of shape (2D+1,)\n",
        "        x: np array of shape (N,)\n",
        "    Outputs:\n",
        "        y: np array of shape (N,); y=Aw\n",
        "    '''\n",
        "    D = (w.shape[0]-1)//2\n",
        "    A = createA(x, D)\n",
        "    print(A.shape,w.shape)\n",
        "    y = A.dot(w)\n",
        "    return y"
      ],
      "execution_count": null,
      "outputs": []
    },
    {
      "cell_type": "code",
      "metadata": {
        "id": "x69CSYoi-2Qf",
        "colab": {
          "base_uri": "https://localhost:8080/",
          "height": 52
        },
        "outputId": "6cc5047e-f7f9-4ffc-b289-582b0b6bc8c3"
      },
      "source": [
        "\"\"\"Testing code\"\"\"\n",
        "if __name__ == \"__main__\":\n",
        "  w = np.arange(5)\n",
        "  x = np.arange(10)\n",
        "  y = predict_y(w, x)\n",
        "  assert y.shape[0] == x.shape[0]\n",
        "  print(\"Test passed\")"
      ],
      "execution_count": null,
      "outputs": [
        {
          "output_type": "stream",
          "text": [
            "(10, 5) (5,)\n",
            "Test passed\n"
          ],
          "name": "stdout"
        }
      ]
    },
    {
      "cell_type": "markdown",
      "metadata": {
        "id": "Sqjpd9JWKBPv"
      },
      "source": [
        "###4. Estimate Error\n",
        "Find E as the mean squared error"
      ]
    },
    {
      "cell_type": "code",
      "metadata": {
        "nbgrader": {
          "grade": false,
          "grade_id": "cell-430f96298f1ea137",
          "locked": false,
          "schema_version": 1,
          "solution": true
        },
        "id": "k50lysAcKBPw"
      },
      "source": [
        "def compute_mse(y, yd):\n",
        "    '''\n",
        "    Inputs:\n",
        "        y: np array of shape (N,); y=Aw\n",
        "        yd: np array of shape (N,); yd=f(x), ie., desired or true value\n",
        "    Output:\n",
        "        mse: float, mean squared error\n",
        "    '''\n",
        "    mse = (y-yd).dot(y-yd)/y.shape[0]\n",
        "    return mse"
      ],
      "execution_count": null,
      "outputs": []
    },
    {
      "cell_type": "code",
      "metadata": {
        "id": "DMByOXJn_FX_",
        "colab": {
          "base_uri": "https://localhost:8080/",
          "height": 34
        },
        "outputId": "5eded0be-5ec3-4296-95ff-e8e8e6af21dc"
      },
      "source": [
        "\"\"\"Testing code\"\"\"\n",
        "if __name__ == \"__main__\":\n",
        "  y = np.arange(3)\n",
        "  yd = np.arange(30, 33)\n",
        "  mse = compute_mse(y, yd)\n",
        "  assert mse/mse == 1.0\n",
        "  print(\"Test passed\")"
      ],
      "execution_count": null,
      "outputs": [
        {
          "output_type": "stream",
          "text": [
            "Test passed\n"
          ],
          "name": "stdout"
        }
      ]
    },
    {
      "cell_type": "markdown",
      "metadata": {
        "id": "5zGV1TDQ5iEb"
      },
      "source": [
        "##5. Train and Test\n",
        "Write a function that takes parameters N, D and:\n",
        "- Generates N training points x, yd\n",
        "- Train your linear model using x and yd\n",
        "- Predict y (using the linear model you found above) for the training data x\n",
        "- Compare y with yd to find the mean-squared error"
      ]
    },
    {
      "cell_type": "markdown",
      "metadata": {
        "id": "mfjcbjdf6QhG"
      },
      "source": [
        "###5.1 Generate and Train"
      ]
    },
    {
      "cell_type": "code",
      "metadata": {
        "id": "rkZV_i9rXICz"
      },
      "source": [
        "def trainModel(N, D):\n",
        "    '''\n",
        "    Inputs:\n",
        "        N: number of samples\n",
        "        D: degree of the model\n",
        "    Outputs:\n",
        "        x: np array of size (N,)\n",
        "        y: np array of size (N,)\n",
        "        yd: np array of size (N,)\n",
        "        w: np array of size (2D+1,)\n",
        "        mse: scalar float\n",
        "    '''\n",
        "    x, yd = generate_points(N)\n",
        "    A = createA(x, D)\n",
        "    w = train_w(A, yd)\n",
        "    y = predict_y(w, x)\n",
        "    mse = compute_mse(y, yd)\n",
        "    return x, y, yd, w, mse"
      ],
      "execution_count": null,
      "outputs": []
    },
    {
      "cell_type": "code",
      "metadata": {
        "id": "hXWQkAvDAuN9",
        "colab": {
          "base_uri": "https://localhost:8080/",
          "height": 52
        },
        "outputId": "39f2b047-76de-4b19-f0a7-7e8af25ed33c"
      },
      "source": [
        "\"\"\"Testing code\"\"\"\n",
        "if __name__ == \"__main__\":\n",
        "  x, y, yd, w, mse = trainModel(10, 2)\n",
        "  assert x.shape[0] == 10\n",
        "  assert y.shape[0] == 10\n",
        "  assert yd.shape[0] == 10\n",
        "  assert w.shape[0] == 5\n",
        "  assert mse/mse == 1.0\n",
        "  print(\"Tests passed\")"
      ],
      "execution_count": null,
      "outputs": [
        {
          "output_type": "stream",
          "text": [
            "(10, 5) (5,)\n",
            "Tests passed\n"
          ],
          "name": "stdout"
        }
      ]
    },
    {
      "cell_type": "markdown",
      "metadata": {
        "id": "nWeDnuZR6q-K"
      },
      "source": [
        "###5.2 Test\n",
        "Write a function which takes parameters Ntest, w and does the following:\n",
        "\n",
        "- Generates Ntest test points x, yd\n",
        "- Estimate y using the linear model w \n",
        "- Compare y with yd to find the mean-squared error"
      ]
    },
    {
      "cell_type": "code",
      "metadata": {
        "id": "oD21vteC6t7E"
      },
      "source": [
        "def testModel(Ntest, w):\n",
        "    '''\n",
        "    Inputs:\n",
        "        Ntest: number of test samples to be generated\n",
        "        w: np array of size (2*D+1,)\n",
        "    Outputs:\n",
        "        x: np array of size (N,)\n",
        "        y: np array of size (N,)\n",
        "        yd: np array of size (N,)\n",
        "        mse: scalar float\n",
        "    '''\n",
        "    x,yd=generate_points(Ntest)\n",
        "    y=predict_y(w, x)\n",
        "    mse=compute_mse(y, yd)\n",
        "    return x, y, yd, mse"
      ],
      "execution_count": null,
      "outputs": []
    },
    {
      "cell_type": "code",
      "metadata": {
        "id": "LzrtTf3pEUfM",
        "colab": {
          "base_uri": "https://localhost:8080/",
          "height": 52
        },
        "outputId": "1bf51fd7-22e5-436e-d472-a80be31480f9"
      },
      "source": [
        "\"\"\"Testing code\"\"\"\n",
        "if __name__ == \"__main__\":\n",
        "  x, y, yd, mse = testModel(10, np.arange(5))\n",
        "  assert x.shape[0] == 10\n",
        "  assert y.shape[0] == 10\n",
        "  assert yd.shape[0] == 10\n",
        "  assert mse/mse == 1.0\n",
        "  print(\"Tests passed\")"
      ],
      "execution_count": null,
      "outputs": [
        {
          "output_type": "stream",
          "text": [
            "(10, 5) (5,)\n",
            "Tests passed\n"
          ],
          "name": "stdout"
        }
      ]
    },
    {
      "cell_type": "code",
      "metadata": {
        "id": "fWyMW1DZOszo"
      },
      "source": [
        ""
      ],
      "execution_count": null,
      "outputs": []
    }
  ]
}