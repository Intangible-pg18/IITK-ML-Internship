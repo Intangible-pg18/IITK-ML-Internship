{
  "nbformat": 4,
  "nbformat_minor": 0,
  "metadata": {
    "colab": {
      "name": "Copy of programmingdrill_5.ipynb",
      "provenance": [],
      "collapsed_sections": []
    },
    "kernelspec": {
      "name": "python3",
      "display_name": "Python 3"
    }
  },
  "cells": [
    {
      "cell_type": "markdown",
      "metadata": {
        "id": "2YLk3Gv4MATN"
      },
      "source": [
        "#Drill #20\n",
        "<img src=\"https://drive.google.com/uc?id=1jFZCf2fOhvOfAPmNW0mMhcCw-vs8Ukfq\" width=\"400\">\n",
        "\n",
        "####Expected Output:\n",
        "<img src=\"https://drive.google.com/uc?id=193u64JKk7kGDiYO07lZeY4_na5loaQDg\" width=\"250\">"
      ]
    },
    {
      "cell_type": "code",
      "metadata": {
        "id": "u5oZF_PtPrV1",
        "colab": {
          "base_uri": "https://localhost:8080/",
          "height": 106
        },
        "outputId": "f03688e5-25b4-4c23-9a28-7a4f4af9c17c"
      },
      "source": [
        "people = 20\n",
        "cats = 30\n",
        "dogs = 15\n",
        "\n",
        "if(people < cats):\n",
        "  print(\"Too many cats! The world is doomed.\")\n",
        "if(people > cats):\n",
        "  print(\"Not many cats! The world is saved.\")\n",
        "if(people < dogs):\n",
        "  print(\"The world is drooled on!\")\n",
        "if(people > dogs):\n",
        "  print(\"The world is dry!\")\n",
        "\n",
        "dogs += 5\n",
        "\n",
        "if(people >= dogs):\n",
        "  print(\"People are greater than equal to dogs.\")\n",
        "if(people <= dogs):\n",
        "  print(\"People are less than equal to dogs.\")\n",
        "if(people == dogs):\n",
        "  print(\"People are equal to dogs.\")"
      ],
      "execution_count": null,
      "outputs": [
        {
          "output_type": "stream",
          "text": [
            "Too many cats! The world is doomed.\n",
            "The world is dry!\n",
            "People are greater than equal to dogs.\n",
            "People are less than equal to dogs.\n",
            "People are equal to dogs.\n"
          ],
          "name": "stdout"
        }
      ]
    },
    {
      "cell_type": "markdown",
      "metadata": {
        "id": "o5Aik8a3OBO0"
      },
      "source": [
        "# Drill #21\n",
        "<img src=\"https://drive.google.com/uc?id=1W7Es2eYu7P2ge50Phx4ufCeQouQz51oZ\" width=\"400\">\n",
        "\n",
        "#### Expected Output\n",
        "<img src=\"https://drive.google.com/uc?id=1VqcfhTIPgR9OvGOEyng65Mpc6OVJhUMs\" width=\"250\">"
      ]
    },
    {
      "cell_type": "code",
      "metadata": {
        "id": "an9WWw4nL2lk",
        "colab": {
          "base_uri": "https://localhost:8080/",
          "height": 70
        },
        "outputId": "17fcc4f2-f0df-4ee3-f23f-28a91a23a974"
      },
      "source": [
        "people = 30\n",
        "cars = 40\n",
        "trucks = 15\n",
        "\n",
        "if(cars > people):\n",
        "  print(\"We should take the cars\")\n",
        "elif(cars < people):\n",
        "  print(\"We should not take the cars\")\n",
        "else:\n",
        "  print(\"We can't decide\")\n",
        "\n",
        "if(trucks > cars): \n",
        "  print(\"There's too many trucks.\") \n",
        "elif(trucks < cars): \n",
        "  print(\"Maybe we could take the trucks.\")\n",
        "else: \n",
        "  print(\"We still can't decide.\") \n",
        "  \n",
        "if(people > trucks):\n",
        "  print(\"Alright, let's just take the trucks.\")\n",
        "else:\n",
        "  print(\"Fine, let's stay home then.\") "
      ],
      "execution_count": null,
      "outputs": [
        {
          "output_type": "stream",
          "text": [
            "We should take the cars\n",
            "Maybe we could take the trucks.\n",
            "Alright, let's just take the trucks.\n"
          ],
          "name": "stdout"
        }
      ]
    },
    {
      "cell_type": "markdown",
      "metadata": {
        "id": "iZ76UVzQPt-s"
      },
      "source": [
        "# Drill #22\n",
        "<img src=\"https://drive.google.com/uc?id=1cU17eW9p4Y4653A-Fb2ZnPIdo9kZHRHx\" width=\"400\"> <br>\n",
        "<img src=\"https://drive.google.com/uc?id=1nIW0lrApKQORj7L28hnnkFM3rpPHZRkq\" width=\"400\">\n",
        "#### Expected Output\n",
        "<img src=\"https://drive.google.com/uc?id=1mhrc2muk2WCTqqMIgwbsEfUYEbScLNL4\"\n",
        "width=\"250\">"
      ]
    },
    {
      "cell_type": "code",
      "metadata": {
        "id": "-i3zpomGZefu",
        "colab": {
          "base_uri": "https://localhost:8080/",
          "height": 212
        },
        "outputId": "570e852c-b720-43af-e917-14312a3a0d59"
      },
      "source": [
        "print(\"\"\"\n",
        "You enter a dark room with two doors.\n",
        "Do you go through door #1 or door #2?\n",
        "\"\"\")\n",
        "\n",
        "door = input(\"> \")\n",
        "\n",
        "if(door == \"1\"):\n",
        "  print(\"There's a giant bear here eating a cheese cake.\")\n",
        "  print(\"What do you do?\")\n",
        "  print(\"1. Take the Cake\")\n",
        "  print(\"2. Scream at the bear\")\n",
        "  \n",
        "  bear = input(\"> \")\n",
        "  \n",
        "  if(bear == \"1\"):\n",
        "    print(\"The bear eats your face off. Good job!\")\n",
        "  elif(bear == \"2\"):\n",
        "    print(\"The bear eats your legs off. Good job!\")\n",
        "  else:\n",
        "    print (f\"Well, doing {bear} is probably better.\")\n",
        "    print (\"Bear runs away.\")\n",
        "elif(door == \"2\"):\n",
        "  print(\"You stare into the endless abyss at Cthulhu's retiring spot. \\\n",
        "  You are presented with the following options. What do you choose?\")\n",
        "  print (\"1. Blueberries\")\n",
        "  print (\"2. Yellow jacket clothespins\")\n",
        "  print (\"3. Green jaggery marshmallows\")\n",
        "\n",
        "  insanity = input(\"> \")\n",
        "  if(insanity == \"1\" or insanity ==\"2\"):\n",
        "    print(\"Your body survives powered by a mind of jello\")\n",
        "    print(\"Good job!\")\n",
        "  else:\n",
        "    print(\"The insanity rots your eyes into a pool of mud\")\n",
        "    print(\"Good job!\")\n",
        "\n",
        "else:\n",
        "  print(\"You stumble around and fall on a knife and die. Good job!\")"
      ],
      "execution_count": null,
      "outputs": [
        {
          "output_type": "stream",
          "text": [
            "\n",
            "You enter a dark room with two doors.\n",
            "Do you go through door #1 or door #2?\n",
            "\n",
            "> 1\n",
            "There's a giant bear here eating a cheese cake.\n",
            "What do you do?\n",
            "1. Take the Cake\n",
            "2. Scream at the bear\n",
            "> 2\n",
            "The bear eats your legs off. Good job!\n"
          ],
          "name": "stdout"
        }
      ]
    },
    {
      "cell_type": "markdown",
      "metadata": {
        "id": "_twCf-rpU4Bp"
      },
      "source": [
        "#### 22.1 \n",
        "Make new parts of game and change what decisions people can make."
      ]
    },
    {
      "cell_type": "code",
      "metadata": {
        "id": "C2tiPAbQSE66",
        "colab": {
          "base_uri": "https://localhost:8080/",
          "height": 212
        },
        "outputId": "6594b239-f822-4764-e635-a965c1625938"
      },
      "source": [
        "print(\"\"\"\n",
        "You enter a dark room with three doors.\n",
        "Do you go through door #1 or door #2 or door #3?\n",
        "\"\"\")\n",
        "\n",
        "door = input(\"> \")\n",
        "\n",
        "if(door == \"1\"):\n",
        "  print(\"There's a giant bear here eating a cheese cake.\")\n",
        "  print(\"What do you do?\")\n",
        "  print(\"1. Take the Cake\")\n",
        "  print(\"2. Scream at the bear\")\n",
        "  \n",
        "  bear = input(\"> \")\n",
        "  \n",
        "  if(bear == \"1\"):\n",
        "    print(\"The bear eats your face off. Good job!\")\n",
        "  elif(bear == \"2\"):\n",
        "    print(\"The bear eats your legs off. Good job!\")\n",
        "  else:\n",
        "    print (f\"Well, doing {bear} is probably better.\")\n",
        "    print (\"Bear runs away.\")\n",
        "elif(door == \"2\"):\n",
        "  print(\"You stare into the endless abyss at Cthulhu's retiring spot. \\\n",
        "  You are presented with the following options. What do you choose?\")\n",
        "  print (\"1. Blueberries\")\n",
        "  print (\"2. Yellow jacket clothespins\")\n",
        "  print (\"3. Green jaggery marshmallows\")\n",
        "\n",
        "  insanity = input(\"> \")\n",
        "  if(insanity == \"1\" or insanity ==\"2\"):\n",
        "    print(\"Your body survives powered by a mind of jello\")\n",
        "    print(\"Good job!\")\n",
        "  else:\n",
        "    print(\"The insanity rots your eyes into a pool of mud\")\n",
        "    print(\"Good job!\")\n",
        "\n",
        "elif(door == \"3\"):\n",
        "  print(\"There's a box with the vaccine for Corona Virus and then there's a box with PS5 and 20 exclusive games for the same.\")\n",
        "  print(\"What would you do if you had to pick just 1 box?\")\n",
        "  print(\"1. Take the vaccine and give it to a scientist to save millions of lives and be a hero\")\n",
        "  print(\"2. Pick the PS5 box and run to your home.\")\n",
        "  \n",
        "  choice = input(\"> \")\n",
        "  \n",
        "  if(choice == \"1\"):\n",
        "    print(\"People thought that you only created the corona virus and you were imprisoned for the rest of your life but yeah you did save millions of lives. Good job!\")\n",
        "  elif(choice == \"2\"):\n",
        "    print(\"You were popular among your friends and lived your life happily ever after. Good job!\")\n",
        "else:\n",
        "  print(\"You stumble around and fall on a knife and die. Good job!\")"
      ],
      "execution_count": null,
      "outputs": [
        {
          "output_type": "stream",
          "text": [
            "\n",
            "You enter a dark room with three doors.\n",
            "Do you go through door #1 or door #2 or door #3?\n",
            "\n",
            "> 3\n",
            "There's a box with the vaccine for Corona Virus and then there's a box with PS5 and 20 exclusive games for the same.\n",
            "What would you do if you had to pick just 1 box?\n",
            "1. Take the vaccine and give it to a scientist to save millions of lives and be a hero\n",
            "2. Pick the PS5 box and run to your home.\n",
            "> 1\n",
            "People thought that you only created the corona virus and you were imprisoned for the rest of your life but yeah you did save millions of lives. Good job!\n"
          ],
          "name": "stdout"
        }
      ]
    }
  ]
}