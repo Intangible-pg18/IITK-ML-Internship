{
  "nbformat": 4,
  "nbformat_minor": 0,
  "metadata": {
    "colab": {
      "name": "Copy of programming drill_2.ipynb",
      "provenance": [],
      "collapsed_sections": []
    },
    "kernelspec": {
      "name": "python3",
      "display_name": "Python 3"
    }
  },
  "cells": [
    {
      "cell_type": "markdown",
      "metadata": {
        "id": "_7XILk0twanK"
      },
      "source": [
        "# Drill #5 - More variables and printing\n",
        "- In this drill, you will use f-strings feature of python. <br> They make formatting strings a lot easier than other methods.\n",
        "\n",
        "<img src=\"https://drive.google.com/uc?id=1Z1p8oma05HbgPG47fRwj_qL-Ge6CVeQO\" width = \"400\">\n",
        "\n",
        "#### Expected Output\n",
        "<img src=\"https://drive.google.com/uc?id=1sa_T4RAEdtQg2c31j-_XMq5zcQc3Tii9\" width = \"250\">"
      ]
    },
    {
      "cell_type": "code",
      "metadata": {
        "id": "6CwvAxCL61Oq",
        "colab": {
          "base_uri": "https://localhost:8080/",
          "height": 118
        },
        "outputId": "07e4c168-ef30-4aa6-9813-7a477be95e50"
      },
      "source": [
        "my_name='Hari'\n",
        "my_age=16\n",
        "my_height=74 #inches\n",
        "my_weight=70 #kilograms\n",
        "my_complexion='Black'\n",
        "my_eyes='Blue'\n",
        "\n",
        "print(f\"Let's talk about {my_name}\")\n",
        "print(f\"He's {my_height} inches tall.\")\n",
        "print(f\"He's {my_weight} kgs heavy.\")\n",
        "print(\"Isn't that too heavy?\")\n",
        "print(f\"He's got {my_eyes} eyes and {my_complexion} complexion\")\n",
        "\n",
        "total=my_age+my_height+my_weight\n",
        "print(f\"If you add {my_age}, {my_height} and {my_weight}, you get {total}\")\n"
      ],
      "execution_count": null,
      "outputs": [
        {
          "output_type": "stream",
          "text": [
            "Let's talk about Hari\n",
            "He's 74 inches tall.\n",
            "He's 70 kgs heavy.\n",
            "Isn't that too heavy?\n",
            "He's got Blue eyes and Black complexion\n",
            "If you add 16, 74 and 70, you get 160\n"
          ],
          "name": "stdout"
        }
      ]
    },
    {
      "cell_type": "markdown",
      "metadata": {
        "id": "ZkX4arpN0HRW"
      },
      "source": [
        "### 5.1\n",
        "Change the names of the variables to remove my from each of them. Try to make the code run again with the new names."
      ]
    },
    {
      "cell_type": "code",
      "metadata": {
        "id": "QUIAf66fyRO1",
        "colab": {
          "base_uri": "https://localhost:8080/",
          "height": 118
        },
        "outputId": "15d7cd4e-16eb-42da-8143-a9360f63142b"
      },
      "source": [
        "_name='Hari'\n",
        "_age=16\n",
        "_height=74 #inches\n",
        "_weight=70 #kilograms\n",
        "_complexion='Black'\n",
        "_eyes='Blue'\n",
        "\n",
        "print(f\"Let's talk about {_name}\")\n",
        "print(f\"He's {_height} inches tall.\")\n",
        "print(f\"He's {_weight} kgs heavy.\")\n",
        "print(\"Isn't that too heavy?\")\n",
        "print(f\"He's got {_eyes} eyes and {_complexion} complexion\")\n",
        "\n",
        "total=_age+_height+_weight\n",
        "print(f\"If you add {_age}, {_height} and {_weight}, you get {total}\")\n"
      ],
      "execution_count": null,
      "outputs": [
        {
          "output_type": "stream",
          "text": [
            "Let's talk about Hari\n",
            "He's 74 inches tall.\n",
            "He's 70 kgs heavy.\n",
            "Isn't that too heavy?\n",
            "He's got Blue eyes and Black complexion\n",
            "If you add 16, 74 and 70, you get 160\n"
          ],
          "name": "stdout"
        }
      ]
    },
    {
      "cell_type": "markdown",
      "metadata": {
        "id": "nwKp6MvJ0Zpz"
      },
      "source": [
        "### 5.2\n",
        "Write some variables to convert weight from kilograms to pounds and height from inches to centimeters. Do not just type in the measurements. Use math formulas to convert."
      ]
    },
    {
      "cell_type": "code",
      "metadata": {
        "id": "t0HLo_O10Sg5",
        "colab": {
          "base_uri": "https://localhost:8080/",
          "height": 185
        },
        "outputId": "1015f7fa-e5ca-4ea2-915f-ec258d1a2abf"
      },
      "source": [
        "my_name='Hari'\n",
        "my_age=16\n",
        "my_height=74 #inches\n",
        "my_height_ver2=my_height*2.54\n",
        "my_weight=70 #kilograms\n",
        "my_weight_ver2=my_weight*2.20462\n",
        "my_complexion='Black'\n",
        "my_eyes='Blue'\n",
        "\n",
        "print(f\"Let's talk about {my_name}\")\n",
        "print(f\"He's {my_height} inches tall.\")\n",
        "print(f\"     OR      \\nHe's {my_height_ver2} centimeters tall.\")\n",
        "print(f\"He's {my_weight} kgs heavy.\")\n",
        "print(f\"     OR      \\nHe's {my_weight_ver2} pounds heavy.\")\n",
        "print(\"Isn't that too heavy?\")\n",
        "print(f\"He's got {my_eyes} eyes and {my_complexion} complexion\")\n",
        "\n",
        "total=my_age+my_height+my_weight\n",
        "print(f\"If you add {my_age}, {my_height} and {my_weight}, you get {total}\")"
      ],
      "execution_count": null,
      "outputs": [
        {
          "output_type": "stream",
          "text": [
            "Let's talk about Hari\n",
            "He's 74 inches tall.\n",
            "     OR      \n",
            "He's 187.96 centimeters tall.\n",
            "He's 70 kgs heavy.\n",
            "     OR      \n",
            "He's 154.3234 pounds heavy.\n",
            "Isn't that too heavy?\n",
            "He's got Blue eyes and Black complexion\n",
            "If you add 16, 74 and 70, you get 160\n"
          ],
          "name": "stdout"
        }
      ]
    },
    {
      "cell_type": "markdown",
      "metadata": {
        "id": "bbVtD6KU42zA"
      },
      "source": [
        "# Drill #6\n",
        "Observe and learn about a new way of formatting strings using ```format``` <br>\n",
        "<img src=\"https://drive.google.com/uc?id=12cTwehguVS2-hE3ID0VHKKxdkr5WcBho\" width=\"400\">\n",
        "\n",
        "##### Expected Output\n",
        "<img src=\"https://drive.google.com/uc?id=1Ood5DWeL7FBp6R9xr6wbqFvq0rnDEzo-\" width=\"250\">"
      ]
    },
    {
      "cell_type": "code",
      "metadata": {
        "id": "GgkcKOrD88mc",
        "colab": {
          "base_uri": "https://localhost:8080/",
          "height": 118
        },
        "outputId": "091bebfc-7664-4c30-ec37-e074310a49ad"
      },
      "source": [
        "types_of_people=10\n",
        "x=f\"There are {types_of_people} types of people\"\n",
        "\n",
        "binary=\"binary\"\n",
        "do_not=\"don't\"\n",
        "y=f\"Those who know {binary} and those who {do_not}.\"\n",
        "\n",
        "print(x)\n",
        "print(y)\n",
        "\n",
        "print(f\"I said: {x}\")\n",
        "print(f\"I also said: '{y}'\")\n",
        "\n",
        "hilarious=False\n",
        "joke_evaluation=\"Isn't that joke so funny?!{}\"\n",
        "\n",
        "print(joke_evaluation.format(hilarious))\n",
        "\n",
        "w=\"This is the left side of..\"\n",
        "e=\"a string with a right side.\"\n",
        "\n",
        "print(w+e)"
      ],
      "execution_count": null,
      "outputs": [
        {
          "output_type": "stream",
          "text": [
            "There are 10 types of people\n",
            "Those who know binary and those who don't.\n",
            "I said: There are 10 types of people\n",
            "I also said: 'Those who know binary and those who don't.'\n",
            "Isn't that joke so funny?!False\n",
            "This is the left side of..a string with a right side.\n"
          ],
          "name": "stdout"
        }
      ]
    },
    {
      "cell_type": "markdown",
      "metadata": {
        "id": "vd-aLAbB-R4p"
      },
      "source": [
        "#### 6.1\n",
        "When something is enclosed in single-quotes (') or double quotes (\"\"), python considers it a string. <br>\n",
        "At how many places in the code is there a string inside another string?"
      ]
    },
    {
      "cell_type": "code",
      "metadata": {
        "id": "DznSUeV79q0U",
        "colab": {
          "base_uri": "https://localhost:8080/",
          "height": 34
        },
        "outputId": "ba5265b5-f59a-4d5a-adf7-cdf6e9503e49"
      },
      "source": [
        "5"
      ],
      "execution_count": null,
      "outputs": [
        {
          "output_type": "execute_result",
          "data": {
            "text/plain": [
              "5"
            ]
          },
          "metadata": {
            "tags": []
          },
          "execution_count": 6
        }
      ]
    },
    {
      "cell_type": "markdown",
      "metadata": {
        "id": "LEODBvxD-vU6"
      },
      "source": [
        "#### 6.2\n",
        "Observe how adding strings ```w``` and ```e``` using a ```+``` makes them longer. <br>Create two strings of your own and print the result of adding them using a ```+``` "
      ]
    },
    {
      "cell_type": "code",
      "metadata": {
        "id": "4LXkvkEf_FH4",
        "colab": {
          "base_uri": "https://localhost:8080/",
          "height": 34
        },
        "outputId": "5751e957-8de3-4d36-c2c9-ea34c9b0352f"
      },
      "source": [
        "one=\"1\"\n",
        "plus=\"+\"\n",
        "two=\"2\"\n",
        "equals=\"=\"\n",
        "three=\"3\"\n",
        "print(one+plus+two+equals+three)"
      ],
      "execution_count": null,
      "outputs": [
        {
          "output_type": "stream",
          "text": [
            "1+2=3\n"
          ],
          "name": "stdout"
        }
      ]
    },
    {
      "cell_type": "markdown",
      "metadata": {
        "id": "-zOVla2RAgeu"
      },
      "source": [
        "# Breaking Code\n",
        "Moving forward, try to break the code that you have written so that it throws an error. <br>\n",
        "Try to experiment and see the different ways in which you can break the code and the different kinds of errors that you can make it throw. <br>\n",
        "Do this for all the drills going forward. This will help you develop your expertise in debugging."
      ]
    },
    {
      "cell_type": "code",
      "metadata": {
        "id": "ciuSV3SjA1HO",
        "colab": {
          "base_uri": "https://localhost:8080/",
          "height": 118
        },
        "outputId": "8b73d513-ff33-468c-ba30-5f69a175d8b4"
      },
      "source": [
        "types_of_people=10\n",
        "x=f\"There are {types_of_people} types of people\"\n",
        "\n",
        "binary=\"binary\"\n",
        "do_not=\"don't\"\n",
        "y=f\"Those who know {binary} and those who {do_not}.\"\n",
        "\n",
        "print(x)\n",
        "print(y)\n",
        "\n",
        "print(\"I said: \",end=\"\")\n",
        "print(f'{x}')\n",
        "print(f\"I also said: '{y}'\")\n",
        "\n",
        "hilarious=False\n",
        "joke_evaluation=\"Isn't that joke so funny?!{}\"\n",
        "\n",
        "print(joke_evaluation.format(hilarious))\n",
        "\n",
        "w=\"This is the left side of..\"\n",
        "e=\"a string with a right side.\"\n",
        "\n",
        "print(w+e)"
      ],
      "execution_count": null,
      "outputs": [
        {
          "output_type": "stream",
          "text": [
            "There are 10 types of people\n",
            "Those who know binary and those who don't.\n",
            "I said: There are 10 types of people\n",
            "I also said: 'Those who know binary and those who don't.'\n",
            "Isn't that joke so funny?!False\n",
            "This is the left side of..a string with a right side.\n"
          ],
          "name": "stdout"
        }
      ]
    },
    {
      "cell_type": "markdown",
      "metadata": {
        "id": "AEnwRvb3BL0O"
      },
      "source": [
        "#Drill #7\n",
        "<img src=\"https://drive.google.com/uc?id=1siwGm9a5ZnTsjBEUjLwxkK1d_DS6hwOB\" width=\"400\">\n",
        "\n",
        "##### Expected Output\n",
        "<img src=\"https://drive.google.com/uc?id=1mZyMsyJcI27AIFiE4OZrJQR9Cqb0LLdq\" width=\"250\">\n"
      ]
    },
    {
      "cell_type": "code",
      "metadata": {
        "id": "8kdNp3ogDr6A",
        "colab": {
          "base_uri": "https://localhost:8080/",
          "height": 101
        },
        "outputId": "e93225af-da1d-424b-b7f0-ac8832467955"
      },
      "source": [
        "print(\"Twinkle Twinkle little star\")\n",
        "print(\"How I {} what you are\".format('wonder'))\n",
        "print(\"Up above the world so high\")\n",
        "print(\".\"*3)\n",
        "\n",
        "end1=\"A\"\n",
        "end2='r'\n",
        "end3='t'\n",
        "end4='i'\n",
        "end5='f'\n",
        "end6='i'\n",
        "end7='cial'\n",
        "end8=' Intelligence'\n",
        "\n",
        "print(end1+end2+end3+end4+end5+end6+end7,end='')\n",
        "print(end8)"
      ],
      "execution_count": null,
      "outputs": [
        {
          "output_type": "stream",
          "text": [
            "Twinkle Twinkle little star\n",
            "How I wonder what you are\n",
            "Up above the world so high\n",
            "...\n",
            "Artificial Intelligence\n"
          ],
          "name": "stdout"
        }
      ]
    },
    {
      "cell_type": "markdown",
      "metadata": {
        "id": "bmlXA2j6DW0G"
      },
      "source": [
        "# Drill #8\n",
        "- ```\\n``` (backslash n) inserts a _new line character_ at that point in the string. This lets us create strings that span multiple lines.\n",
        "\n",
        "<img src=\"https://drive.google.com/uc?id=1WuIZPNCGTJ7JvXV0lx1qzgjYBoNKr-Qm\" width=\"400\">\n",
        "\n",
        "#### Expected Output\n",
        "<img src=\"https://drive.google.com/uc?id=12xmND2VZSNFiZloKwtWY3Nn3NMmMCQtv\"\n",
        "width=\"250\"> <br>\n"
      ]
    },
    {
      "cell_type": "code",
      "metadata": {
        "id": "5ttp7Ls-Q9rc",
        "colab": {
          "base_uri": "https://localhost:8080/",
          "height": 269
        },
        "outputId": "4f84a56f-5e3e-489e-e93b-1653548faac2"
      },
      "source": [
        "# Here's some strange new stuff, remember to type it in exactly\n",
        "days = \"Mon Tue Wed Thu Fri Sat Sun\"\n",
        "months = \"Jan\\nFeb\\nMar\\nApr\\nMay\\nJun\\nJul\\nAug\"\n",
        "\n",
        "print(\"Here are the days: \", days)\n",
        "print(\"Here are the months: \", months)\n",
        "print(\"\"\"\n",
        "There is something going on here.\n",
        "With the three double-quotes.\n",
        "We'll be able to type as much as we like.\n",
        "Even 4 lines if we want, or 5, or 6.\n",
        "\"\"\") \n"
      ],
      "execution_count": null,
      "outputs": [
        {
          "output_type": "stream",
          "text": [
            "Here are the days:  Mon Tue Wed Thu Fri Sat Sun\n",
            "Here are the months:  Jan\n",
            "Feb\n",
            "Mar\n",
            "Apr\n",
            "May\n",
            "Jun\n",
            "Jul\n",
            "Aug\n",
            "\n",
            "There is something going on here.\n",
            "With the three double-quotes.\n",
            "We'll be able to type as much as we like.\n",
            "Even 4 lines if we want, or 5, or 6.\n",
            "\n"
          ],
          "name": "stdout"
        }
      ]
    },
    {
      "cell_type": "markdown",
      "metadata": {
        "id": "7QJuv7BwcJ-T"
      },
      "source": [
        "# Drill #9 - Taking Data from users\n",
        "<img src=\"https://drive.google.com/uc?id=1q8MCFxBlcpUMhpf1pWeihYA_zXDU-Ve0\" width=\"400\">\n",
        "\n",
        "##### Expected Output\n",
        "<img src=\"https://drive.google.com/uc?id=1SV9Fj5L1yt5z6sKXWGZEq1WRr5kFMplt\" width=\"250\">"
      ]
    },
    {
      "cell_type": "code",
      "metadata": {
        "id": "pTiVIY07Rkdb",
        "colab": {
          "base_uri": "https://localhost:8080/",
          "height": 84
        },
        "outputId": "05778162-184e-4079-99f6-790d0585c550"
      },
      "source": [
        "print(\"How old are you?\",end=' ')\n",
        "age = input()\n",
        "print(\"How tall are you?\",end = ' ')\n",
        "height = input()\n",
        "print(\"How much do you weigh?\",end = ' ')\n",
        "weight = input()\n",
        "\n",
        "print(f\"So, you are {age} years old, {height} tall and {weight} heavy\") "
      ],
      "execution_count": null,
      "outputs": [
        {
          "output_type": "stream",
          "text": [
            "How old are you? 18\n",
            "How tall are you? 6'\n",
            "How much do you weigh? 161lbs\n",
            "So, you are 18 years old, 6' tall and 161lbs heavy\n"
          ],
          "name": "stdout"
        }
      ]
    },
    {
      "cell_type": "markdown",
      "metadata": {
        "id": "gga_fUr1IYOm"
      },
      "source": [
        "#### 9.1\n",
        "Write another “form” like this to ask some other questions."
      ]
    },
    {
      "cell_type": "code",
      "metadata": {
        "id": "v6JWSAHeRpeT",
        "colab": {
          "base_uri": "https://localhost:8080/",
          "height": 101
        },
        "outputId": "d849e299-a74f-4e5d-a9ee-766049d2b1fd"
      },
      "source": [
        "print(\"Enter your name, favourite programming language and it's version on your system.\")\n",
        "name=input()\n",
        "pro=input()\n",
        "ver=input()\n",
        "print(f\"Your name is {name}. Your favourite programming language is {pro} and it's version on your pc is {ver}. Happy Coding!!\")"
      ],
      "execution_count": null,
      "outputs": [
        {
          "output_type": "stream",
          "text": [
            "Enter your name, favourite programming language and it's version on your system.\n",
            "Prateek\n",
            "Python\n",
            "3.8.2\n",
            "Your name is Prateek. Your favourite programming language is Python and it's version on your pc is 3.8.2. Happy Coding!!\n"
          ],
          "name": "stdout"
        }
      ]
    },
    {
      "cell_type": "markdown",
      "metadata": {
        "id": "_woE1VsCLEz3"
      },
      "source": [
        "#Drill #10 - Taking input with prompts\n",
        "<img src=\"https://drive.google.com/uc?id=1CudaeeHzmT22bPqgtvnPUcPnzF_0tqVY\" width=\"400\">\n",
        "\n",
        "##### Expected Output <br>\n",
        "<img src=\"https://drive.google.com/uc?id=1oNKn5PsPDOlVmvKN5WZU8NgJwErrPHT_\" width=\"300\">\n",
        "\n"
      ]
    },
    {
      "cell_type": "code",
      "metadata": {
        "id": "gGc9vU6qM17w",
        "colab": {
          "base_uri": "https://localhost:8080/",
          "height": 84
        },
        "outputId": "52086675-49e4-47bf-eb86-14840a3f9e78"
      },
      "source": [
        "age=input(\"How old are you?\")\n",
        "height=input(\"How tall are you?\")\n",
        "weight=input(\"How much do you weigh?\")\n",
        "\n",
        "print(f\"So, you're {age} years old, {height} tall and {weight} heavy\")"
      ],
      "execution_count": null,
      "outputs": [
        {
          "output_type": "stream",
          "text": [
            "How old are you?18\n",
            "How tall are you?6'\n",
            "How much do you weigh?161lbs\n",
            "So, you're 18 years old, 6' tall and 161lbs heavy\n"
          ],
          "name": "stdout"
        }
      ]
    }
  ]
}