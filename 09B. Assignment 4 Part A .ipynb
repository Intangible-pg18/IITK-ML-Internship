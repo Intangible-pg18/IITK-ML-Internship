{
  "nbformat": 4,
  "nbformat_minor": 0,
  "metadata": {
    "colab": {
      "name": "Part_A_A4.ipynb",
      "provenance": [],
      "collapsed_sections": []
    },
    "kernelspec": {
      "name": "python3",
      "display_name": "Python 3"
    }
  },
  "cells": [
    {
      "cell_type": "code",
      "metadata": {
        "id": "ymey89gdt6v4",
        "colab": {
          "base_uri": "https://localhost:8080/",
          "height": 84
        },
        "outputId": "08bd8a6b-cfee-49a1-bc32-9e3c1c895aed"
      },
      "source": [
        "##PART A\n",
        "annual_salary = int(input(\"Enter your annual salary: \"))\n",
        "portion_saved = float(input(\"Enter the percent of your salary to save, as a decimal: \"))\n",
        "total_cost = int(input(\"Enter the cost of your dream home: \"))\n",
        "monthly_saving = (annual_salary / 12.0) * portion_saved\n",
        "down_payment = total_cost * 0.25\n",
        "current_savings = 0.0\n",
        "months = 0\n",
        "while current_savings < down_payment:\n",
        "    current_savings += (current_savings * (0.04 / 12)) + monthly_saving\n",
        "    months += 1\n",
        "print(\"Number of months:\", months)"
      ],
      "execution_count": null,
      "outputs": [
        {
          "output_type": "stream",
          "text": [
            "Enter your annual salary: 120000\n",
            "Enter the percent of your salary to save, as a decimal: 0.10\n",
            "Enter the cost of your dream home: 1000000\n",
            "Number of months: 183\n"
          ],
          "name": "stdout"
        }
      ]
    }
  ]
}