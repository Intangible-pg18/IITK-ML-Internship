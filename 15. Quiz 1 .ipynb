{
  "nbformat": 4,
  "nbformat_minor": 0,
  "metadata": {
    "colab": {
      "name": "Copy of Quiz 1.ipynb",
      "provenance": [],
      "collapsed_sections": []
    },
    "language_info": {
      "codemirror_mode": {
        "name": "ipython",
        "version": 3
      },
      "file_extension": ".py",
      "mimetype": "text/x-python",
      "name": "python",
      "nbconvert_exporter": "python",
      "pygments_lexer": "ipython3",
      "version": "3.6.8"
    },
    "kernelspec": {
      "display_name": "Python 3",
      "language": "python",
      "name": "python3"
    }
  },
  "cells": [
    {
      "cell_type": "markdown",
      "metadata": {
        "id": "k31vy_YlnRdX"
      },
      "source": [
        "## Instructions :\n",
        "- Do not change names and signatures of functions\n",
        "- Remove any additional code in the global scope that you write for your own testing."
      ]
    },
    {
      "cell_type": "markdown",
      "metadata": {
        "id": "aYEjcdekASUC"
      },
      "source": [
        "#Q. Last element\n",
        "Write a function that returns the last element of a list. <br>\n",
        "Eg., l = [1, 2, 3, 4] <br>\n",
        "last_element(l) -> 4"
      ]
    },
    {
      "cell_type": "code",
      "metadata": {
        "deletable": false,
        "id": "KDe_4spkASUE",
        "nbgrader": {
          "checksum": "2f49157fc0486325e9e28c1a88d3c28a",
          "grade": false,
          "grade_id": "last_element",
          "locked": false,
          "schema_version": 1,
          "solution": true
        }
      },
      "source": [
        "def last_element(l):\n",
        "    \"\"\"\n",
        "    Input:\n",
        "    l: Python list\n",
        "    \n",
        "    Output:\n",
        "    last element of l\n",
        "    \"\"\"\n",
        "    return(l[len(l)-1])\n",
        "    "
      ],
      "execution_count": null,
      "outputs": []
    },
    {
      "cell_type": "markdown",
      "metadata": {
        "id": "kd97gmhe0RPt"
      },
      "source": [
        "#Q. List size\n",
        "Write a function that returns the number of elements in a list.<br> \n",
        "Eg., l = [1, 2, 3, 4] <br>\n",
        "num_elements(l) -> 4"
      ]
    },
    {
      "cell_type": "code",
      "metadata": {
        "deletable": false,
        "id": "6Y2eLGm2ASUY",
        "nbgrader": {
          "checksum": "83da0368acea577b06ff2d88b39e43c8",
          "grade": false,
          "grade_id": "num_elements",
          "locked": false,
          "schema_version": 1,
          "solution": true
        }
      },
      "source": [
        "def num_elements(l):\n",
        "    \"\"\"\n",
        "    Input:\n",
        "      l: Python list\n",
        "    \n",
        "    Output:\n",
        "      number of elements in the list l\n",
        "    \"\"\"\n",
        "    return(len(l))"
      ],
      "execution_count": null,
      "outputs": []
    },
    {
      "cell_type": "markdown",
      "metadata": {
        "id": "wjgKip90ASUe"
      },
      "source": [
        "#Q. Reverse list\n",
        "Write a function that reverses a list and returns it. <br>\n",
        "Eg., l = [1, 2, 3, 4] <br>\n",
        "reverse_list(l) -> [4, 3, 2, 1]"
      ]
    },
    {
      "cell_type": "code",
      "metadata": {
        "deletable": false,
        "id": "DYbvaIPFASUf",
        "nbgrader": {
          "checksum": "549914a19489ad4d9e90ebf8f6d4d989",
          "grade": false,
          "grade_id": "reverse_list",
          "locked": false,
          "schema_version": 1,
          "solution": true
        }
      },
      "source": [
        "def reverse_list(l):\n",
        "    \"\"\"\n",
        "    Input:\n",
        "      l: Python list\n",
        "\n",
        "    Output:\n",
        "      Python list with elements of l in reverse order\n",
        "    \"\"\"\n",
        "    for i in range(0,len(l)//2):\n",
        "      t=l[i]\n",
        "      l[i]=l[len(l)-(i+1)]\n",
        "      l[len(l)-(i+1)]=t\n",
        "      print(l)\n",
        "    return (l)"
      ],
      "execution_count": null,
      "outputs": []
    },
    {
      "cell_type": "markdown",
      "metadata": {
        "id": "gYoXRir2ASUv"
      },
      "source": [
        "#Q. Compress duplicates\n",
        "Write a function that replaces consecutive duplicate elements of list with single element. <br>\n",
        "Eg., l = [a, a, a, b, b, c, a, a, d, d, d, x, x] <br>\n",
        "compress(l) -> [a, b, c, a, d, x]"
      ]
    },
    {
      "cell_type": "code",
      "metadata": {
        "deletable": false,
        "id": "hFMTS_2GASUw",
        "nbgrader": {
          "checksum": "ee5734d5706d95c02e4441d7c8327d9d",
          "grade": false,
          "grade_id": "compress",
          "locked": false,
          "schema_version": 1,
          "solution": true
        }
      },
      "source": [
        "def compress(l):\n",
        "    \"\"\"\n",
        "    Input:\n",
        "      l: Python list\n",
        "    Output:\n",
        "      Returns a list with consecutive duplicate elements replaced by a single element\n",
        "    \"\"\"\n",
        "    k=[]\n",
        "    c=l[0]\n",
        "    k.append(c)\n",
        "    for i in range(1,len(l)):\n",
        "      if c==l[i]:\n",
        "        continue\n",
        "      else:\n",
        "        c=l[i]\n",
        "        k.append(c)\n",
        "    return(k)"
      ],
      "execution_count": null,
      "outputs": []
    },
    {
      "cell_type": "markdown",
      "metadata": {
        "id": "ThQ5ZmDuASU1"
      },
      "source": [
        "#Q. Pack duplicates\n",
        "Write a function that packs consecutive duplicates of list elements into sublists. <br>\n",
        "Eg., l = [1, 1, 1, 2, 2, 3, 3, 4] \\\\\n",
        "pack(l) -> [[1,1,1], [2,2], [3,3], [4]]"
      ]
    },
    {
      "cell_type": "code",
      "metadata": {
        "deletable": false,
        "id": "bzht8yx1ASU1",
        "nbgrader": {
          "checksum": "e084b0ca4c51660c9dae713c079f2ff7",
          "grade": false,
          "grade_id": "pack",
          "locked": false,
          "schema_version": 1,
          "solution": true
        }
      },
      "source": [
        "def pack(l):\n",
        "    \"\"\"\n",
        "    Input:\n",
        "      l: Python list\n",
        "      \n",
        "    Output:\n",
        "      Returns a list with consecutive duplicate elements packed into sublists\n",
        "    \"\"\"\n",
        "    k=[]\n",
        "    c=[]\n",
        "    d=l[0]\n",
        "    c.append(d)\n",
        "    for i in range(1,len(l)):\n",
        "      if d==l[i]:\n",
        "        c.append(d)\n",
        "        continue\n",
        "      elif(d!=l[i] and i==len(l)-1):\n",
        "        d=l[i]\n",
        "        k.append(c)\n",
        "        c=[]\n",
        "        c.append(d)\n",
        "        k.append(c)\n",
        "      else:\n",
        "        d=l[i]\n",
        "        k.append(c)\n",
        "        c=[]\n",
        "        c.append(d)\n",
        "      \n",
        "    return(k)"
      ],
      "execution_count": null,
      "outputs": []
    },
    {
      "cell_type": "markdown",
      "metadata": {
        "id": "tD15nvwXASVr"
      },
      "source": [
        "#Q. Rotate list\n",
        " Write a function that rotates a list N places to the left and returns it. It should also work for negative values of n.\n",
        " Examples:<br>\n",
        "  rotate_list([a,b,c,d,e,f,g,h], 3)--> [d,e,f,g,h,a,b,c]\n",
        "   <br> rotate_list([a,b,c,d,e,f,g,h], -2)--> [g,h,a,b,c,d,e,f]"
      ]
    },
    {
      "cell_type": "code",
      "metadata": {
        "deletable": false,
        "id": "A35PMaxzASVs",
        "nbgrader": {
          "checksum": "729f44a1ee9fac4c351a7383cdbd77e0",
          "grade": false,
          "grade_id": "cell-59bc9ff73a000360",
          "locked": false,
          "schema_version": 1,
          "solution": true
        }
      },
      "source": [
        "def rotate_list(l, n):\n",
        " \"\"\"\n",
        " Input:\n",
        "   l: Python list\n",
        "   n: number of indices by which to rotate the list\n",
        " Ouput:\n",
        "   python list which is l rotated to the left by n places\n",
        " \"\"\"\n",
        " k=l[n:]\n",
        " for i in range(0,n):\n",
        "   k.append(l[i])\n",
        " return(k)"
      ],
      "execution_count": null,
      "outputs": []
    },
    {
      "cell_type": "markdown",
      "metadata": {
        "id": "t-hSQbSfASWY"
      },
      "source": [
        "#Q. Prime factors \n",
        " Determine the prime factors of a given positive integer<br>\n",
        " Write a function that constructs a flat list containing the prime factors in ascending order and returns it.\n",
        " Example:<br>\n",
        "  prime_factors(315)--> [3, 5, 7]"
      ]
    },
    {
      "cell_type": "code",
      "metadata": {
        "deletable": false,
        "id": "Egpbf3xaASWb",
        "nbgrader": {
          "checksum": "b486c5aa8ee4c8befb8d6c0c4ed031e8",
          "grade": false,
          "grade_id": "cell-8a81179106bc95ec",
          "locked": false,
          "schema_version": 1,
          "solution": true
        }
      },
      "source": [
        "def prime_factors(n):\n",
        "  \"\"\"\n",
        "  Input:\n",
        "   n: int\n",
        "  Output:\n",
        "   List containing prime factors of n in sorted order\n",
        "  \"\"\" \n",
        "  l=[]\n",
        "  for i in range(2,n):\n",
        "    if(n%i==0 and prime(i)):\n",
        "      l.append(i)\n",
        "  return(l)\n",
        "def prime(i):\n",
        "  c=0\n",
        "  for j in range(1,i+1):\n",
        "    if(i%j==0):\n",
        "      c+=1\n",
        "  if(c==2):\n",
        "    return True\n",
        "  else:\n",
        "    return False"
      ],
      "execution_count": null,
      "outputs": []
    },
    {
      "cell_type": "code",
      "metadata": {
        "id": "hZ42mGiP-AnS"
      },
      "source": [
        ""
      ],
      "execution_count": null,
      "outputs": []
    }
  ]
}