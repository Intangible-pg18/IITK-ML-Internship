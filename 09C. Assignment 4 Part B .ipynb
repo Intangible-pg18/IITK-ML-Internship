{
  "nbformat": 4,
  "nbformat_minor": 0,
  "metadata": {
    "colab": {
      "name": "Part_B_A4.ipynb",
      "provenance": [],
      "collapsed_sections": []
    },
    "kernelspec": {
      "name": "python3",
      "display_name": "Python 3"
    }
  },
  "cells": [
    {
      "cell_type": "code",
      "metadata": {
        "id": "vXVC5Ld90tLN",
        "colab": {
          "base_uri": "https://localhost:8080/",
          "height": 101
        },
        "outputId": "c5ecc957-94e0-476b-d71c-c77757264b4e"
      },
      "source": [
        "##PART B\n",
        "annual_salary = int(input(\"Enter your starting annual salary: \"))\n",
        "portion_saved = float(input(\"Enter the percent of your salary to save, as a decimal: \"))\n",
        "total_cost = int(input(\"Enter the cost of your dream home: \"))\n",
        "semi_annual_rise = float(input(\"Enter the semi-annual raise, as a decimal: \"))\n",
        "monthly_saving = (annual_salary / 12.0) * portion_saved\n",
        "down_payment = total_cost * 0.25\n",
        "current_savings = 0.0\n",
        "months = 0\n",
        "\n",
        "while current_savings < down_payment:\n",
        "    months += 1\n",
        "    current_savings += (current_savings * (0.04 / 12)) + monthly_saving\n",
        "        \n",
        "    if months % 6 == 0:\n",
        "        annual_salary += annual_salary * semi_annual_rise\n",
        "        monthly_saving = (annual_salary / 12.0) * portion_saved\n",
        "print(\"Number of months:\", months)"
      ],
      "execution_count": null,
      "outputs": [
        {
          "output_type": "stream",
          "text": [
            "Enter your starting annual salary: 120000\n",
            "Enter the percent of your salary to save, as a decimal: 0.05\n",
            "Enter the cost of your dream home: 500000\n",
            "Enter the semi-annual raise, as a decimal: 0.03\n",
            "Number of months: 142\n"
          ],
          "name": "stdout"
        }
      ]
    }
  ]
}