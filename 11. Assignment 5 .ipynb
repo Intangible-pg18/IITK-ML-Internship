{
  "nbformat": 4,
  "nbformat_minor": 0,
  "metadata": {
    "colab": {
      "name": "Copy of Assignment ____5.ipynb",
      "provenance": [],
      "collapsed_sections": []
    },
    "kernelspec": {
      "name": "python3",
      "display_name": "Python 3"
    }
  },
  "cells": [
    {
      "cell_type": "markdown",
      "metadata": {
        "id": "OEF5yWrV_h41"
      },
      "source": [
        "Use recursion to solve the problems."
      ]
    },
    {
      "cell_type": "markdown",
      "metadata": {
        "id": "Dk2q7qJt_lYY"
      },
      "source": [
        "# Q. Natural Sum\n",
        "Write a function that takes an arguemnt n and computes the sum $1 + 2 + 3 + \\ldots +n$ recursively."
      ]
    },
    {
      "cell_type": "code",
      "metadata": {
        "id": "Ky77jttY_c9A",
        "colab": {
          "base_uri": "https://localhost:8080/",
          "height": 50
        },
        "outputId": "748d4092-143c-4426-e7e6-ae242d265d8c"
      },
      "source": [
        "def natural_sum(n):\n",
        "  if n <= 1:\n",
        "    return n\n",
        "  else:\n",
        "    return n + natural_sum(n-1)\n",
        " \n",
        "num = int(input(\"Enter a number: \"))\n",
        "print(\"The sum is: \", natural_sum(num))"
      ],
      "execution_count": null,
      "outputs": [
        {
          "output_type": "stream",
          "text": [
            "Enter a number: 10\n",
            "The sum is:  55\n"
          ],
          "name": "stdout"
        }
      ]
    },
    {
      "cell_type": "code",
      "metadata": {
        "id": "OFPqTvHgAFGF"
      },
      "source": [
        "\"\"\"Test Cases\"\"\"\n",
        "assert natural_sum(1) == 1\n",
        "assert natural_sum(10) == 55\n",
        "print(f\"Test cases passed! {chr(0x1F44D)}\")"
      ],
      "execution_count": null,
      "outputs": []
    },
    {
      "cell_type": "markdown",
      "metadata": {
        "id": "AdmSPaq-_5HJ"
      },
      "source": [
        "#Q. Recursively Min\n",
        "Write a recursive function that finds and returns the minimum element in an array.\n"
      ]
    },
    {
      "cell_type": "code",
      "metadata": {
        "id": "VFHBLosvABK7",
        "colab": {
          "base_uri": "https://localhost:8080/",
          "height": 286
        },
        "outputId": "b87fdf8c-4350-4c13-c9b9-c437351612c6"
      },
      "source": [
        "def findmin(arr):\n",
        "    if len(arr) == 1:\n",
        "       return arr[0]\n",
        "\n",
        "    else:\n",
        "       return min(arr[0], findmin(arr[1:]))\n",
        "n=int(input(\"Enter length of array: \"))\n",
        "arr=[]\n",
        "for i in range(0,n):\n",
        "  print(\"Enter element: \")\n",
        "  arr.append(int(input()))\n",
        "findmin(arr)"
      ],
      "execution_count": null,
      "outputs": [
        {
          "output_type": "stream",
          "text": [
            "Enter length of array: 7\n",
            "Enter element: \n",
            "2\n",
            "Enter element: \n",
            "3\n",
            "Enter element: \n",
            "2\n",
            "Enter element: \n",
            "4\n",
            "Enter element: \n",
            "7\n",
            "Enter element: \n",
            "8\n",
            "Enter element: \n",
            "9\n"
          ],
          "name": "stdout"
        },
        {
          "output_type": "execute_result",
          "data": {
            "text/plain": [
              "2"
            ]
          },
          "metadata": {
            "tags": []
          },
          "execution_count": 21
        }
      ]
    },
    {
      "cell_type": "code",
      "metadata": {
        "id": "8spUYp8oAc9b"
      },
      "source": [
        "\"\"\"Test Cases\"\"\"\n",
        "assert findmin([2, 3, 2, 4, 7, 8, 9]) == 2\n",
        "assert findmin([1]) == 1\n",
        "print(f\"Test cases passed! {chr(0x1F44D)}\")"
      ],
      "execution_count": null,
      "outputs": []
    },
    {
      "cell_type": "markdown",
      "metadata": {
        "id": "wf1-NubMEUkW"
      },
      "source": [
        "# Q.Recursive Palindrome\n",
        "Write a recursive function that takes a string and returns whether the string is a palindrome or not. (Function should return a bool ```True``` or ```False```)"
      ]
    },
    {
      "cell_type": "code",
      "metadata": {
        "id": "vSfaF9sRBPC-",
        "colab": {
          "base_uri": "https://localhost:8080/",
          "height": 50
        },
        "outputId": "7cdb3c1c-f661-4491-9b03-19fee51a15a2"
      },
      "source": [
        "def isPalindrome(s):\n",
        "  if len(s) < 1:\n",
        "    return True\n",
        "  else:\n",
        "    if s[0] == s[-1]:\n",
        "      return isPalindrome(s[1:-1])\n",
        "    else:\n",
        "      return False\n",
        "\n",
        "a=input(\"Enter string: \")\n",
        "a=a.lower()\n",
        "a=a.replace(' ','')\n",
        "if(isPalindrome(a)==True):\n",
        "    print(\"String is palindrome\")\n",
        "else:\n",
        "    print(\"String is not palindrome\")"
      ],
      "execution_count": null,
      "outputs": [
        {
          "output_type": "stream",
          "text": [
            "Enter string: Was it A Rat I saw\n",
            "String is palindrome\n"
          ],
          "name": "stdout"
        }
      ]
    },
    {
      "cell_type": "code",
      "metadata": {
        "id": "xiiG88UfBPad"
      },
      "source": [
        "\"\"\"Test Cases\"\"\"\n",
        "assert isPalindrome(\"abbaa\") == False\n",
        "assert isPalindrome(\"Was it A Rat I saw\") == True"
      ],
      "execution_count": null,
      "outputs": []
    },
    {
      "cell_type": "markdown",
      "metadata": {
        "id": "JadE5TmTGNe9"
      },
      "source": [
        "#Q. Change Pi\n",
        "Write a function that takes a string and replaces all occurences of pi with 3.14. This should be done using recursion instead of loops (iteration). "
      ]
    },
    {
      "cell_type": "code",
      "metadata": {
        "id": "dXU0fjjBF2ve",
        "colab": {
          "base_uri": "https://localhost:8080/",
          "height": 50
        },
        "outputId": "1956c7b9-9fc3-4c24-a664-14d0a2e615c9"
      },
      "source": [
        "def changePi(s):\n",
        "  if(len(s)<2):\n",
        "    return s\n",
        "  elif(s[0:2]=='pi'):\n",
        "    return(\"3.14\"+changePi(s[2:]))\n",
        "  else:\n",
        "    return(s[0]+changePi(s[1:]))\n",
        "\n",
        "s=input(\"Enter a string: \")\n",
        "print(changePi(s))"
      ],
      "execution_count": null,
      "outputs": [
        {
          "output_type": "stream",
          "text": [
            "Enter a string: pixypiabpi\n",
            "3.14xy3.14ab3.14\n"
          ],
          "name": "stdout"
        }
      ]
    },
    {
      "cell_type": "code",
      "metadata": {
        "id": "7DRvjjklGmpz"
      },
      "source": [
        "\"\"\"Test Cases\"\"\"\n",
        "assert changePi(\"pixyzpi\") == \"3.14xyz3.14\"\n",
        "assert changePi(\"pixypiabpi\") == \"3.14xy3.14ab3.14\""
      ],
      "execution_count": null,
      "outputs": []
    },
    {
      "cell_type": "markdown",
      "metadata": {
        "id": "GLwJxlAcH9WM"
      },
      "source": [
        "#Q. "
      ]
    }
  ]
}