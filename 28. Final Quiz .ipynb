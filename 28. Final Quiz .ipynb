{
  "nbformat": 4,
  "nbformat_minor": 0,
  "metadata": {
    "colab": {
      "name": "Prateek_ai_final_quiz.ipynb",
      "provenance": []
    },
    "kernelspec": {
      "display_name": "Python 3",
      "language": "python",
      "name": "python3"
    },
    "language_info": {
      "codemirror_mode": {
        "name": "ipython",
        "version": 3
      },
      "file_extension": ".py",
      "mimetype": "text/x-python",
      "name": "python",
      "nbconvert_exporter": "python",
      "pygments_lexer": "ipython3",
      "version": "3.8.3"
    }
  },
  "cells": [
    {
      "cell_type": "markdown",
      "metadata": {
        "id": "AmE5WQ-WZbm-"
      },
      "source": [
        "Before you turn this problem in, make sure everything runs as expected. First, **Restart and Run All** (in the menubar in colab, select Runtime$\\rightarrow$Restart and Run all) \n",
        "\n",
        "Make sure you only fill in any place that says `YOUR CODE HERE` and do not make any other changes to the code. If you add any code cells for your own testing. Please delete them before submission."
      ]
    },
    {
      "cell_type": "markdown",
      "metadata": {
        "id": "qdU9PpDqZbnE"
      },
      "source": [
        "---"
      ]
    },
    {
      "cell_type": "markdown",
      "metadata": {
        "id": "8d0Pc5wTwJJi"
      },
      "source": [
        "## 1\n",
        "Write a function that takes a dictionary ```d``` and value ```n``` and returns a list of ```n``` random terms. <br>\n",
        "Key-value pairs in dictionary ```d``` will be term-probability pairs defining a discrete random variable. Sum of all values in ```d``` will be 1. The function you write should generate ```n``` terms randomly (with replacement) according to the probability distribution given in the dictionary. <br>\n",
        "For eg., if term ```hello``` has probability ```0.1```, if we generate 1000 terms using the function, the expected number of times ```hello``` occurs should be ```100```"
      ]
    },
    {
      "cell_type": "code",
      "metadata": {
        "deletable": false,
        "id": "k5My6XOgwFMz",
        "nbgrader": {
          "cell_type": "code",
          "checksum": "059852eddb77da41ea5ce02aaa35f5e1",
          "grade": false,
          "grade_id": "cell-f04c2690de9e5197",
          "locked": false,
          "schema_version": 3,
          "solution": true,
          "task": false
        }
      },
      "source": [
        "import numpy as np\n",
        "def random_generator(d, n):\n",
        "  \"\"\"\n",
        "  Inputs:\n",
        "    d : dictionary of term-probability pairs\n",
        "    n : int, number of random terms to generate\n",
        "  Outputs:\n",
        "    rand_list : list of length n, contains random terms generated according to probability distribution given in dictionary d\n",
        "  \"\"\"\n",
        "  \n",
        "  # YOUR CODE HERE\n",
        "  rand_list = []\n",
        "  key = []\n",
        "  value = []\n",
        "  for i, j in d.items():\n",
        "    key.append(i)\n",
        "    value.append(j)\n",
        "\n",
        "  for k in range(n):\n",
        "    probability = np.random.choice(key, p = value)\n",
        "    rand_list.append(probability)\n",
        "  \n",
        "  return rand_list"
      ],
      "execution_count": null,
      "outputs": []
    },
    {
      "cell_type": "code",
      "metadata": {
        "deletable": false,
        "editable": false,
        "id": "AioxXYhb1V0E",
        "nbgrader": {
          "cell_type": "code",
          "checksum": "facf5533fec6bff84b3fdb24b467f521",
          "grade": true,
          "grade_id": "cell-650351e8916fecef",
          "locked": true,
          "points": 0,
          "schema_version": 3,
          "solution": false,
          "task": false
        }
      },
      "source": [
        "from collections import Counter\n",
        "import numpy as np\n",
        "d = {'hello': 0.5, 'world': 0.5}\n",
        "rand_lists = []\n",
        "for _ in range(100):\n",
        "  rand_lists += random_generator(d, 10)\n",
        "c = Counter(rand_lists)\n",
        "assert np.isclose(c['hello'], 500, atol = 100) ## Number of hellos should ideally be close to 500, but we are checking that it should be between 400 and 600\n",
        "assert np.isclose(c['world'], 500, atol = 100)\n"
      ],
      "execution_count": null,
      "outputs": []
    },
    {
      "cell_type": "markdown",
      "metadata": {
        "id": "ZEOLbyMx5AQa"
      },
      "source": [
        "## 2\n",
        "Given a numpy array that may contain some nan values, return sum of elements of the array after replacing all ```nan``` values with value ```1```."
      ]
    },
    {
      "cell_type": "code",
      "metadata": {
        "deletable": false,
        "id": "3anPO6B913Uc",
        "nbgrader": {
          "cell_type": "code",
          "checksum": "b157d9a46dfa93e080b710bef0fa02bf",
          "grade": false,
          "grade_id": "cell-7d1764292e628bc4",
          "locked": false,
          "schema_version": 3,
          "solution": true,
          "task": false
        }
      },
      "source": [
        "def nan_sum(a):\n",
        "  \"\"\"\n",
        "  Inputs:\n",
        "  a : numpy array of arbitrary shape\n",
        "\n",
        "  Outputs:\n",
        "  sum_ : float, sum of elements of a after replacing nans with 1's\n",
        "  \"\"\"\n",
        "  \n",
        "  # YOUR CODE HERE\n",
        "  a[np.isnan(a)]=1.0\n",
        "  sum_=np.sum(a)\n",
        "  return sum_"
      ],
      "execution_count": null,
      "outputs": []
    },
    {
      "cell_type": "code",
      "metadata": {
        "deletable": false,
        "editable": false,
        "id": "GTu_BusN4aWL",
        "nbgrader": {
          "cell_type": "code",
          "checksum": "0cf073fac4b95862af2350abe40b4ea7",
          "grade": true,
          "grade_id": "cell-6eb7b59b7bbffcf5",
          "locked": true,
          "points": 0,
          "schema_version": 3,
          "solution": false,
          "task": false
        }
      },
      "source": [
        "a = np.ones((3, 3))*2\n",
        "a[0, 0] = np.nan\n",
        "a[0, 2] = np.nan\n",
        "assert np.isclose(nan_sum(a), 16) \n"
      ],
      "execution_count": null,
      "outputs": []
    },
    {
      "cell_type": "markdown",
      "metadata": {
        "id": "RqluP2imDCEo"
      },
      "source": [
        "## 3\n",
        "Write a function ```gradient_descent``` to perform gradient descent. <br>\n",
        "The function takes arguments - ```f```, ```df```, ```startx```, ```lr``` and ```steps```. <br>\n",
        "```f``` is the function we are trying to minimize. <br>\n",
        "```df``` is the derivative function of ```f``` <br>\n",
        "```startx``` is the point ```x``` at which we begin gradient descent <br>\n",
        "```lr``` is learning rate that we use <br>\n",
        "```steps``` is number of steps for which we will perform gradient descent\n"
      ]
    },
    {
      "cell_type": "code",
      "metadata": {
        "deletable": false,
        "id": "M6EltDWMAsix",
        "nbgrader": {
          "cell_type": "code",
          "checksum": "6b3636f69ef569d74c2fe83756c54307",
          "grade": false,
          "grade_id": "cell-75ff3a85e90b3df3",
          "locked": false,
          "schema_version": 3,
          "solution": true,
          "task": false
        }
      },
      "source": [
        "def gradient_descent(f, df, startx, lr, steps):\n",
        "  \"\"\"\n",
        "  Inputs:\n",
        "    f : function, single argument function which takes a float and returns a float, function to be minimized \n",
        "    df : function single argument function which takes a float and returns a float, derivative of f\n",
        "    startx : float, \n",
        "    lr : float,\n",
        "    steps: int\n",
        "  Outputs:\n",
        "    flist : list of length steps+1, values of f at each step of gradient descent \n",
        "  \"\"\"\n",
        "  \n",
        "  # YOUR CODE HERE\n",
        "  flist=[]\n",
        "  flist.append (f(startx))\n",
        "  for i in range(steps):\n",
        "        startx-=lr*df(startx)\n",
        "        flist.append (f(startx))\n",
        "  \n",
        "  return flist"
      ],
      "execution_count": null,
      "outputs": []
    },
    {
      "cell_type": "code",
      "metadata": {
        "deletable": false,
        "editable": false,
        "id": "Bpyk1w2jBdZ3",
        "nbgrader": {
          "cell_type": "code",
          "checksum": "fb16a67bd5bc4bafd422e13dc00b3a0f",
          "grade": true,
          "grade_id": "cell-0de435e711b9b89d",
          "locked": true,
          "points": 0,
          "schema_version": 3,
          "solution": false,
          "task": false
        }
      },
      "source": [
        "f = lambda x: x**2 - 2*x + 3\n",
        "df = lambda x: 2*x - 2\n",
        "startx = 10\n",
        "lr = 0.2\n",
        "steps = 100\n",
        "flist = gradient_descent(f, df, startx, lr, steps)\n",
        "assert flist[50] <= flist[0]\n"
      ],
      "execution_count": null,
      "outputs": []
    },
    {
      "cell_type": "markdown",
      "metadata": {
        "id": "EvCdz8njNOsW"
      },
      "source": [
        "## 4\n",
        "### Unrolling an RNN\n",
        "We define a recurrent neuron as follows - \n",
        "$$\n",
        "  y_{t+1} = \\begin{cases}\n",
        "  2*y_t + (y_{t-1}\\bmod 3) \\text{  if y_t is even} \\\\\n",
        "  3*y_t + 1 \\text{ if y_t is odd} \n",
        "  \\end{cases}\n",
        "$$\n",
        "\n",
        "Write the function custom_rnn which takes as inputs ```y0``` and ```steps``` and unrolls the RNN defined above for ```steps``` number of steps. (Assume $y_{t-1}$ is 0 for all values of t less than 0)"
      ]
    },
    {
      "cell_type": "code",
      "metadata": {
        "deletable": false,
        "id": "qFTvMcGuMXH6",
        "nbgrader": {
          "cell_type": "code",
          "checksum": "626b8f1349a581d807a738f20b8027a8",
          "grade": false,
          "grade_id": "cell-ae63f5449d761d1c",
          "locked": false,
          "schema_version": 3,
          "solution": true,
          "task": false
        }
      },
      "source": [
        "def custom_rnn(y0, steps):\n",
        "  \"\"\"\n",
        "  Inputs:\n",
        "    y0 : float\n",
        "    steps: int, number of steps\n",
        "  Outputs:\n",
        "    ys : numpy array, array of length steps with values of y\n",
        "  \"\"\"\n",
        "  \n",
        "  # YOUR CODE HERE\n",
        "  ys=[]\n",
        "  ys.append(y0)\n",
        "  for i in range(steps-1):\n",
        "        if (ys[i]%2==0):\n",
        "            y=2*ys[i]\n",
        "            if (i-1>=0):\n",
        "                y+=ys[i-1]%3\n",
        "            ys.append(y)\n",
        "        else:\n",
        "            ys.append(3*ys[i]+1)\n",
        "\n",
        "  ys=np.array(ys,dtype=float)\n",
        "  return ys"
      ],
      "execution_count": null,
      "outputs": []
    },
    {
      "cell_type": "code",
      "metadata": {
        "deletable": false,
        "editable": false,
        "id": "cq84oseLTM2U",
        "nbgrader": {
          "cell_type": "code",
          "checksum": "b28772b7c4330b81b5ec176c0802bc30",
          "grade": true,
          "grade_id": "cell-4df2a479e9dbeebe",
          "locked": true,
          "points": 0,
          "schema_version": 3,
          "solution": false,
          "task": false
        }
      },
      "source": [
        "ys = custom_rnn(3, 5)\n",
        "assert np.all(np.isclose(ys, np.array([  3.,  10.,  20.,  41., 124.])))\n"
      ],
      "execution_count": null,
      "outputs": []
    },
    {
      "cell_type": "code",
      "metadata": {
        "id": "J2wJXeTxTmEo"
      },
      "source": [
        ""
      ],
      "execution_count": null,
      "outputs": []
    }
  ]
}