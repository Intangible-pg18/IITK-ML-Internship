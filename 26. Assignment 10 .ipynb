{
  "nbformat": 4,
  "nbformat_minor": 0,
  "metadata": {
    "colab": {
      "name": "Solutions to Assignment 10_prateek.ipynb",
      "provenance": [],
      "collapsed_sections": []
    },
    "kernelspec": {
      "name": "python3",
      "display_name": "Python 3"
    }
  },
  "cells": [
    {
      "cell_type": "markdown",
      "metadata": {
        "id": "mHjEwJl01xE_"
      },
      "source": [
        "### Training a single recurrent neuron"
      ]
    },
    {
      "cell_type": "markdown",
      "metadata": {
        "id": "whuS7vSS12MP"
      },
      "source": [
        "We define a recurrent neuron as follows: <br>\n",
        "$y_{t+1} = 0.5y_t + 0.5x_t$"
      ]
    },
    {
      "cell_type": "markdown",
      "metadata": {
        "id": "1QZuQZ8Y2MGr"
      },
      "source": [
        "### Generate Data\n",
        "Start with $y_0$ = $0$ <br>\n",
        "Generate a series of random numbers $+1/-1$ with $50/50$ probability. This will constitute our input at each time step ($x_t$)"
      ]
    },
    {
      "cell_type": "code",
      "metadata": {
        "id": "qByezjAEvIks"
      },
      "source": [
        "import numpy as np"
      ],
      "execution_count": null,
      "outputs": []
    },
    {
      "cell_type": "code",
      "metadata": {
        "id": "4KxA7SCO062E"
      },
      "source": [
        "def generate_inputs(n):\n",
        "  \"\"\"\n",
        "  Inputs:\n",
        "    n: int\n",
        "\n",
        "  Outputs: \n",
        "    x_t : list of length n with either +1 or -1 generated randomly with 50/50 probability\n",
        "  \"\"\"\n",
        "  ## x_t = np.array([1 if np.random.rand(1) > 0.5 else -1 for i in range(n)]) ## list comprehension\n",
        "  x_t = []\n",
        "  for i in range(n):\n",
        "    if(np.random.uniform() > 0.5):\n",
        "      x_t.append(1)\n",
        "    else:\n",
        "      x_t.append(-1)\n",
        "  \n",
        "  return np.array(x_t)"
      ],
      "execution_count": null,
      "outputs": []
    },
    {
      "cell_type": "code",
      "metadata": {
        "id": "uOLLhByKcR7o"
      },
      "source": [
        ""
      ],
      "execution_count": null,
      "outputs": []
    },
    {
      "cell_type": "code",
      "metadata": {
        "id": "_9Jo5tPm7S0G"
      },
      "source": [
        "def generate_outputs(x_t):\n",
        "  \"\"\"\n",
        "  Inputs:\n",
        "    x_t: list of length n with inputs to recurrent neuron\n",
        "\n",
        "  Outputs:\n",
        "    y_t : list of length n+1 with outputs generated using our definition of recurrent neuron \n",
        "  \"\"\"\n",
        "  ### Write your code here\n",
        "  y_t = [0]\n",
        "  for i in range(1, x_t.shape[0] + 1):\n",
        "    y_t.append(0.5*y_t[i-1] + 0.5*x_t[i-1])\n",
        "  return np.array(y_t)"
      ],
      "execution_count": null,
      "outputs": []
    },
    {
      "cell_type": "markdown",
      "metadata": {
        "id": "nyDMlVkK7yMR"
      },
      "source": [
        "### Training using BPTT\n",
        "Write the train function that takes $y_t$ and $x_t$, starts with random values of $w$ and $g$ where \n",
        "$$\n",
        "y_{t+1} = wx_{t} + gy_t \\\\\n",
        "$$\n",
        "and trains using BPTT to find values of $w$ and $g$\n",
        "$$\n",
        "\n",
        "Backpropagation of gradients\n",
        "$$\n",
        "dy_{hat_t} = \\frac{\\partial{E}}{\\partial{y_{t+1}}} * \\frac{\\partial{y_{t+1}}}{\\partial{y_t}} \n",
        "$$\n",
        "$$\n",
        "dw = \\frac{\\partial{y_{t+1}}}{\\partial{w}} * \\frac{\\partial{E}}{\\partial{y_{t+1}}} \n",
        "$$"
      ]
    },
    {
      "cell_type": "code",
      "metadata": {
        "id": "37MeIOak80R3"
      },
      "source": [
        "def train_bptt(x_t, y_t, time_steps, epochs, w_his = None, g_his = None):\n",
        "  \"\"\"\n",
        "  Inputs:\n",
        "    x_t: list of length n with inputs to recurrent neuron\n",
        "    y_t: list of length n+1 with outputs\n",
        "    time_steps: int, number of timesteps to roll the rnn and do bptt\n",
        "    epochs: number of epochs to train the rnn for\n",
        "  \n",
        "  Outputs:\n",
        "    w, g: trained parameters of the model\n",
        "  \"\"\"\n",
        "  ### Write your code here\n",
        "  if(w_his == None):\n",
        "    w_his = [np.random.rand(1)*0.01]\n",
        "    g_his = [np.random.rand(1)*0.01] \n",
        "\n",
        "  y = [0]\n",
        "  eta = 0.1\n",
        "\n",
        "  for e in range(epochs):\n",
        "    y = [0]\n",
        "    for i in range(0, x_t.shape[0], time_steps):\n",
        "    \n",
        "      ts = min(x_t.shape[0] - i, time_steps)\n",
        "      w = w_his[-1]\n",
        "      g = g_his[-1]\n",
        "      dy = [0]\n",
        "      dyhat = np.zeros(ts + 1)\n",
        "      dw = 0\n",
        "      dg = 0\n",
        "\n",
        "      ## Forward pass\n",
        "      for t in range(i, i+ts):  ## I had used range(i+ts) earlier, but this works as well\n",
        "        y.append(w*x_t[t] + g*y[t])\n",
        "      \n",
        "\n",
        "      ## Backward pass\n",
        "      for j in range(ts):\n",
        "        ## dy is gradient directly coming from error at a particular timestep\n",
        "        ## E = 1/2(y - yd)^2 , so dy = dE/dy = y - yd\n",
        "        dy.append(y[i+j+1]-y_t[i+j+1])\n",
        "      \n",
        "      for j in range(ts - 1, 0, -1):\n",
        "        ## dyhat is gradient to y_t coming from dy_t+1 \n",
        "        dyhat[j] = g*(dyhat[j+1] + dy[j+1])\n",
        "        dw += x_t[i+j]*(dyhat[j+1] + dy[j+1])\n",
        "        dg += y[i+j]*(dyhat[j+1] + dy[j+1]) \n",
        "      \n",
        "      w_his.append(w - eta*dw)\n",
        "      g_his.append(g - eta*dg)\n",
        "  \n",
        "  return w_his, g_his\n",
        "  "
      ],
      "execution_count": null,
      "outputs": []
    },
    {
      "cell_type": "code",
      "metadata": {
        "id": "xGrwYEWXxLyU"
      },
      "source": [
        "x_t = generate_inputs(100)\n",
        "y_t = generate_outputs(x_t)\n",
        "w_his, g_his = train_bptt(x_t, y_t, 5, 100)"
      ],
      "execution_count": null,
      "outputs": []
    },
    {
      "cell_type": "code",
      "metadata": {
        "id": "m1VNju9GaRZo"
      },
      "source": [
        "#w_his, g_his = train_bptt(x_t, y_t, 5, 500, w_his = w_his, g_his = g_his)"
      ],
      "execution_count": null,
      "outputs": []
    },
    {
      "cell_type": "code",
      "metadata": {
        "id": "kwPsxG0BxoK_",
        "colab": {
          "base_uri": "https://localhost:8080/",
          "height": 283
        },
        "outputId": "8bb1a267-9f00-4e23-fb10-c06319622893"
      },
      "source": [
        "import matplotlib.pyplot as plt\n",
        "plt.plot(w_his)"
      ],
      "execution_count": null,
      "outputs": [
        {
          "output_type": "execute_result",
          "data": {
            "text/plain": [
              "[<matplotlib.lines.Line2D at 0x7f74b71097f0>]"
            ]
          },
          "metadata": {
            "tags": []
          },
          "execution_count": 158
        },
        {
          "output_type": "display_data",
          "data": {
            "image/png": "[encoded data removed]",
            "text/plain": [
              "<Figure size 432x288 with 1 Axes>"
            ]
          },
          "metadata": {
            "tags": [],
            "needs_background": "light"
          }
        }
      ]
    },
    {
      "cell_type": "code",
      "metadata": {
        "id": "-mz2qgb_yJW2",
        "colab": {
          "base_uri": "https://localhost:8080/",
          "height": 191
        },
        "outputId": "b16d4220-4afa-4134-ac49-8ec2c481dfbd"
      },
      "source": [
        "w_his[-10:]"
      ],
      "execution_count": null,
      "outputs": [
        {
          "output_type": "execute_result",
          "data": {
            "text/plain": [
              "[array([0.5]),\n",
              " array([0.5]),\n",
              " array([0.5]),\n",
              " array([0.5]),\n",
              " array([0.5]),\n",
              " array([0.5]),\n",
              " array([0.5]),\n",
              " array([0.5]),\n",
              " array([0.5]),\n",
              " array([0.5])]"
            ]
          },
          "metadata": {
            "tags": []
          },
          "execution_count": 150
        }
      ]
    },
    {
      "cell_type": "code",
      "metadata": {
        "id": "Q61I3HknzCWw",
        "colab": {
          "base_uri": "https://localhost:8080/",
          "height": 283
        },
        "outputId": "28fd1455-87c4-4733-9126-42e5aa257012"
      },
      "source": [
        "plt.plot(g_his)"
      ],
      "execution_count": null,
      "outputs": [
        {
          "output_type": "execute_result",
          "data": {
            "text/plain": [
              "[<matplotlib.lines.Line2D at 0x7f74b758d1d0>]"
            ]
          },
          "metadata": {
            "tags": []
          },
          "execution_count": 151
        },
        {
          "output_type": "display_data",
          "data": {
            "image/png": "[encoded data removed]",
            "text/plain": [
              "<Figure size 432x288 with 1 Axes>"
            ]
          },
          "metadata": {
            "tags": [],
            "needs_background": "light"
          }
        }
      ]
    },
    {
      "cell_type": "code",
      "metadata": {
        "id": "eXpkOBIM0HVl",
        "colab": {
          "base_uri": "https://localhost:8080/",
          "height": 191
        },
        "outputId": "f9c1fbc2-4792-404e-9b65-c97bb793b1bc"
      },
      "source": [
        "g_his[-10:]"
      ],
      "execution_count": null,
      "outputs": [
        {
          "output_type": "execute_result",
          "data": {
            "text/plain": [
              "[array([-0.05074037]),\n",
              " array([-0.05074037]),\n",
              " array([-0.05074037]),\n",
              " array([-0.05074037]),\n",
              " array([-0.05074037]),\n",
              " array([-0.05074037]),\n",
              " array([-0.05074037]),\n",
              " array([-0.05074037]),\n",
              " array([-0.05074037]),\n",
              " array([-0.05074037])]"
            ]
          },
          "metadata": {
            "tags": []
          },
          "execution_count": 75
        }
      ]
    },
    {
      "cell_type": "code",
      "metadata": {
        "id": "bzoHje7W0Rgq"
      },
      "source": [
        ""
      ],
      "execution_count": null,
      "outputs": []
    }
  ]
}