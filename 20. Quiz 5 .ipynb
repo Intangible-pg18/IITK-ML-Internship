{
  "nbformat": 4,
  "nbformat_minor": 0,
  "metadata": {
    "colab": {
      "name": "CCCCCCof Quiz 5.ipynb",
      "provenance": [],
      "collapsed_sections": []
    },
    "kernelspec": {
      "name": "python3",
      "display_name": "Python 3"
    }
  },
  "cells": [
    {
      "cell_type": "markdown",
      "metadata": {
        "id": "k1y00BqjpyTP"
      },
      "source": [
        "##1"
      ]
    },
    {
      "cell_type": "markdown",
      "metadata": {
        "id": "9YWHjWjtp9Bz"
      },
      "source": [
        "###Q. Generate Random points\n",
        "Write a function that takes parameters $r_1$, $r_2$, $n$ $(r_2 > r_1 > 0)$ and generates random points $(x_1, x_2)$ as follows - \n",
        "- $n$ random points that lie within a circle with center at $(0, 0)$ and radius $r_1$ $\\rightarrow$ These points belong to class ```'inner'```\n",
        "- $n$ random points that lie outside circle with center at $(0, 0)$ and radius $r_1$ but inside circle with center at $(0, 0)$ and radius $r_2$ $\\rightarrow$ These points belong to class ```'outer'```\n",
        "\n",
        "The function gen_random should return $X$, $Cls$ :\n",
        "- $X$ is a numpy array of shape $(2n, 2)$ which has the $2n$ random points generated as above\n",
        "- $Cls$ is a numpy array of shape $(2n,)$ which contains the value of the class corresponding to each point in $X$ (values will be either ```'inner'``` or ```'outer'```)"
      ]
    },
    {
      "cell_type": "code",
      "metadata": {
        "id": "7WWEUIetpA04"
      },
      "source": [
        "import numpy as np\n",
        "import random\n",
        "import math\n",
        "def gen_random_points(r1, r2, n):\n",
        "  \"\"\"\n",
        "  Inputs:\n",
        "    r1 : float\n",
        "    r2 : float, r2 > r1\n",
        "    n : int, number of points\n",
        "  Outputs:\n",
        "    X : numpy array, shape -> (2n, 2)\n",
        "    Cls : numpy array, shape -> (2n, )\n",
        "  \"\"\"\n",
        "  X = [[0 for i in range(2)] for j in range(2*n)]\n",
        "  x=[0 for i in range(2)]\n",
        "  Cls=[0 for i in range(2*n)]\n",
        "  alpha = 2 * math.pi * random.random()\n",
        "  r=[0 for i in range(2*n)]\n",
        "  for i in range(2*n):\n",
        "    r[i]=r2 * math.sqrt(random.random())\n",
        "  for i in range(0,2*n):\n",
        "      for j in range(0,2):\n",
        "          if(j==0):\n",
        "              x[j]= r[i] * math.cos(alpha)\n",
        "          if(j==1):\n",
        "              x[j]= r[i] * math.sin(alpha)\n",
        "          X[i][j]=round(x[j],3)\n",
        "      if((pow(X[i][0],2)+pow(X[i][1],2))<=(pow(r1,2))):\n",
        "          Cls[i]=\"inner\"\n",
        "      else:\n",
        "          Cls[i]=\"outer\"\n",
        "  return (X, Cls)"
      ],
      "execution_count": null,
      "outputs": []
    },
    {
      "cell_type": "markdown",
      "metadata": {
        "id": "zQEovtnWvF1E"
      },
      "source": [
        "##2"
      ]
    },
    {
      "cell_type": "markdown",
      "metadata": {
        "id": "RZnBaClDvJbp"
      },
      "source": [
        "###Q. One-hot encode\n",
        "Write a function that takes a numpy array $Cls$ of shape $(n, )$ which contains class labels of $n$ samples of data and creates a numpy array, $Y_d$ of shape $(n, \\text{unique})$ containing 1-hot representations of the $n$ samples. Here $\\text{unique}$ is the number of unique classes in $Cls$. <br>\n",
        "The function should return two values - \n",
        "- $Y_d$ - numpy array of shape $(n, \\text{unique})$ with 1-hot representations\n",
        "- ```cls_order``` - numpy array of shape $(\\text{unique}, )$ which contains the labels of the classes in the order in which they occur in the 1-hot representation.\n"
      ]
    },
    {
      "cell_type": "code",
      "metadata": {
        "id": "WLB75bffvIne"
      },
      "source": [
        "from sklearn.preprocessing import OneHotEncoder\n",
        "from sklearn.compose import ColumnTransformer\n",
        "def one_hot_encode(Cls):\n",
        "  \"\"\"\n",
        "  Inputs:\n",
        "    Cls: numpy array, shape: (n, ) contains class labels of n data samples\n",
        "  Outputs:\n",
        "    Yd : numpy array of shape (n, unique)\n",
        "    cls_order: numpy array of shape(unique, )\n",
        "  \"\"\"\n",
        "  Cls=np.reshape(Cls,(len(Cls),1))\n",
        "  ct=ColumnTransformer(transformers=[('encoder',OneHotEncoder(),[0])],remainder='passthrough')\n",
        "  Yd=ct.fit_transform(Cls)\n",
        "  v=np.unique(Cls)\n",
        "  s=np.shape(v)\n",
        "  cls_order=np.reshape(v,(s[0],))\n",
        "  return (Yd, cls_order)"
      ],
      "execution_count": null,
      "outputs": []
    },
    {
      "cell_type": "markdown",
      "metadata": {
        "id": "DFD0WNUbzYUo"
      },
      "source": [
        "##3"
      ]
    },
    {
      "cell_type": "markdown",
      "metadata": {
        "id": "PTczqgGRzZ-K"
      },
      "source": [
        "###Q. Softmax\n",
        "Write a function that takes a vector (numpy array of shape $(f,)$) - $(y_{in})$ and returns the result vector (numpy array of shape $(f,)$) - $(y_{out})$ of applying the softmax non-linearity to it. <br>\n",
        "$$\n",
        "y_{out}^{i} = \\frac{e^{y_{in}^{i}}}{\\sum_{i=1}^{f}e^{y_{in}^{i}}}\n",
        "$$ \n",
        "\n",
        "where $y^{i}$ refers to the $i^{th}$ component of vector $y$"
      ]
    },
    {
      "cell_type": "code",
      "metadata": {
        "id": "C6jF41px0EAD"
      },
      "source": [
        "def softmax(y_in):\n",
        "  \"\"\"\n",
        "  Inputs:\n",
        "    y_in : numpy array of shape (f, ), input vector \n",
        "  Outputs:\n",
        "    y_out : numpy array of shape(f, ), output vector\n",
        "  \"\"\"\n",
        "  y_out=np.exp(y_in) / np.sum(np.exp(y_in), axis=0) \n",
        "  return y_out"
      ],
      "execution_count": null,
      "outputs": []
    },
    {
      "cell_type": "markdown",
      "metadata": {
        "id": "bymfyiNKzoep"
      },
      "source": [
        "##4"
      ]
    },
    {
      "cell_type": "markdown",
      "metadata": {
        "id": "NgvyBiO2zttQ"
      },
      "source": [
        "###Q. Standardize\n",
        "Write a function that takes input dataset $X$ of shape $(n, f)$ and returns dataset $X_{stdz}$  after standardizing $X$ where\n",
        "$$\n",
        "  X_{stdz}^i = \\frac{X^i - \\mu(X)}{\\sigma(X)}\n",
        "$$\n",
        "where $\\mu(X)$ is the feature-wise mean of all samples in $X$ and $\\sigma(X)$ is feature-wise standard deviation of all samples in $X$"
      ]
    },
    {
      "cell_type": "code",
      "metadata": {
        "id": "3wLIHeN-3G1x"
      },
      "source": [
        "from sklearn import preprocessing\n",
        "def standardize(X):\n",
        "  \"\"\"\n",
        "  Inputs:\n",
        "    X: numpy array of shape (n, f)\n",
        "  Outputs:\n",
        "    X_stdz : numpy array of shape (n, f)\n",
        "  \"\"\"\n",
        "  scaler=preprocessing.StandardScaler()\n",
        "  X_stdz=scaler.fit_transform(X)\n",
        "  return X_stdz"
      ],
      "execution_count": null,
      "outputs": []
    },
    {
      "cell_type": "markdown",
      "metadata": {
        "id": "Kazu6ZCf7xVU"
      },
      "source": [
        "##5"
      ]
    },
    {
      "cell_type": "markdown",
      "metadata": {
        "id": "2oPGUWp37y63"
      },
      "source": [
        "###Q. Normalize\n",
        "Write a function that takes input dataset $X$ of shape $(n, f)$ and returns dataset $X_{normd}$  after normalizing $X$ where\n",
        "$$\n",
        "  X_{normd}^i = \\frac{X^i - \\min(X)}{max(X) - min(X)}\n",
        "$$\n",
        "where $\\max(X)$ is the feature-wise maximum of all samples in $X$ and $min(X)$ is feature-wise minimum of all samples in $X$"
      ]
    },
    {
      "cell_type": "code",
      "metadata": {
        "id": "rC3cuVxU-vSp"
      },
      "source": [
        "def normalize(X):\n",
        "  \"\"\"\n",
        "  Inputs:\n",
        "    X: numpy array of shape (n, f)\n",
        "  Outputs:\n",
        "    X_normd : numpy array of shape (n, f)\n",
        "  \"\"\"\n",
        "  X_normd=preprocessing.normalize(X)\n",
        "  return X_normd"
      ],
      "execution_count": null,
      "outputs": []
    },
    {
      "cell_type": "code",
      "metadata": {
        "id": "isDJ95w9lNRP"
      },
      "source": [
        ""
      ],
      "execution_count": null,
      "outputs": []
    }
  ]
}