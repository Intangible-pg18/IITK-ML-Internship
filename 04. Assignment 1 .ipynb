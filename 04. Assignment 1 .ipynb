{
  "nbformat": 4,
  "nbformat_minor": 0,
  "metadata": {
    "colab": {
      "name": "Copy of Assignment1.ipynb",
      "provenance": [],
      "collapsed_sections": []
    },
    "kernelspec": {
      "name": "python3",
      "display_name": "Python 3"
    }
  },
  "cells": [
    {
      "cell_type": "markdown",
      "metadata": {
        "id": "jfEgvQZgc6lZ"
      },
      "source": [
        "# Assignment - 1"
      ]
    },
    {
      "cell_type": "markdown",
      "metadata": {
        "id": "2UA3QnQCckUY"
      },
      "source": [
        "##Q. Print pattern  \n",
        "Print this pattern using only print statements\n",
        "\n",
        "<img src=\"https://drive.google.com/uc?id=1ZliJDrQ9FDk6vTQzG7Yx-qg_KSQt1z-q\" alt=\"Drawing\" style=\"width: 200px;\"/>"
      ]
    },
    {
      "cell_type": "code",
      "metadata": {
        "id": "y4gmtDhZdDkZ",
        "colab": {
          "base_uri": "https://localhost:8080/",
          "height": 84
        },
        "outputId": "ae904d4a-7a40-4d69-9e4b-3cac52b18070"
      },
      "source": [
        "print(\"   *   \\n  ***  \\n ***** \\n*******\")"
      ],
      "execution_count": null,
      "outputs": [
        {
          "output_type": "stream",
          "text": [
            "   *   \n",
            "  ***  \n",
            " ***** \n",
            "*******\n"
          ],
          "name": "stdout"
        }
      ]
    },
    {
      "cell_type": "markdown",
      "metadata": {
        "id": "Qe2rpZ_VeD94"
      },
      "source": [
        "##Q. Pretty Printing\n",
        "First create and assign two variables. One for height of a person (in feet) and another for their age (in years). <br>\n",
        "Then print this statement using format method, <br>\n",
        "(We have taken 24 as age and 6.2 as height but they should be variable)\n",
        "> Hari is 24 years old and 6.2 feet tall"
      ]
    },
    {
      "cell_type": "code",
      "metadata": {
        "id": "mURw0PZ3YJlW",
        "colab": {
          "base_uri": "https://localhost:8080/",
          "height": 84
        },
        "outputId": "34223793-d193-401d-fe5d-3a81446d2733"
      },
      "source": [
        "name=input(\"Enter you name-: \")\n",
        "age=float(input(\"Enter you age-: \"))\n",
        "height=float(input(\"Enter your height-: \"))\n",
        "print(f'{name} is {age} years old and {height} feet tall.')"
      ],
      "execution_count": null,
      "outputs": [
        {
          "output_type": "stream",
          "text": [
            "Enter you name-: Prateek\n",
            "Enter you age-: 18.3\n",
            "Enter your height-: 5.7\n",
            "Prateek is 18.3 years old and 5.7 feet tall.\n"
          ],
          "name": "stdout"
        }
      ]
    },
    {
      "cell_type": "markdown",
      "metadata": {
        "id": "z_qNFBNrf5In"
      },
      "source": [
        "##Q. Yearly Time\n",
        "Create and assign 4 variables - (days, hours, minutes, seconds) to represent the number of days in a year, number of hours in a day, number of minutes in an hour and number of seconds in a minute respectively\n",
        "\n",
        "Now write a python program that uses arithmetic operators to compute the number of seconds in a year."
      ]
    },
    {
      "cell_type": "code",
      "metadata": {
        "id": "sEz0gW4CIGdF",
        "colab": {
          "base_uri": "https://localhost:8080/",
          "height": 50
        },
        "outputId": "e3304254-5584-41ba-e012-0d6486c35409"
      },
      "source": [
        "hours=24\n",
        "minutes=60\n",
        "seconds=60\n",
        "\n",
        "def cal_sec(days):\n",
        "  seconds_in_a_year=days*hours*minutes*seconds\n",
        "  print(f'Number of seconds in a year are-: {seconds_in_a_year}')\n",
        "\n",
        "## if it's not a leap year\n",
        "cal_sec(365)\n",
        "\n",
        "##if it's a leap year\n",
        "cal_sec(366)"
      ],
      "execution_count": null,
      "outputs": [
        {
          "output_type": "stream",
          "text": [
            "Number of seconds in a year are-: 31536000\n",
            "Number of seconds in a year are-: 31622400\n"
          ],
          "name": "stdout"
        }
      ]
    },
    {
      "cell_type": "markdown",
      "metadata": {
        "id": "Vz9aVtOlJOH7"
      },
      "source": [
        "##Q. Dual Repetition\n",
        "Write a program that takes as input some text from a user and then prints it twice to the screen."
      ]
    },
    {
      "cell_type": "code",
      "metadata": {
        "id": "aFAF7077JMbq",
        "colab": {
          "base_uri": "https://localhost:8080/",
          "height": 50
        },
        "outputId": "a7c6db7d-e380-4866-c329-92b1b0b35e6b"
      },
      "source": [
        "print(input(\"Enter a Text-: \")*2)"
      ],
      "execution_count": null,
      "outputs": [
        {
          "output_type": "stream",
          "text": [
            "Enter a Text-: Here is your Text \n",
            "Here is your Text Here is your Text \n"
          ],
          "name": "stdout"
        }
      ]
    },
    {
      "cell_type": "markdown",
      "metadata": {
        "id": "NkMbIrm1IJQh"
      },
      "source": [
        "##Q. Powerful Remainder\n",
        "Write a program that takes 3 inputs $a$, $b$ and $c$ and prints the remainder when $c$ divides $a^b$"
      ]
    },
    {
      "cell_type": "code",
      "metadata": {
        "id": "mhZQ4WrfHuAC",
        "colab": {
          "base_uri": "https://localhost:8080/",
          "height": 84
        },
        "outputId": "5068f633-18c2-47f6-9b4f-fd7b8a65271f"
      },
      "source": [
        "a=int(input(\"Enter value for a: \"))\n",
        "b=int(input(\"Enter value for b: \"))\n",
        "c=int(input(\"Enter value for c: \"))\n",
        "\n",
        "print('The desired output is ',a**b%c)\n"
      ],
      "execution_count": null,
      "outputs": [
        {
          "output_type": "stream",
          "text": [
            "Enter value for a: 2\n",
            "Enter value for b: 5\n",
            "Enter value for c: 3\n",
            "The desired output is  2\n"
          ],
          "name": "stdout"
        }
      ]
    },
    {
      "cell_type": "markdown",
      "metadata": {
        "id": "WmHUVSNVI5St"
      },
      "source": [
        "##Q. Interest Compounded\n",
        "The Formula for computing compound interest is as follows - \n",
        "\\begin{equation}\n",
        "A = P(1 + \\frac{r}{n})^{nt}\n",
        "\\end{equation}\n",
        "Write a program that takes as inputs $P, r, n, t$ and prints the total amount that has to be paid."
      ]
    },
    {
      "cell_type": "code",
      "metadata": {
        "id": "vhp3_Ta6I34s",
        "colab": {
          "base_uri": "https://localhost:8080/",
          "height": 100
        },
        "outputId": "d8816b8a-c2b6-41c3-b80e-ee9fabf89d66"
      },
      "source": [
        "P=float(input(\"Enter Principal amount: \"))\n",
        "r=float(input(\"Enter Rate of interest: \"))/100\n",
        "n=float(input(\"How many times is the interest compounded: \"))\n",
        "t=float(input(\"Enter Time: \"))\n",
        "\n",
        "A=P*((1+(r/n))**(n*t))\n",
        "print(f'Total amount is {A}')"
      ],
      "execution_count": null,
      "outputs": [
        {
          "output_type": "stream",
          "text": [
            "Enter Principal amount: 5000\n",
            "Enter Rate of interest: 5\n",
            "How many times is the interest compounded: 12\n",
            "Enter Time: 10\n",
            "Total amount is 8235.0474884514\n"
          ],
          "name": "stdout"
        }
      ]
    }
  ]
}