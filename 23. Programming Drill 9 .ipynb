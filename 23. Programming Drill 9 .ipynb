{
  "nbformat": 4,
  "nbformat_minor": 0,
  "metadata": {
    "colab": {
      "name": "Copy of programming_drill_Classes.ipynb",
      "provenance": [],
      "collapsed_sections": []
    },
    "kernelspec": {
      "name": "python3",
      "display_name": "Python 3"
    }
  },
  "cells": [
    {
      "cell_type": "markdown",
      "metadata": {
        "id": "8noiUxzmrYXj"
      },
      "source": [
        "Classes are used to define User-Defined types. That means you can define your own types such as ```List``` or ```Dictionary``` but with different methods and for different purposes. <br><br>\n",
        "As an example let us define a type called ```Point``` to define points in 2d space. <br><br>\n",
        "There are several ways we might represent points in Python:\n",
        "  - We could store the coordinates separately in two variables, x and y.\n",
        "  - We could store the coordinates as elements in a list or tuple\n",
        "  - We could create a new type to represent points as objects.\n",
        "  <br>\n",
        "<img src = \"https://drive.google.com/uc?id=1ZIOM2UXvwFJxueSjspWQbVC9OmsflQ_q\">\n",
        "\n",
        "\n",
        "####Expected Output\n",
        "<img src=\"https://drive.google.com/uc?id=1VBNEMl-E5wrnGnVrOKVHBkc_N14lzr9B\">"
      ]
    },
    {
      "cell_type": "code",
      "metadata": {
        "id": "826QNFWiq26v",
        "colab": {
          "base_uri": "https://localhost:8080/",
          "height": 86
        },
        "outputId": "1f5e5571-fdb4-471d-a1c4-bc88894e279f"
      },
      "source": [
        "class Point(object):\n",
        "  \"\"\"fbbddf\"\"\"\n",
        "print(type(Point))\n",
        "print('-'*70)\n",
        "blank=Point()\n",
        "print(blank)\n",
        "print('-'*70)"
      ],
      "execution_count": null,
      "outputs": [
        {
          "output_type": "stream",
          "text": [
            "<class 'type'>\n",
            "----------------------------------------------------------------------\n",
            "<__main__.Point object at 0x7f9d2d953a58>\n",
            "----------------------------------------------------------------------\n"
          ],
          "name": "stdout"
        }
      ]
    },
    {
      "cell_type": "markdown",
      "metadata": {
        "id": "JGqaZo-nt1_8"
      },
      "source": [
        "### Attributes\n",
        "\n",
        "<img src=\"https://drive.google.com/uc?id=1YIhMXlP730r8wpX7gjztG1Asy5dI1X_T\">\n",
        "\n",
        "#### Expected Output\n",
        "<img src=\"https://drive.google.com/uc?id=1ECrkgHvXNcI-31K6RjQ0ihxc5WEBv04W\">"
      ]
    },
    {
      "cell_type": "code",
      "metadata": {
        "id": "xguZiCussswo",
        "colab": {
          "base_uri": "https://localhost:8080/",
          "height": 86
        },
        "outputId": "1183b191-827b-4a5d-9ce0-3b6f98d64cb2"
      },
      "source": [
        "blank.x = 3.0\n",
        "blank.y = 4.0 \n",
        "print(f'value of attribute x of object blank is {blank.x}')\n",
        "y = blank.y\n",
        "print(f'value of attribute y of object blank is {y}') \n",
        "print('-'*70) \n",
        "distance = (blank.x**2 + blank.y**2)**(0.5)\n",
        "print(distance) "
      ],
      "execution_count": null,
      "outputs": [
        {
          "output_type": "stream",
          "text": [
            "value of attribute x of object blank is 3.0\n",
            "value of attribute y of object blank is 4.0\n",
            "----------------------------------------------------------------------\n",
            "5.0\n"
          ],
          "name": "stdout"
        }
      ]
    },
    {
      "cell_type": "markdown",
      "metadata": {
        "id": "07WaK7q12nml"
      },
      "source": [
        "### Rectangles\n",
        "Sometimes it is obvious what the attributes of an object should be. But other times it is not so. <br>\n",
        "For eg., suppose we have to create a class to represent Rectangles. What attributes would you use to specify the location and size of a rectangle? <br>Ignore angle for simplicity, assume rectangle is either horizontal or vertical.\n",
        "\n",
        "There are two possible representations we can use :\n",
        "- You could specify one corner of the rectangle (or the center), the width, and the height\n",
        "- You could specify two opposing corners\n",
        "\n",
        "It is not obvious which representation is better. So let us use the first one.\n",
        "\n",
        "<img src=\"https://drive.google.com/uc?id=1toy-zCkN5WWVVwdZ9Zji1VbSO9yr63jI\">\n",
        "\n",
        "<br>\n",
        "\n",
        "<img src=\"https://drive.google.com/uc?id=1emAtDb60jsjfQYXMQbZsz2SkBYE0CtaJ\">\n",
        "\n",
        "#### Expected Output\n",
        "<img src=\"https://drive.google.com/uc?id=1N88as4AOJDO5O6zsfKwNU08s3a-zVm0g\">\n",
        "\n"
      ]
    },
    {
      "cell_type": "code",
      "metadata": {
        "id": "1qkp-TiptGN3",
        "colab": {
          "base_uri": "https://localhost:8080/",
          "height": 34
        },
        "outputId": "62392e0f-9cac-44ab-c5ad-5e7fd2a2f732"
      },
      "source": [
        "class Rectangle(object):\n",
        "  \"\"\"Represents a rectangle \n",
        "  attributes: width, height, corner \n",
        "  \"\"\"\n",
        "box = Rectangle()\n",
        "box.width = 100.0\n",
        "box.height = 200.0\n",
        "box.corner = Point()\n",
        "box.corner.x = 0.0\n",
        "box.corner.y = 0.0 \n",
        "print(box.width, box.height)"
      ],
      "execution_count": null,
      "outputs": [
        {
          "output_type": "stream",
          "text": [
            "100.0 200.0\n"
          ],
          "name": "stdout"
        }
      ]
    },
    {
      "cell_type": "markdown",
      "metadata": {
        "id": "HKhTtm4FEvIb"
      },
      "source": [
        "### Methods\n",
        "Methods are functions with which you can interact with the object. <br>\n",
        "\n",
        "```__init__``` is a special method used to initialize data attributes <br>\n",
        "Python automatically calls this method each time a new object of a class is created. <br>\n",
        "\n",
        "<img src=\"https://drive.google.com/uc?id=1uuTw_Vsx96c5LQd7E2we8ioiDdKTxv12\">\n",
        "\n",
        "<br>\n",
        "\n",
        "#### Expected Output\n",
        "<img src=\"https://drive.google.com/uc?id=1xJEjoruPt59zYZrOu0wWyn_eKgk23_6X\">"
      ]
    },
    {
      "cell_type": "code",
      "metadata": {
        "id": "G5yYtL6I-noY",
        "colab": {
          "base_uri": "https://localhost:8080/",
          "height": 52
        },
        "outputId": "ddd1b9e8-4cf1-4c5b-f70a-cde8e6e6a5f0"
      },
      "source": [
        "class Point(object):\n",
        "  def __init__(self, x, y):\n",
        "    self.x = x\n",
        "    self.y = y \n",
        "p = Point(3, 4)\n",
        "origin = Point(0, 0)\n",
        "print(p.x)\n",
        "print(origin.y)"
      ],
      "execution_count": null,
      "outputs": [
        {
          "output_type": "stream",
          "text": [
            "3\n",
            "0\n"
          ],
          "name": "stdout"
        }
      ]
    },
    {
      "cell_type": "markdown",
      "metadata": {
        "id": "yCGh5q32SGlN"
      },
      "source": [
        "<img src=\"https://drive.google.com/uc?id=1AVdWZXl0cCVao8CbQbw-rviL_4CLa4H5\">\n",
        "\n",
        "<br>\n",
        "\n",
        "#### Expected Output:\n",
        "<img src=\"https://drive.google.com/uc?id=1eozKCGTXkmX75bF1Qyuk2BzhjakehiDF\">\n",
        "\n"
      ]
    },
    {
      "cell_type": "code",
      "metadata": {
        "id": "uejNE3hXHW6J",
        "colab": {
          "base_uri": "https://localhost:8080/",
          "height": 69
        },
        "outputId": "c7c84e5d-e655-4891-9f66-db9f4d0d1ac3"
      },
      "source": [
        "class Point(object):\n",
        "  def __init__(self, x, y):\n",
        "    self.x = x\n",
        "    self.y = y \n",
        "  def distance(self, other):\n",
        "    return ((self.x - other.x)**2 + (self.y - other.y)**2)**(0.5)\n",
        "p = Point(3, 4)\n",
        "origin = Point(0, 0) \n",
        "print(p.distance(origin))\n",
        "print ('-'*70)\n",
        "print(Point.distance(p, origin))"
      ],
      "execution_count": null,
      "outputs": [
        {
          "output_type": "stream",
          "text": [
            "5.0\n",
            "----------------------------------------------------------------------\n",
            "5.0\n"
          ],
          "name": "stdout"
        }
      ]
    },
    {
      "cell_type": "markdown",
      "metadata": {
        "id": "fDmnamWmSeDn"
      },
      "source": [
        "### Printing objects\n",
        "<img src = \"https://drive.google.com/uc?id=16t6JXwAsr4yOnnhlUE5t_AvtMTzzuAwj\">\n",
        "\n",
        "#### Expected Output\n",
        "<img src = \"https://drive.google.com/uc?id=1pPwWRSlI1G3bDpRuH4ln9mJALauwUye4\">"
      ]
    },
    {
      "cell_type": "code",
      "metadata": {
        "id": "MRNQbfMLHYwk",
        "colab": {
          "base_uri": "https://localhost:8080/",
          "height": 34
        },
        "outputId": "a7c619de-8528-4b8d-c8fc-20ff7c92a81e"
      },
      "source": [
        "print(p)"
      ],
      "execution_count": null,
      "outputs": [
        {
          "output_type": "stream",
          "text": [
            "<__main__.Point object at 0x7f9d2d088a58>\n"
          ],
          "name": "stdout"
        }
      ]
    },
    {
      "cell_type": "markdown",
      "metadata": {
        "id": "bulvCBOpS8NR"
      },
      "source": [
        "<img src=\"https://drive.google.com/uc?id=1FQjC5LAj0YSO-RyRhE3A5FmPF3jVO_Tw\">\n",
        "\n",
        "### Expected Output:\n",
        "<img src=\"https://drive.google.com/uc?id=1JC62RYWl9EvpdQaOR0UrMM2CW3mZZSh6\">"
      ]
    },
    {
      "cell_type": "code",
      "metadata": {
        "id": "KsdcDv3nKGWn",
        "colab": {
          "base_uri": "https://localhost:8080/",
          "height": 34
        },
        "outputId": "4ec3a9d3-1036-452d-a99e-f27af763aa77"
      },
      "source": [
        "class Point(object):\n",
        "  def __init__(self,x,y):\n",
        "    self.x=x\n",
        "    self.y=y\n",
        "  def distance(self,other):\n",
        "    return((self.x-other.x)**2+(self.y-other.y)**2)**(0.5)\n",
        "  def __str__(self):\n",
        "    return f'<{self.x},{self.y}>'\n",
        "p=Point(3,4)\n",
        "print(p)"
      ],
      "execution_count": null,
      "outputs": [
        {
          "output_type": "stream",
          "text": [
            "<3,4>\n"
          ],
          "name": "stdout"
        }
      ]
    },
    {
      "cell_type": "code",
      "metadata": {
        "id": "xM24zykGg6r6"
      },
      "source": [
        ""
      ],
      "execution_count": null,
      "outputs": []
    }
  ]
}