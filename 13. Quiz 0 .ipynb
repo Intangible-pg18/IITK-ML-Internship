{
  "nbformat": 4,
  "nbformat_minor": 0,
  "metadata": {
    "colab": {
      "name": "Copy of Prateek's Quiz 0.ipynb",
      "provenance": [],
      "collapsed_sections": []
    },
    "kernelspec": {
      "name": "python3",
      "display_name": "Python 3"
    }
  },
  "cells": [
    {
      "cell_type": "markdown",
      "metadata": {
        "id": "Lv5G81Y0e0Va"
      },
      "source": [
        "# Q. Type Compare\n",
        "Write a function that takes any two python objects $a$ and $b$ and returns boolean value ```True``` if they are of the same type and returns ```False``` otherwise"
      ]
    },
    {
      "cell_type": "code",
      "metadata": {
        "id": "Azk7sJ74eeCo"
      },
      "source": [
        "def type_comparator(a, b):\n",
        "  \"\"\"\n",
        "  Inputs:\n",
        "    a: any python object\n",
        "    b: any python object\n",
        "\n",
        "  Outputs:\n",
        "    z: boolean value, True if type of a and type of b are equal; False otherwise\n",
        "  \"\"\"\n",
        "  z=type(a)==type(b)\n",
        "\n",
        "  return z"
      ],
      "execution_count": null,
      "outputs": []
    },
    {
      "cell_type": "markdown",
      "metadata": {
        "id": "UJ62IBmilirG"
      },
      "source": [
        "#Q. Radioactive Decay\n",
        "$m(t) = m_0 e^{-\\lambda t}$ is the expression to compute mass at time t of a radioactive isotope that decays with average lifetime $\\tau$. \\\\\n",
        "Also $\\tau = \\frac{1}{\\lambda}$\n",
        "Given $m_0, \\tau$ and $t$ write a function that computes $m(t)$"
      ]
    },
    {
      "cell_type": "code",
      "metadata": {
        "id": "a0T1Amhyq9Pl"
      },
      "source": [
        "from math import exp\n",
        "def m_t_rad_decay(m_0, tau, t):\n",
        "  \"\"\"\n",
        "  Inputs:\n",
        "    m_0 : Float, mass of initial radioactive material in g\n",
        "    tau : Float, average lifetime in seconds\n",
        "    t : Time elapsed in seconds\n",
        "\n",
        "  Ouptus:\n",
        "    m_t : Float, mass of radioactive material at time t\n",
        "  \"\"\"\n",
        "  m_t=m_0*exp((-1/tau)*t)\n",
        "\n",
        "  return m_t"
      ],
      "execution_count": null,
      "outputs": []
    },
    {
      "cell_type": "markdown",
      "metadata": {
        "id": "QUDRS0GKjGUn"
      },
      "source": [
        "#Q. Parametrized Pattern\n",
        "Write a function that takes a character ```s```, number of rows and number of columns and returns a string that when printed looks like this (Here, the string ```s``` is ```'a'```, number of rows is 4, number of columns is 3)  \\\\\n",
        "<img src = \"https://drive.google.com/uc?id=1KYkpsrztLbScMmNc9q_lDiTEM-kK03zX\">"
      ]
    },
    {
      "cell_type": "code",
      "metadata": {
        "id": "VXkit39Jelv8"
      },
      "source": [
        "def pattern_gen(s, rows, cols):\n",
        "  \"\"\"\n",
        "  Inputs:\n",
        "    s : string of length 1, character that will be repeated in the pattern\n",
        "    rows: int, Number of cells in a row\n",
        "    cos : int, Number of cells in a column\n",
        "  \n",
        "  Outputs:\n",
        "    pattern: string, contains the pattern string\n",
        "  \"\"\"\n",
        "  pattern=''\n",
        "  c=-1\n",
        "  st='|'+s*rows\n",
        "  st=st*cols\n",
        "  st=st+'|'\n",
        "  strr='|'+'-'*rows\n",
        "  strr=strr*cols\n",
        "  strr=strr+'|'\n",
        "  for i in range(0,(rows*2)+rows+1):\n",
        "    c+=1\n",
        "    if(c%3==0):\n",
        "      pattern=pattern+strr+'\\n'\n",
        "    else:\n",
        "      pattern=pattern+st+'\\n'\n",
        "\n",
        "  return pattern\n",
        "  "
      ],
      "execution_count": null,
      "outputs": []
    }
  ]
}