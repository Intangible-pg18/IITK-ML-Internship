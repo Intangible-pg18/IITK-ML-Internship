{
  "nbformat": 4,
  "nbformat_minor": 0,
  "metadata": {
    "colab": {
      "name": "Part_C_A4.ipynb",
      "provenance": [],
      "collapsed_sections": []
    },
    "kernelspec": {
      "name": "python3",
      "display_name": "Python 3"
    }
  },
  "cells": [
    {
      "cell_type": "code",
      "metadata": {
        "id": "36h0SF5-1_Yx",
        "colab": {
          "base_uri": "https://localhost:8080/",
          "height": 67
        },
        "outputId": "53badcfe-14f7-4b49-93f8-fe88fed03de1"
      },
      "source": [
        "##PART C\n",
        "starting_salary = int(input(\"Enter the starting salary: \"))\n",
        "semi_annual_rise = 0.07\n",
        "annual_return = 0.04\n",
        "total_cost = 1000000\n",
        "down_payment = total_cost * 0.25\n",
        "months = 36\n",
        "min_rate = 0        \n",
        "max_rate = 10000    \n",
        "portion_saved = int((max_rate + min_rate) / 2)\n",
        "steps = 0\n",
        "boolean = False\n",
        "while abs(min_rate - max_rate) > 1:\n",
        "  steps += 1\n",
        "  annual_salary = starting_salary\n",
        "  monthly_saved = (annual_salary / 12.0) * (portion_saved / 10000)\n",
        "  current_savings = 0.0\n",
        "  for i in range(1, months + 1):\n",
        "    monthly_return = current_savings * (annual_return / 12)\n",
        "    current_savings += monthly_return + monthly_saved\n",
        "    if (abs(current_savings - down_payment) < 100):\n",
        "      min_rate = max_rate\n",
        "      boolean = True\n",
        "      break\n",
        "    elif (current_savings > down_payment + 100):\n",
        "      break\n",
        "    if (i % 6 == 0):\n",
        "      annual_salary += annual_salary * semi_annual_rise\n",
        "      monthly_saved = (annual_salary / 12.0) * (portion_saved / 10000)\n",
        "  if (current_savings < down_payment - 100):\n",
        "    min_rate = portion_saved\n",
        "  elif (current_savings > down_payment + 100):\n",
        "    max_rate = portion_saved\n",
        "  portion_saved = int((max_rate + min_rate) / 2)\n",
        "if (boolean==True):\n",
        "    print(\"Best savings rate:\", portion_saved / 10000)\n",
        "    print(\"Steps in bisection search\", steps)\n",
        "else:\n",
        "    print(\"Is is not possible to pay the down payment in three years\")"
      ],
      "execution_count": null,
      "outputs": [
        {
          "output_type": "stream",
          "text": [
            "Enter the starting salary: 150000\n",
            "Best savings rate: 0.4414\n",
            "Steps in bisection search 12\n"
          ],
          "name": "stdout"
        }
      ]
    }
  ]
}