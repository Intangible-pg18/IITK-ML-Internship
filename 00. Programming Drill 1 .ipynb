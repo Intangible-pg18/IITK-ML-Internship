{
  "nbformat": 4,
  "nbformat_minor": 0,
  "metadata": {
    "colab": {
      "name": "Copy of programming_drill_1.ipynb",
      "provenance": [],
      "collapsed_sections": []
    },
    "kernelspec": {
      "name": "python3",
      "display_name": "Python 3"
    }
  },
  "cells": [
    {
      "cell_type": "markdown",
      "metadata": {
        "id": "GNJbDM4HV9J8"
      },
      "source": [
        "1. Write exercises into this notebook. \n",
        "2. Run the exercises you wrote. Make sure they match the expected output.\n",
        "3. Fix them when they are broken. \n",
        "4. Repeat."
      ]
    },
    {
      "cell_type": "markdown",
      "metadata": {
        "id": "QoXNSVtrVgvb"
      },
      "source": [
        "## Drill #1 - Intro to print<br>\n",
        "<img src=\"https://drive.google.com/uc?id=1HCwzFtQKoV3fZYK4_Eo9P-CApIL8geQi\" width=\"300\"> \n",
        "#### Expected output\n",
        "<img src=\"https://drive.google.com/uc?id=1tAXjMEO7BBHLZepK1Zgiy1G6S1NHCPKY\" width=\"200\">\n"
      ]
    },
    {
      "cell_type": "code",
      "metadata": {
        "id": "3O3pXk93BMlV",
        "colab": {
          "base_uri": "https://localhost:8080/",
          "height": 118
        },
        "outputId": "12f6b5fa-11ae-4574-d573-d8f176421c1d"
      },
      "source": [
        "print(\"Hello World!\")\n",
        "print(\"Hello Again\")\n",
        "print(\"This is an AI course\")\n",
        "print(\"This is fun\")\n",
        "print(\"It is 'apparently' illusory.\")\n",
        "print('He told me, \"You got this!\"')"
      ],
      "execution_count": null,
      "outputs": [
        {
          "output_type": "stream",
          "text": [
            "Hello World!\n",
            "Hello Again\n",
            "This is an AI course\n",
            "This is fun\n",
            "It is 'apparently' illusory.\n",
            "He told me, \"You got this!\"\n"
          ],
          "name": "stdout"
        }
      ]
    },
    {
      "cell_type": "markdown",
      "metadata": {
        "id": "1dq3VrP8Xil8"
      },
      "source": [
        "#### 1.2 Make your script print another line"
      ]
    },
    {
      "cell_type": "code",
      "metadata": {
        "id": "558jwU0CCHYG",
        "colab": {
          "base_uri": "https://localhost:8080/",
          "height": 34
        },
        "outputId": "b06c90dd-a3cd-4ac5-c695-7322f3407748"
      },
      "source": [
        "print(\"Another Line\")"
      ],
      "execution_count": null,
      "outputs": [
        {
          "output_type": "stream",
          "text": [
            "Another Line\n"
          ],
          "name": "stdout"
        }
      ]
    },
    {
      "cell_type": "markdown",
      "metadata": {
        "id": "MCra17UCXslF"
      },
      "source": [
        "# Drill #2 - Comments <br>\n",
        "<img src=\"https://drive.google.com/uc?id=1SUDq-JoqLdajc03i9Ag76GIpTUeJliW1\" width=\"500\">\n",
        "\n",
        "#### Expected Output\n",
        "<img src=\"https://drive.google.com/uc?id=1ym7NnsNgRJJ6gKsM0IIu1mA7PC63Kb9T\" width=\"250\">"
      ]
    },
    {
      "cell_type": "code",
      "metadata": {
        "id": "19pWn_d0Xrad",
        "colab": {
          "base_uri": "https://localhost:8080/",
          "height": 50
        },
        "outputId": "19094a6e-15e1-42b9-8282-79245adfaf6e"
      },
      "source": [
        "# A comment, this is so you can read your program later.\n",
        "# Anything after the # is ignored by python.\n",
        "\n",
        "print(\"I could have code like this.\") # and the comment after is ignored\n",
        "\n",
        "# You can also use a comment to \"disable\" or comment out code:\n",
        "# print(\"This won't run.\")\n",
        "\n",
        "print(\"This will run.\")"
      ],
      "execution_count": null,
      "outputs": [
        {
          "output_type": "stream",
          "text": [
            "I could have code like this.\n",
            "This will run.\n"
          ],
          "name": "stdout"
        }
      ]
    },
    {
      "cell_type": "markdown",
      "metadata": {
        "id": "gvjj1NTNaFeN"
      },
      "source": [
        "### 2.1 \n",
        "Start at the last line, and check each word in reverse against what you should have typed. If you find more mistakes, fix them. (This is a trick to make sure you do not attach meaning to any part of code and are able to look at each piece exactly. It is a handy trick to catch errors)"
      ]
    },
    {
      "cell_type": "code",
      "metadata": {
        "id": "aCNK7PxIXzDX",
        "colab": {
          "base_uri": "https://localhost:8080/",
          "height": 50
        },
        "outputId": "cdc8017c-6a40-443f-9876-8f90f5db2fbf"
      },
      "source": [
        "print(\"sihT lliw nur.\")\n",
        "#print(\"sihT t'now nur.\")\n",
        "print(\"I dluoc evah edoc ekil siht.\")"
      ],
      "execution_count": null,
      "outputs": [
        {
          "output_type": "stream",
          "text": [
            "sihT lliw nur.\n",
            "I dluoc evah edoc ekil siht.\n"
          ],
          "name": "stdout"
        }
      ]
    },
    {
      "cell_type": "markdown",
      "metadata": {
        "id": "myAZjSq4awLj"
      },
      "source": [
        "### 2.2 \n",
        "Read what you typed above out loud, including saying each character by its name. If you find more mistakes, fix them."
      ]
    },
    {
      "cell_type": "code",
      "metadata": {
        "id": "fKX_ltdFZhgu"
      },
      "source": [
        "## Write your code here"
      ],
      "execution_count": null,
      "outputs": []
    },
    {
      "cell_type": "markdown",
      "metadata": {
        "id": "SVIoH6EE1ZoH"
      },
      "source": [
        "# Drill #3 - Mathematical operations\n",
        "Type in the following code exactly before you run it. <br><br>\n",
        "<img src=\"https://drive.google.com/uc?id=1FvLTSNJ84Da_KHSczhxg0Q0Wgf7Z3DDa\" width=\"400\"><br>\n",
        "#### Expected Output\n",
        "<img src=\"https://drive.google.com/uc?id=1NulYhDSBqL3-7EzbYwSl5RaHHaZIvB73\" width=\"200\">"
      ]
    },
    {
      "cell_type": "code",
      "metadata": {
        "id": "4mGB9iw_1cP5",
        "colab": {
          "base_uri": "https://localhost:8080/",
          "height": 218
        },
        "outputId": "3bdcbf53-7f96-46ab-a266-2b60680a9850"
      },
      "source": [
        "print(\"I will count the number of fruits:\")\n",
        "\n",
        "print(\"Apples\", 34 + 26/2)\n",
        "print(\"Mangoes\", 100 - 25 * 3 % 4)\n",
        "\n",
        "print(\"Now I will count the vegetables:\")\n",
        "print(3+2+1-5+4%2-1/4+6)\n",
        "\n",
        "print(\"Is it true that 3+2<5-7?\")\n",
        "print(3+2<5-7)\n",
        "\n",
        "print(\"What is 3*2?\", 3*2)\n",
        "print(\"What is 5-7?\", 5-7)\n",
        "\n",
        "print(\"Is it greater?\", 5>-2)\n",
        "print(\"Is it greater or equal?\", 5>=-2)\n",
        "print(\"Is it less or equal?\", 5<=-2)"
      ],
      "execution_count": null,
      "outputs": [
        {
          "output_type": "stream",
          "text": [
            "I will count the number of fruits:\n",
            "Apples 47.0\n",
            "Mangoes 97\n",
            "Now I will count the vegetables:\n",
            "6.75\n",
            "Is it true that 3+2<5-7?\n",
            "False\n",
            "What is 3*2? 6\n",
            "What is 5-7? -2\n",
            "Is it greater? True\n",
            "Is it greater or equal? True\n",
            "Is it less or equal? False\n"
          ],
          "name": "stdout"
        }
      ]
    },
    {
      "cell_type": "markdown",
      "metadata": {
        "id": "70z8KFY84v7K"
      },
      "source": [
        "### 3.1 \n",
        "Find something you need to calculate and write the code that does it."
      ]
    },
    {
      "cell_type": "code",
      "metadata": {
        "id": "bSWEB1vV3JvF",
        "colab": {
          "base_uri": "https://localhost:8080/",
          "height": 34
        },
        "outputId": "63e7f004-4848-4e7d-a115-6b8e6e0313b4"
      },
      "source": [
        "print(\"Python what is 2/3 ?\", '%.2f'%(2/3))"
      ],
      "execution_count": null,
      "outputs": [
        {
          "output_type": "stream",
          "text": [
            "Python what is 2/3 ? 0.67\n"
          ],
          "name": "stdout"
        }
      ]
    },
    {
      "cell_type": "markdown",
      "metadata": {
        "id": "TE_URpDk5IZg"
      },
      "source": [
        "### 3.2 \n",
        "You can use parentheses to change the order of operations. For eg., 2 + (3 * 5) is different from (2 + 3)*5. <br> Play with parentheses to see how the results change."
      ]
    },
    {
      "cell_type": "code",
      "metadata": {
        "id": "-H6gAYG55qBj",
        "colab": {
          "base_uri": "https://localhost:8080/",
          "height": 50
        },
        "outputId": "6db0d822-4063-40a3-a823-780b0bd39920"
      },
      "source": [
        "print(\"Answer of 2+(3*5) is different from that of (2+3)*5.\\n\",2+(3*5),\" \",(2+3)*5)"
      ],
      "execution_count": null,
      "outputs": [
        {
          "output_type": "stream",
          "text": [
            "Answer of 2+(3*5) is different from that of (2+3)*5.\n",
            " 17   25\n"
          ],
          "name": "stdout"
        }
      ]
    },
    {
      "cell_type": "markdown",
      "metadata": {
        "id": "AMRJ75_JY8Ep"
      },
      "source": [
        "#Drill #4 - Variables\n",
        "<img src=\"https://drive.google.com/uc?id=1k2pTmgJ6pwKqC8xY9GQg83qfKry8TUci\" width=\"400\">\n",
        "\n",
        "### Expected Output\n",
        "<img src=\"https://drive.google.com/uc?id=1GjRjri4bjr7rEgq8hKwZ2fWDH6ld3EOU\" width=\"300\">"
      ]
    },
    {
      "cell_type": "markdown",
      "metadata": {
        "id": "A5j13VELdoV9"
      },
      "source": [
        "###4.1 \n",
        "Check what happens if you use 50.0 instead of 50 for capacity_classroom. (Decimal numbers such as 50.0 are called floating point numbers)\n"
      ]
    },
    {
      "cell_type": "code",
      "metadata": {
        "id": "1x0QH2NecBEc",
        "colab": {
          "base_uri": "https://localhost:8080/",
          "height": 118
        },
        "outputId": "352d1ea6-6cbf-4b50-8e2d-7c4863445ed0"
      },
      "source": [
        "classrooms=20\n",
        "capacity_classroom=50.0\n",
        "students=250\n",
        "teachers=30\n",
        "max_students=classrooms*capacity_classroom\n",
        "classrooms_not_used=classrooms-students/capacity_classroom\n",
        "average_students_per_teacher=students/teachers\n",
        "print(\"There are\", classrooms, \"classrooms available\")\n",
        "print(\"There are only\",students,\"students available\")\n",
        "print(\"A maximum of \",max_students, \"students can be accomodated in the school\")\n",
        "print(\"There will be\", classrooms_not_used, \"empty classrooms in the school\")\n",
        "print(\"There are\", teachers, \"teachers available to teach\")\n",
        "print(\"Every teacher takes care of about\", average_students_per_teacher, \"students\")"
      ],
      "execution_count": null,
      "outputs": [
        {
          "output_type": "stream",
          "text": [
            "There are 20 classrooms available\n",
            "There are only 250 students available\n",
            "A maximum of  1000.0 students can be accomodated in the school\n",
            "There will be 15.0 empty classrooms in the school\n",
            "There are 30 teachers available to teach\n",
            "Every teacher takes care of about 8.333333333333334 students\n"
          ],
          "name": "stdout"
        }
      ]
    },
    {
      "cell_type": "markdown",
      "metadata": {
        "id": "Lf5cNYOBh1dz"
      },
      "source": [
        "###4.2\n",
        "Add a comment before each line in the code to describe what that line of code is doing in plain english."
      ]
    },
    {
      "cell_type": "code",
      "metadata": {
        "id": "AYE9BvA5cTxC",
        "colab": {
          "base_uri": "https://localhost:8080/",
          "height": 118
        },
        "outputId": "27f976ba-1acc-4a76-d4bd-47f3923679f1"
      },
      "source": [
        "classrooms=20\n",
        "capacity_classroom=50.0\n",
        "students=250\n",
        "teachers=30\n",
        "max_students=classrooms*capacity_classroom\n",
        "classrooms_not_used=classrooms-students/capacity_classroom\n",
        "average_students_per_teacher=students/teachers\n",
        "#printing number of available classrooms\n",
        "print(\"There are\", classrooms, \"classrooms available\")\n",
        "#printing number of students available\n",
        "print(\"There are only\",students,\"students available\")\n",
        "#printing number of students that can be accomodated in the school\n",
        "print(\"A maximum of \",max_students, \"students can be accomodated in the school\")\n",
        "#printing number of empty classrooms in the school\n",
        "print(\"There will be\", classrooms_not_used, \"empty classrooms in the school\")\n",
        "#printing number of teachers available to teach\n",
        "print(\"There are\", teachers, \"teachers available to teach\")\n",
        "#printing number of students taken care of by each teacher\n",
        "print(\"Every teacher takes care of about\", average_students_per_teacher, \"students\")"
      ],
      "execution_count": null,
      "outputs": [
        {
          "output_type": "stream",
          "text": [
            "There are 20 classrooms available\n",
            "There are only 250 students available\n",
            "A maximum of  1000.0 students can be accomodated in the school\n",
            "There will be 15.0 empty classrooms in the school\n",
            "There are 30 teachers available to teach\n",
            "Every teacher takes care of about 8.333333333333334 students\n"
          ],
          "name": "stdout"
        }
      ]
    }
  ]
}