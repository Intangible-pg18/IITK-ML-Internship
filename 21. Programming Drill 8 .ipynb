{
  "nbformat": 4,
  "nbformat_minor": 0,
  "metadata": {
    "colab": {
      "name": "Copy of Programming drill numpy.ipynb",
      "provenance": [],
      "collapsed_sections": []
    },
    "kernelspec": {
      "name": "python3",
      "display_name": "Python 3"
    }
  },
  "cells": [
    {
      "cell_type": "markdown",
      "metadata": {
        "id": "sSXKsacoHIBG"
      },
      "source": [
        "#Drill #29\n",
        "\n",
        "<img src=\"https://drive.google.com/uc?id=109gQ0yPiTdJ6cBQiL1zyKiH2MD5LKTET\" width=\"700\">\n",
        "\n",
        "# Expected Output\n",
        "<img src=\"https://drive.google.com/uc?id=1BhfG7oMzjDH685GbvW2h8b3bKhqkQeSC\" width=\"700\">\n"
      ]
    },
    {
      "cell_type": "code",
      "metadata": {
        "id": "hdlehAyUCXL4",
        "colab": {
          "base_uri": "https://localhost:8080/",
          "height": 173
        },
        "outputId": "f719bad2-678f-43a2-bfc7-ff4c775ea898"
      },
      "source": [
        "import numpy as np\n",
        "a = np.array([0, 1, 2, 3])\n",
        "print('1-D array:', a)\n",
        "print('array of numbers from 0 to 9:', np.arange(10))\n",
        "print('-'*70)\n",
        "b = np.array([[0, 1, 2],[3, 4, 5]])\n",
        "print('2-D array:\\n', b)\n",
        "print('shape of b:', b.shape)\n",
        "print('-'*70)\n",
        "c = np.random.rand(4)\n",
        "print('array with random samples:', c) "
      ],
      "execution_count": null,
      "outputs": [
        {
          "output_type": "stream",
          "text": [
            "1-D array: [0 1 2 3]\n",
            "array of numbers from 0 to 9: [0 1 2 3 4 5 6 7 8 9]\n",
            "----------------------------------------------------------------------\n",
            "2-D array:\n",
            " [[0 1 2]\n",
            " [3 4 5]]\n",
            "shape of b: (2, 3)\n",
            "----------------------------------------------------------------------\n",
            "array with random samples: [0.35095179 0.13108597 0.60087773 0.39938952]\n"
          ],
          "name": "stdout"
        }
      ]
    },
    {
      "cell_type": "markdown",
      "metadata": {
        "id": "4F267pLbK3jh"
      },
      "source": [
        "# Drill #30\n",
        "\n",
        "\n",
        "<img src=\"https://drive.google.com/uc?id=1y7J8HlclDc_200W1oYBVtr3l-66B_2hv\" width=\"700\">\n",
        "\n",
        "# Expected Output\n",
        "<img src=\"https://drive.google.com/uc?id=1HPkRafcIsT7vLp8_2rR5blhjblQZJ450\" width=\"600\">"
      ]
    },
    {
      "cell_type": "code",
      "metadata": {
        "id": "zmcSkXYUGK7m",
        "colab": {
          "base_uri": "https://localhost:8080/",
          "height": 295
        },
        "outputId": "bdc4ac03-45a2-49ea-9305-487cb9ad6fe1"
      },
      "source": [
        "a = np.identity(5)\n",
        "print('5th row in the 2-d array is:', a[4, :])\n",
        "a[2, 4] = 100\n",
        "print(a)\n",
        "print('-'*70)\n",
        "b = np.arange(20)\n",
        "print(b[1:18:2])\n",
        "print('-'*70)\n",
        "a = np.array([1, 2, 3, 4])\n",
        "print(a + 1)\n",
        "print(a**2)\n",
        "print('-'*70)\n",
        "c = np.diag([1, 2, 3, 4])\n",
        "d = np.ones(4) + 1\n",
        "print(c * d) "
      ],
      "execution_count": null,
      "outputs": [
        {
          "output_type": "stream",
          "text": [
            "5th row in the 2-d array is: [0. 0. 0. 0. 1.]\n",
            "[[  1.   0.   0.   0.   0.]\n",
            " [  0.   1.   0.   0.   0.]\n",
            " [  0.   0.   1.   0. 100.]\n",
            " [  0.   0.   0.   1.   0.]\n",
            " [  0.   0.   0.   0.   1.]]\n",
            "----------------------------------------------------------------------\n",
            "[ 1  3  5  7  9 11 13 15 17]\n",
            "----------------------------------------------------------------------\n",
            "[2 3 4 5]\n",
            "[ 1  4  9 16]\n",
            "----------------------------------------------------------------------\n",
            "[[2. 0. 0. 0.]\n",
            " [0. 4. 0. 0.]\n",
            " [0. 0. 6. 0.]\n",
            " [0. 0. 0. 8.]]\n"
          ],
          "name": "stdout"
        }
      ]
    },
    {
      "cell_type": "markdown",
      "metadata": {
        "id": "xtQLxgEOeVES"
      },
      "source": [
        "# Drill #31\n",
        "\n",
        "<img src=\"https://drive.google.com/uc?id=1MEhGhXS_OC1ZisPbEGQonYcoadzvlKZZ\" width=\"700\">\n",
        "<img src=\"https://drive.google.com/uc?id=1R24HyNqLMt8j5u3pABKpGlCDnjgUqrX9\" width=\"1000\">\n",
        "\n",
        "\n",
        "# Expected Output\n",
        "<img src=\"https://drive.google.com/uc?id=1eqiocySYtWeWuD7NV8plOjubjg0waTRC\" width=\"700\">"
      ]
    },
    {
      "cell_type": "code",
      "metadata": {
        "id": "2IO8RVDALpWq",
        "colab": {
          "base_uri": "https://localhost:8080/",
          "height": 469
        },
        "outputId": "17bf50b3-9791-47ac-c001-d63a43995b9d"
      },
      "source": [
        "a = np.array([1, 2, 3, 4])\n",
        "b = np.array([4, 2, 3, 5])\n",
        "print(a >= b)\n",
        "print(np.array_equal(a, b))\n",
        "print('-'*70)\n",
        "c = np.arange(1, 5)\n",
        "print(np.sin(c))\n",
        "print(np.log(c))\n",
        "print('-'*70)\n",
        "x = np.array([1, 2, 3, 4])\n",
        "print(np.sum(x))\n",
        "x = np.array([[1, 2, 3], [4, 5, 6]])\n",
        "print(x.sum(axis=0))\n",
        "print(x.sum(axis=1))\n",
        "print('-'*70)\n",
        "x = np.array([2, 1, 3, 0, 6, 2, 9, 7, 4, 3])\n",
        "print('min value:', a.min())\n",
        "print('max value:', a.max())\n",
        "print('min value index:', a.argmin())\n",
        "print('max value index:', a.argmax())\n",
        "print('mean of x:' , x.mean())\n",
        "print('median of x:',np.median(x))\n",
        "print('standard deviation of x:', x.std())\n",
        "print('-'*70)\n",
        "a = np.array([[1, 2, 3], [4, 5, 6]])\n",
        "print(a.ravel())\n",
        "b = a.reshape((3, 2))\n",
        "print(b)\n",
        "print(f'shape of a is {a.shape} and shape of b is {b.shape}')\n",
        "print('-'*70)\n",
        "a = np.array([[5, 4, 6], [2, 3, 2]])\n",
        "b = np.sort(a, axis=1)\n",
        "print(b)"
      ],
      "execution_count": null,
      "outputs": [
        {
          "output_type": "stream",
          "text": [
            "[False  True  True False]\n",
            "False\n",
            "----------------------------------------------------------------------\n",
            "[ 0.84147098  0.90929743  0.14112001 -0.7568025 ]\n",
            "[0.         0.69314718 1.09861229 1.38629436]\n",
            "----------------------------------------------------------------------\n",
            "10\n",
            "[5 7 9]\n",
            "[ 6 15]\n",
            "----------------------------------------------------------------------\n",
            "min value: 1\n",
            "max value: 4\n",
            "min value index: 0\n",
            "max value index: 3\n",
            "mean of x: 3.7\n",
            "median of x: 3.0\n",
            "standard deviation of x: 2.6851443164195103\n",
            "----------------------------------------------------------------------\n",
            "[1 2 3 4 5 6]\n",
            "[[1 2]\n",
            " [3 4]\n",
            " [5 6]]\n",
            "shape of a is (2, 3) and shape of b is (3, 2)\n",
            "----------------------------------------------------------------------\n",
            "[[4 5 6]\n",
            " [2 2 3]]\n"
          ],
          "name": "stdout"
        }
      ]
    },
    {
      "cell_type": "markdown",
      "metadata": {
        "id": "nP9COzuBUOnj"
      },
      "source": [
        "##Drill #32\n",
        "<img src=\"https://drive.google.com/uc?id=11LGUssKKIP6RSXx_fnMWMMMxrOLoLQu2\" width=\"800\">\n",
        "\n",
        "###Expected Output\n",
        "<img src=\"https://drive.google.com/uc?id=17R7LrG_YhIIYJKpxKjKsLm22gt4jYtHn\" width=\"600\">\n"
      ]
    },
    {
      "cell_type": "code",
      "metadata": {
        "id": "_hEFZA4yVHCq",
        "colab": {
          "base_uri": "https://localhost:8080/",
          "height": 330
        },
        "outputId": "ffd0da30-319e-43b3-c715-014cb0f776c1"
      },
      "source": [
        "import numpy as np \n",
        "a1 = np.arange(1, 7).reshape(2, 3)\n",
        "a2 = np.arange(1, 7).reshape(2, 3) * 10\n",
        "print('a1: \\n', a1, '\\n a2: \\n', a2) \n",
        "print('-' * 70)\n",
        "a_horizontally_stacked = np.hstack([a1, a2]) \n",
        "print('Horizontal stacking: \\n', a_horizontally_stacked) \n",
        "print('Shape of array after horizontal stacking: ', a_horizontally_stacked.shape) \n",
        "print('-' * 70) \n",
        "a_vertically_stacked = np.vstack([a1, a2]) \n",
        "print('Vertical stacking: \\n', a_vertically_stacked) \n",
        "print('Shape of array after vertical stacking: ', a_vertically_stacked.shape) "
      ],
      "execution_count": null,
      "outputs": [
        {
          "output_type": "stream",
          "text": [
            "a1: \n",
            " [[1 2 3]\n",
            " [4 5 6]] \n",
            " a2: \n",
            " [[10 20 30]\n",
            " [40 50 60]]\n",
            "----------------------------------------------------------------------\n",
            "Horizontal stacking: \n",
            " [[ 1  2  3 10 20 30]\n",
            " [ 4  5  6 40 50 60]]\n",
            "Shape of array after horizontal stacking:  (2, 6)\n",
            "----------------------------------------------------------------------\n",
            "Vertical stacking: \n",
            " [[ 1  2  3]\n",
            " [ 4  5  6]\n",
            " [10 20 30]\n",
            " [40 50 60]]\n",
            "Shape of array after vertical stacking:  (4, 3)\n"
          ],
          "name": "stdout"
        }
      ]
    },
    {
      "cell_type": "code",
      "metadata": {
        "id": "4t3luddD4NSG"
      },
      "source": [
        ""
      ],
      "execution_count": null,
      "outputs": []
    }
  ]
}